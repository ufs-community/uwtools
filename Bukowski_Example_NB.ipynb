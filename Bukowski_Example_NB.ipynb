{
 "cells": [
  {
   "cell_type": "code",
   "execution_count": 19,
   "id": "ad3a153d-4529-4ec5-9ba7-2e816417ee8e",
   "metadata": {},
   "outputs": [],
   "source": [
    "from uwtools.api import config"
   ]
  },
  {
   "cell_type": "code",
   "execution_count": 20,
   "id": "37367a2c-365b-4347-8aef-aa1ace8381ff",
   "metadata": {},
   "outputs": [
    {
     "name": "stdout",
     "output_type": "stream",
     "text": [
      "Help on function compare in module uwtools.api.config:\n",
      "\n",
      "compare(config_1_path: Union[pathlib.Path, str], config_2_path: Union[pathlib.Path, str], config_1_format: Optional[str] = None, config_2_format: Optional[str] = None) -> bool\n",
      "    Compare two config files.\n",
      "\n",
      "    Recognized file extensions are: ini, nml, sh, yaml\n",
      "\n",
      "    :param config_1_path: Path to 1st config file\n",
      "    :param config_2_path: Path to 2nd config file\n",
      "    :param config_1_format: Format of 1st config file (optional if file's extension is recognized)\n",
      "    :param config_2_format: Format of 2nd config file (optional if file's extension is recognized)\n",
      "    :return: ``False`` if config files had differences, otherwise ``True``\n",
      "\n"
     ]
    }
   ],
   "source": [
    "help(config.compare)"
   ]
  },
  {
   "cell_type": "code",
   "execution_count": 21,
   "id": "ebaeec81-083b-4647-8551-02320c0128f3",
   "metadata": {},
   "outputs": [
    {
     "data": {
      "text/plain": [
       "True"
      ]
     },
     "execution_count": 21,
     "metadata": {},
     "output_type": "execute_result"
    }
   ],
   "source": [
    "config.compare('config_test_file_a.nml','config_test_file_b.nml',None,None)\n",
    "\n",
    "\n"
   ]
  },
  {
   "cell_type": "code",
   "execution_count": 22,
   "id": "d91c3e77",
   "metadata": {},
   "outputs": [
    {
     "data": {
      "text/plain": [
       "False"
      ]
     },
     "execution_count": 22,
     "metadata": {},
     "output_type": "execute_result"
    }
   ],
   "source": [
    "config.compare('config_test_file_a.nml','config_test_file_c.nml',None,None)"
   ]
  },
  {
   "cell_type": "code",
   "execution_count": 23,
   "id": "1ab7e8fe",
   "metadata": {},
   "outputs": [
    {
     "ename": "UWConfigError",
     "evalue": "Cannot instantiate depth-2 NMLConfig with depth-1 config",
     "output_type": "error",
     "traceback": [
      "\u001b[0;31m---------------------------------------------------------------------------\u001b[0m",
      "\u001b[0;31mUWConfigError\u001b[0m                             Traceback (most recent call last)",
      "Cell \u001b[0;32mIn[23], line 1\u001b[0m\n\u001b[0;32m----> 1\u001b[0m config\u001b[38;5;241m.\u001b[39mcompare(\u001b[38;5;124m'\u001b[39m\u001b[38;5;124mconfig_test_file_a.nml\u001b[39m\u001b[38;5;124m'\u001b[39m,\u001b[38;5;124m'\u001b[39m\u001b[38;5;124mconfig_test_file_empty.nml\u001b[39m\u001b[38;5;124m'\u001b[39m,\u001b[38;5;28;01mNone\u001b[39;00m,\u001b[38;5;28;01mNone\u001b[39;00m)\n",
      "File \u001b[0;32m~/Documents/NOAA_Independent_Study/uwtools/src/uwtools/api/config.py:34\u001b[0m, in \u001b[0;36mcompare\u001b[0;34m(config_1_path, config_2_path, config_1_format, config_2_format)\u001b[0m\n\u001b[1;32m     25\u001b[0m \u001b[38;5;28;01mdef\u001b[39;00m \u001b[38;5;21mcompare\u001b[39m(\n\u001b[1;32m     26\u001b[0m     config_1_path: Union[Path, \u001b[38;5;28mstr\u001b[39m],\n\u001b[1;32m     27\u001b[0m     config_2_path: Union[Path, \u001b[38;5;28mstr\u001b[39m],\n\u001b[1;32m     28\u001b[0m     config_1_format: Optional[\u001b[38;5;28mstr\u001b[39m] \u001b[38;5;241m=\u001b[39m \u001b[38;5;28;01mNone\u001b[39;00m,\n\u001b[1;32m     29\u001b[0m     config_2_format: Optional[\u001b[38;5;28mstr\u001b[39m] \u001b[38;5;241m=\u001b[39m \u001b[38;5;28;01mNone\u001b[39;00m,\n\u001b[1;32m     30\u001b[0m ) \u001b[38;5;241m-\u001b[39m\u001b[38;5;241m>\u001b[39m \u001b[38;5;28mbool\u001b[39m:\n\u001b[1;32m     31\u001b[0m \u001b[38;5;250m    \u001b[39m\u001b[38;5;124;03m\"\"\"\u001b[39;00m\n\u001b[1;32m     32\u001b[0m \u001b[38;5;124;03m    NB: This docstring is dynamically replaced: See compare.__doc__ definition below.\u001b[39;00m\n\u001b[1;32m     33\u001b[0m \u001b[38;5;124;03m    \"\"\"\u001b[39;00m\n\u001b[0;32m---> 34\u001b[0m     \u001b[38;5;28;01mreturn\u001b[39;00m _compare(\n\u001b[1;32m     35\u001b[0m         config_1_path\u001b[38;5;241m=\u001b[39mPath(config_1_path),\n\u001b[1;32m     36\u001b[0m         config_2_path\u001b[38;5;241m=\u001b[39mPath(config_2_path),\n\u001b[1;32m     37\u001b[0m         config_1_format\u001b[38;5;241m=\u001b[39mconfig_1_format,\n\u001b[1;32m     38\u001b[0m         config_2_format\u001b[38;5;241m=\u001b[39mconfig_2_format,\n\u001b[1;32m     39\u001b[0m     )\n",
      "File \u001b[0;32m~/Documents/NOAA_Independent_Study/uwtools/src/uwtools/config/tools.py:34\u001b[0m, in \u001b[0;36mcompare_configs\u001b[0;34m(config_1_path, config_2_path, config_1_format, config_2_format)\u001b[0m\n\u001b[1;32m     32\u001b[0m     \u001b[38;5;28;01mreturn\u001b[39;00m \u001b[38;5;28;01mFalse\u001b[39;00m\n\u001b[1;32m     33\u001b[0m cfg_1: Config \u001b[38;5;241m=\u001b[39m format_to_config(config_1_format)(config_1_path)\n\u001b[0;32m---> 34\u001b[0m cfg_2: Config \u001b[38;5;241m=\u001b[39m format_to_config(config_2_format)(config_2_path)\n\u001b[1;32m     35\u001b[0m log\u001b[38;5;241m.\u001b[39minfo(\u001b[38;5;124m\"\u001b[39m\u001b[38;5;124m- \u001b[39m\u001b[38;5;132;01m%s\u001b[39;00m\u001b[38;5;124m\"\u001b[39m, config_1_path)\n\u001b[1;32m     36\u001b[0m log\u001b[38;5;241m.\u001b[39minfo(\u001b[38;5;124m\"\u001b[39m\u001b[38;5;124m+ \u001b[39m\u001b[38;5;132;01m%s\u001b[39;00m\u001b[38;5;124m\"\u001b[39m, config_2_path)\n",
      "File \u001b[0;32m~/Documents/NOAA_Independent_Study/uwtools/src/uwtools/config/formats/nml.py:25\u001b[0m, in \u001b[0;36mNMLConfig.__init__\u001b[0;34m(self, config)\u001b[0m\n\u001b[1;32m     19\u001b[0m \u001b[38;5;28;01mdef\u001b[39;00m \u001b[38;5;21m__init__\u001b[39m(\u001b[38;5;28mself\u001b[39m, config: Union[\u001b[38;5;28mdict\u001b[39m, Optional[Path]] \u001b[38;5;241m=\u001b[39m \u001b[38;5;28;01mNone\u001b[39;00m) \u001b[38;5;241m-\u001b[39m\u001b[38;5;241m>\u001b[39m \u001b[38;5;28;01mNone\u001b[39;00m:\n\u001b[1;32m     20\u001b[0m \u001b[38;5;250m    \u001b[39m\u001b[38;5;124;03m\"\"\"\u001b[39;00m\n\u001b[1;32m     21\u001b[0m \u001b[38;5;124;03m    Construct an NMLConfig object.\u001b[39;00m\n\u001b[1;32m     22\u001b[0m \n\u001b[1;32m     23\u001b[0m \u001b[38;5;124;03m    :param config: Config file to load (None => read from stdin), or initial dict.\u001b[39;00m\n\u001b[1;32m     24\u001b[0m \u001b[38;5;124;03m    \"\"\"\u001b[39;00m\n\u001b[0;32m---> 25\u001b[0m     \u001b[38;5;28msuper\u001b[39m()\u001b[38;5;241m.\u001b[39m\u001b[38;5;21m__init__\u001b[39m(config)\n\u001b[1;32m     26\u001b[0m     \u001b[38;5;28mself\u001b[39m\u001b[38;5;241m.\u001b[39mparse_include()\n",
      "File \u001b[0;32m~/Documents/NOAA_Independent_Study/uwtools/src/uwtools/config/formats/base.py:40\u001b[0m, in \u001b[0;36mConfig.__init__\u001b[0;34m(self, config)\u001b[0m\n\u001b[1;32m     38\u001b[0m     \u001b[38;5;28mself\u001b[39m\u001b[38;5;241m.\u001b[39mdata \u001b[38;5;241m=\u001b[39m \u001b[38;5;28mself\u001b[39m\u001b[38;5;241m.\u001b[39m_load(\u001b[38;5;28mself\u001b[39m\u001b[38;5;241m.\u001b[39m_config_file)\n\u001b[1;32m     39\u001b[0m \u001b[38;5;28;01mif\u001b[39;00m \u001b[38;5;28mself\u001b[39m\u001b[38;5;241m.\u001b[39mget_depth_threshold() \u001b[38;5;129;01mand\u001b[39;00m \u001b[38;5;28mself\u001b[39m\u001b[38;5;241m.\u001b[39mdepth \u001b[38;5;241m!=\u001b[39m \u001b[38;5;28mself\u001b[39m\u001b[38;5;241m.\u001b[39mget_depth_threshold():\n\u001b[0;32m---> 40\u001b[0m     \u001b[38;5;28;01mraise\u001b[39;00m UWConfigError(\n\u001b[1;32m     41\u001b[0m         \u001b[38;5;124m\"\u001b[39m\u001b[38;5;124mCannot instantiate depth-\u001b[39m\u001b[38;5;132;01m%s\u001b[39;00m\u001b[38;5;124m \u001b[39m\u001b[38;5;132;01m%s\u001b[39;00m\u001b[38;5;124m with depth-\u001b[39m\u001b[38;5;132;01m%s\u001b[39;00m\u001b[38;5;124m config\u001b[39m\u001b[38;5;124m\"\u001b[39m\n\u001b[1;32m     42\u001b[0m         \u001b[38;5;241m%\u001b[39m (\u001b[38;5;28mself\u001b[39m\u001b[38;5;241m.\u001b[39mget_depth_threshold(), \u001b[38;5;28mtype\u001b[39m(\u001b[38;5;28mself\u001b[39m)\u001b[38;5;241m.\u001b[39m\u001b[38;5;18m__name__\u001b[39m, \u001b[38;5;28mself\u001b[39m\u001b[38;5;241m.\u001b[39mdepth)\n\u001b[1;32m     43\u001b[0m     )\n",
      "\u001b[0;31mUWConfigError\u001b[0m: Cannot instantiate depth-2 NMLConfig with depth-1 config"
     ]
    }
   ],
   "source": [
    "config.compare('config_test_file_a.nml','config_test_file_empty.nml',None,None)"
   ]
  },
  {
   "cell_type": "code",
   "execution_count": null,
   "id": "38d2e2bd",
   "metadata": {},
   "outputs": [],
   "source": []
  }
 ],
 "metadata": {
  "kernelspec": {
   "display_name": "Python 3 (ipykernel)",
   "language": "python",
   "name": "python3"
  },
  "language_info": {
   "codemirror_mode": {
    "name": "ipython",
    "version": 3
   },
   "file_extension": ".py",
   "mimetype": "text/x-python",
   "name": "python",
   "nbconvert_exporter": "python",
   "pygments_lexer": "ipython3",
   "version": "3.12.4"
  }
 },
 "nbformat": 4,
 "nbformat_minor": 5
}
