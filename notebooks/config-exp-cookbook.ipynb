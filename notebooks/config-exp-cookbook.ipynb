{
 "cells": [
  {
   "cell_type": "markdown",
   "id": "46a75a26-d2b7-4e44-8c35-01851975dd69",
   "metadata": {},
   "source": [
    "# Configuring an Experiment with UW Tools\n",
    "\n",
    "<div class=\"alert alert-warning\"><b>Note: </b>This notebook was tested using <code>uwtools</code> version 2.4.2.</div>\n",
    "\n",
    "This notebook demonstrates an example of how to build an experiment configuration file from multiple smaller files, dereference Jinja 2 expressions in the file, and validate the file to check for potential errors. It is meant to demonstrate these steps as part of a larger experimental setup. \n",
    "<!--cell 0-->"
   ]
  },
  {
   "cell_type": "code",
   "execution_count": 1,
   "id": "3a872d35-99f1-434c-927e-5c8fee3f0f2d",
   "metadata": {},
   "outputs": [],
   "source": [
    "from datetime import datetime\n",
    "from uwtools.api.config import get_yaml_config\n",
    "from uwtools.api import chgres_cube\n",
    "from uwtools.api.logging import use_uwtools_logger\n",
    "\n",
    "use_uwtools_logger()"
   ]
  },
  {
   "cell_type": "markdown",
   "id": "8834e2e9-8c1e-4791-b110-2f1916f7289e",
   "metadata": {},
   "source": [
    "Given multiple configuration files like the ones below, `uwtools` allows us to combine them into one comprehensive configuration file for an experiment. Suppose we start with a base configuration file like the one below, which is a truncated version of the default config for SRW, using FV3GFS initial conditions (ICs) and the FV3_GFS_v16 physics suite.\n",
    "<!--cell 2-->"
   ]
  },
  {
   "cell_type": "code",
   "execution_count": 2,
   "id": "8b42bfca-18ae-48b1-a7ad-a1b76b9e24a8",
   "metadata": {},
   "outputs": [
    {
     "name": "stdout",
     "output_type": "stream",
     "text": [
      "task_make_ics:\n",
      "  chgres_cube:\n",
      "    execution:\n",
      "      executable: \"execdir/chgres_cube\"\n",
      "    namelist:\n",
      "      update_values:\n",
      "        config:\n",
      "          cycle_day: !int \"{{ cycle.strftime('%d') }}\"\n",
      "          cycle_hour: !int \"{{ cycle.strftime('%H') }}\"\n",
      "          cycle_mon: !int \"{{ cycle.strftime('%m') }}\"\n",
      "          convert_atm: true\n",
      "          convert_nst: true\n",
      "          convert_sfc: true\n",
      "          data_dir_input_grid: \"{{ task_make_ics.chgres_cube.rundir }}\"\n",
      "          external_model: \"GFS\"\n",
      "          input_type: \"gaussian_nemsio\"\n",
      "          mosaic_file_target_grid: \"path/to/example_mosaic.halo.nc\"\n",
      "          tg3_from_soil: false\n",
      "          tracers:\n",
      "            - sphum\n",
      "            - liq_wat\n",
      "          tracers_input:\n",
      "            - spfh\n",
      "            - clwmr\n",
      "          varmap_file: \"{{ user.PARMdir }}/ufs_utils/varmap_tables/GFSphys_var_map.txt\"\n",
      "          vcoord_file_target_grid: \"path/to/global_hyblev.165.txt\"\n",
      "    rundir: '{{ workflow.EXPTDIR }}/make_ics'\n"
     ]
    }
   ],
   "source": [
    "%%bash\n",
    "cat fixtures/config-exp/base-file.yaml"
   ]
  },
  {
   "cell_type": "markdown",
   "id": "dece324c-ee0e-4c0b-9913-79d63c36ec4e",
   "metadata": {},
   "source": [
    "If, instead, a different physics suite such as FV3_RAP is needed for the desired experiment, changes may be applied from a config that describes the set of changes related to the initial condition source.\n",
    "<!--cell 4-->"
   ]
  },
  {
   "cell_type": "code",
   "execution_count": 3,
   "id": "e7fbe2c2-90af-446c-b398-621d91c763c9",
   "metadata": {},
   "outputs": [
    {
     "name": "stdout",
     "output_type": "stream",
     "text": [
      "task_make_ics:\n",
      "  chgres_cube:\n",
      "    namelist:\n",
      "      update_values:\n",
      "        config:\n",
      "          varmap_file: \"{{ user.PARMdir }}/ufs_utils/varmap_tables/GSDphys_var_map.txt\"\n"
     ]
    }
   ],
   "source": [
    "%%bash\n",
    "cat fixtures/config-exp/fv3-rap-physics.yaml"
   ]
  },
  {
   "cell_type": "markdown",
   "id": "cfe8bf85-7f11-40d3-af95-f60ddf12318f",
   "metadata": {},
   "source": [
    "There will be some information each user will need to provide. Those can be included in a user config file. Separating these items into their own config file will help guide an easier user experience. \n",
    "<!--cell 6-->"
   ]
  },
  {
   "cell_type": "code",
   "execution_count": 4,
   "id": "d3bbf762-b4fc-49d8-90e4-e7851c9da49a",
   "metadata": {},
   "outputs": [
    {
     "name": "stdout",
     "output_type": "stream",
     "text": [
      "user:\n",
      "  ACCOUNT: zrtrr\n",
      "  MACHINE: hera\n",
      "  PARMdir: /path/to/ufs-srweather-app/parm\n",
      "workflow: \n",
      "  EXPTDIR: /path/to/my/output\n"
     ]
    }
   ],
   "source": [
    "%%bash\n",
    "cat fixtures/config-exp/user.yaml"
   ]
  },
  {
   "cell_type": "markdown",
   "id": "a3d1ca1f-1750-4a67-94d4-99d2c3c9db91",
   "metadata": {},
   "source": [
    "The `get_yaml_config()` function initially creates a `YAMLConfig` object which contains only the `base-file.yaml` config. This is the base from which the comprehensive config file will be built.\n",
    "<!--cell 8-->"
   ]
  },
  {
   "cell_type": "code",
   "execution_count": 5,
   "id": "4bda78dc-33ee-4a23-82a8-271b40abca7b",
   "metadata": {},
   "outputs": [
    {
     "name": "stdout",
     "output_type": "stream",
     "text": [
      "task_make_ics:\n",
      "  chgres_cube:\n",
      "    execution:\n",
      "      executable: execdir/chgres_cube\n",
      "    namelist:\n",
      "      update_values:\n",
      "        config:\n",
      "          cycle_day: !int '{{ cycle.strftime(''%d'') }}'\n",
      "          cycle_hour: !int '{{ cycle.strftime(''%H'') }}'\n",
      "          cycle_mon: !int '{{ cycle.strftime(''%m'') }}'\n",
      "          convert_atm: true\n",
      "          convert_nst: true\n",
      "          convert_sfc: true\n",
      "          data_dir_input_grid: '{{ task_make_ics.chgres_cube.rundir }}'\n",
      "          external_model: GFS\n",
      "          input_type: gaussian_nemsio\n",
      "          mosaic_file_target_grid: path/to/example_mosaic.halo.nc\n",
      "          tg3_from_soil: false\n",
      "          tracers:\n",
      "          - sphum\n",
      "          - liq_wat\n",
      "          tracers_input:\n",
      "          - spfh\n",
      "          - clwmr\n",
      "          varmap_file: '{{ user.PARMdir }}/ufs_utils/varmap_tables/GFSphys_var_map.txt'\n",
      "          vcoord_file_target_grid: path/to/global_hyblev.165.txt\n",
      "    rundir: '{{ workflow.EXPTDIR }}/make_ics'\n"
     ]
    }
   ],
   "source": [
    "experiment_config = get_yaml_config('fixtures/config-exp/base-file.yaml')\n",
    "print(experiment_config)"
   ]
  },
  {
   "cell_type": "markdown",
   "id": "bc6e47f6-ed03-41ef-bacf-b1790b5bf56f",
   "metadata": {},
   "source": [
    "Here the list of additional config file paths is created. Note that if the configs share any keys, the values from later updates will override the earlier ones. For example, `varmap_file:` contained a path ending with `GFSphys_var_map.txt` base config file, but it was changed to a path ending with `GSDphys_var_map.txt` by the FV3 RAP physics config. After a `YAMLConfig` object for each config file is created using `get_yaml_config()`, the `update_from()` method updates the base file.\n",
    "<!--cell 10-->"
   ]
  },
  {
   "cell_type": "code",
   "execution_count": 6,
   "id": "e863d5ac-f727-4d91-a4bd-9bf813d35e6c",
   "metadata": {},
   "outputs": [
    {
     "name": "stdout",
     "output_type": "stream",
     "text": [
      "task_make_ics:\n",
      "  chgres_cube:\n",
      "    execution:\n",
      "      executable: execdir/chgres_cube\n",
      "    namelist:\n",
      "      update_values:\n",
      "        config:\n",
      "          cycle_day: !int '{{ cycle.strftime(''%d'') }}'\n",
      "          cycle_hour: !int '{{ cycle.strftime(''%H'') }}'\n",
      "          cycle_mon: !int '{{ cycle.strftime(''%m'') }}'\n",
      "          convert_atm: true\n",
      "          convert_nst: true\n",
      "          convert_sfc: true\n",
      "          data_dir_input_grid: '{{ task_make_ics.chgres_cube.rundir }}'\n",
      "          external_model: GFS\n",
      "          input_type: gaussian_nemsio\n",
      "          mosaic_file_target_grid: path/to/example_mosaic.halo.nc\n",
      "          tg3_from_soil: false\n",
      "          tracers:\n",
      "          - sphum\n",
      "          - liq_wat\n",
      "          tracers_input:\n",
      "          - spfh\n",
      "          - clwmr\n",
      "          varmap_file: '{{ user.PARMdir }}/ufs_utils/varmap_tables/GSDphys_var_map.txt'\n",
      "          vcoord_file_target_grid: path/to/global_hyblev.165.txt\n",
      "    rundir: '{{ workflow.EXPTDIR }}/make_ics'\n",
      "user:\n",
      "  ACCOUNT: zrtrr\n",
      "  MACHINE: hera\n",
      "  PARMdir: /path/to/ufs-srweather-app/parm\n",
      "workflow:\n",
      "  EXPTDIR: /path/to/my/output\n"
     ]
    }
   ],
   "source": [
    "config_files = ['fixtures/config-exp/fv3-rap-physics.yaml',\n",
    "                'fixtures/config-exp/user.yaml'\n",
    "]\n",
    "for config_file in config_files:\n",
    "    config = get_yaml_config(config_file)\n",
    "    experiment_config.update_from(config)\n",
    "\n",
    "print(experiment_config)"
   ]
  },
  {
   "cell_type": "markdown",
   "id": "aa43fe3c-6d35-49c2-b2fc-20c178ed30c3",
   "metadata": {},
   "source": [
    "After all of the key-value pairs are coalesced into one object, the `dereference()` method renders any Jinja 2 expressions wherever possible. Note that keys like `varmap_file:` and `rundir:` have had their Jinja expressions rendered using the information provided by `user.PARMdir` and `workflow.EXPTDIR`, but the expressions with cycle-specific references remain.\n",
    "<!--cell 12-->"
   ]
  },
  {
   "cell_type": "code",
   "execution_count": 7,
   "id": "0fc07baf-1094-4d8c-a51e-c4e541ae4df6",
   "metadata": {},
   "outputs": [
    {
     "name": "stdout",
     "output_type": "stream",
     "text": [
      "task_make_ics:\n",
      "  chgres_cube:\n",
      "    execution:\n",
      "      executable: execdir/chgres_cube\n",
      "    namelist:\n",
      "      update_values:\n",
      "        config:\n",
      "          cycle_day: !int '{{ cycle.strftime(''%d'') }}'\n",
      "          cycle_hour: !int '{{ cycle.strftime(''%H'') }}'\n",
      "          cycle_mon: !int '{{ cycle.strftime(''%m'') }}'\n",
      "          convert_atm: true\n",
      "          convert_nst: true\n",
      "          convert_sfc: true\n",
      "          data_dir_input_grid: /path/to/my/output/make_ics\n",
      "          external_model: GFS\n",
      "          input_type: gaussian_nemsio\n",
      "          mosaic_file_target_grid: path/to/example_mosaic.halo.nc\n",
      "          tg3_from_soil: false\n",
      "          tracers:\n",
      "          - sphum\n",
      "          - liq_wat\n",
      "          tracers_input:\n",
      "          - spfh\n",
      "          - clwmr\n",
      "          varmap_file: /path/to/ufs-srweather-app/parm/ufs_utils/varmap_tables/GSDphys_var_map.txt\n",
      "          vcoord_file_target_grid: path/to/global_hyblev.165.txt\n",
      "    rundir: /path/to/my/output/make_ics\n",
      "user:\n",
      "  ACCOUNT: zrtrr\n",
      "  MACHINE: hera\n",
      "  PARMdir: /path/to/ufs-srweather-app/parm\n",
      "workflow:\n",
      "  EXPTDIR: /path/to/my/output\n"
     ]
    }
   ],
   "source": [
    "experiment_config.dereference()\n",
    "print(experiment_config)"
   ]
  },
  {
   "cell_type": "markdown",
   "id": "5103465d-1a64-4b66-b9cb-09910633f8e1",
   "metadata": {},
   "source": [
    "To catch potential errors in the `chgres_cube:` block of the config, the `uwtools` `chgres_cube` driver is used here to validate the block using the chgres-cube schema. The driver requires a `cycle` parameter with a datetime specified, so the current time is used here.\n",
    "<!--cell 14-->"
   ]
  },
  {
   "cell_type": "code",
   "execution_count": 8,
   "id": "f9f0c0df-821e-492a-9669-3ac5e43e3151",
   "metadata": {},
   "outputs": [
    {
     "name": "stderr",
     "output_type": "stream",
     "text": [
      "[2024-11-18T13:34:51]     INFO Validating config against internal schema: chgres-cube\n",
      "[2024-11-18T13:34:51]     INFO 0 UW schema-validation errors found\n",
      "[2024-11-18T13:34:51]     INFO Validating config against internal schema: platform\n",
      "[2024-11-18T13:34:51]     INFO 0 UW schema-validation errors found\n",
      "[2024-11-18T13:34:51]     INFO 20241118 13Z chgres_cube valid schema: State: Ready\n"
     ]
    },
    {
     "data": {
      "text/plain": [
       "Asset(ref=None, ready=<function Assets.validate.<locals>.<lambda> at 0x7c3664345940>)"
      ]
     },
     "execution_count": 8,
     "metadata": {},
     "output_type": "execute_result"
    }
   ],
   "source": [
    "driver = chgres_cube.ChgresCube(\n",
    "    config=experiment_config['task_make_ics'],\n",
    "    cycle=datetime.now()\n",
    ")\n",
    "driver.validate()"
   ]
  }
 ],
 "metadata": {
  "kernelspec": {
   "display_name": "Python [conda env:DEV-uwtools] *",
   "language": "python",
   "name": "conda-env-DEV-uwtools-py"
  },
  "language_info": {
   "codemirror_mode": {
    "name": "ipython",
    "version": 3
   },
   "file_extension": ".py",
   "mimetype": "text/x-python",
   "name": "python",
   "nbconvert_exporter": "python",
   "pygments_lexer": "ipython3",
   "version": "3.12.3"
  }
 },
 "nbformat": 4,
 "nbformat_minor": 5
}
