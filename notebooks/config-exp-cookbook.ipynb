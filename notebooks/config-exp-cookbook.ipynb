{
 "cells": [
  {
   "cell_type": "markdown",
   "id": "46a75a26-d2b7-4e44-8c35-01851975dd69",
   "metadata": {},
   "source": [
    "# Configuring an Experiment with UW Tools\n",
    "\n",
    "Given multiple configuration files like the ones below, `uwtools` allows us to combine them into one comprehensive configuration file for an experiment. Suppose we start with a base configuration file like the one below, which is a truncated version of the default config for SRW, using FV3GFS initial conditions (ICs) and the FV3_GFS_v16 physics suite. \n",
    "\n",
    "<div class=\"alert alert-warning\"><b>Note: </b>This notebook was tested using <code>uwtools</code> version 2.4.2.</div>\n",
    "<!--cell 0-->"
   ]
  },
  {
   "cell_type": "code",
   "execution_count": 1,
   "id": "8b42bfca-18ae-48b1-a7ad-a1b76b9e24a8",
   "metadata": {},
   "outputs": [
    {
     "name": "stdout",
     "output_type": "stream",
     "text": [
      "user:\n",
      "  ACCOUNT: \"\"\n",
      "  MACHINE: \"\"\n",
      "workflow:\n",
      "  EXPTDIR: \"\"\n",
      "task_make_ics:\n",
      "  chgres_cube:\n",
      "    namelist:\n",
      "      update_values:\n",
      "        config:\n",
      "          cycle_day: !int \"{{ cycle.strftime('%d') }}\"\n",
      "          cycle_hour: !int \"{{ cycle.strftime('%H') }}\"\n",
      "          cycle_mon: !int \"{{ cycle.strftime('%m') }}\"\n",
      "          convert_atm: true\n",
      "          convert_nst: true\n",
      "          convert_sfc: true\n",
      "          data_dir_input_grid: \"{{ task_make_ics.chgres_cube.rundir }}\"\n",
      "          external_model: \"FV3GFS\"\n",
      "          input_type: \"gaussian_nemsio\"\n",
      "          tg3_from_soil: false\n",
      "          tracers:\n",
      "            - sphum\n",
      "            - liq_wat\n",
      "          tracers_input:\n",
      "            - spfh\n",
      "            - clwmr\n",
      "          varmap_file: \"{{ user.PARMdir }}/ufs_utils/varmap_tables/GFSphys_var_map.txt\"\n",
      "    rundir: '{{ workflow.EXPTDIR }}/make_ics'\n"
     ]
    }
   ],
   "source": [
    "%%bash\n",
    "cat fixtures/config-exp/base-file.yaml"
   ]
  },
  {
   "cell_type": "markdown",
   "id": "dece324c-ee0e-4c0b-9913-79d63c36ec4e",
   "metadata": {},
   "source": [
    "If, instead, HRRR ICs are needed for the experiment we want to run, we can apply changes from a config that describes the set of changes related to the initial condition source.\n",
    "<!--cell 2-->"
   ]
  },
  {
   "cell_type": "code",
   "execution_count": 2,
   "id": "12916c3e-e87d-4fb4-b740-d355b4f9f8be",
   "metadata": {},
   "outputs": [
    {
     "name": "stdout",
     "output_type": "stream",
     "text": [
      "task_make_ics:\n",
      "  chgres_cube:\n",
      "    namelist:\n",
      "      update_values:\n",
      "        config:\n",
      "          convert_nst: False\n",
      "          external_model: \"HRRR\"\n",
      "          geofrid_file_input_grid: \"{{ workflow.FIXgsm }}/geo_em.d01.nc_HRRRX\"\n",
      "          input_type: \"grib2\"\n",
      "          nsoil_out: 9\n",
      "          tg3_from_soil: True\n",
      "          tracers: \"\"\n",
      "          tracers_input: \"\"\n"
     ]
    }
   ],
   "source": [
    "%%bash\n",
    "cat fixtures/config-exp/hrrr-ics.yaml"
   ]
  },
  {
   "cell_type": "markdown",
   "id": "71b16822-642f-4396-ad71-b9cb1de6072d",
   "metadata": {},
   "source": [
    "A different physics suite, such as the FV3_RAP physics suite may also be used.\n",
    "<!--cell 4-->"
   ]
  },
  {
   "cell_type": "code",
   "execution_count": 3,
   "id": "e7fbe2c2-90af-446c-b398-621d91c763c9",
   "metadata": {},
   "outputs": [
    {
     "name": "stdout",
     "output_type": "stream",
     "text": [
      "task_make_ics:\n",
      "  chgres_cube:\n",
      "    namelist:\n",
      "      update_values:\n",
      "        config:\n",
      "          varmap_file: \"{{ user.PARMdir }}/ufs_utils/varmap_tables/GSDphys_var_map.txt\"\n"
     ]
    }
   ],
   "source": [
    "%%bash\n",
    "cat fixtures/config-exp/fv3-rap-physics.yaml"
   ]
  },
  {
   "cell_type": "markdown",
   "id": "cfe8bf85-7f11-40d3-af95-f60ddf12318f",
   "metadata": {},
   "source": [
    "There will be some information each user will need to provide. Those can be included in a user config file. Separating these items into their own config file will help guide an easier user experience. \n",
    "<!--cell 6-->"
   ]
  },
  {
   "cell_type": "code",
   "execution_count": 4,
   "id": "d3bbf762-b4fc-49d8-90e4-e7851c9da49a",
   "metadata": {},
   "outputs": [
    {
     "name": "stdout",
     "output_type": "stream",
     "text": [
      "user:\n",
      "  ACCOUNT: zrtrr\n",
      "  MACHINE: hera\n",
      "  PARMdir: /path/to/ufs-srweather-app/parm\n",
      "workflow: \n",
      "  EXPTDIR: /path/to/my/output\n"
     ]
    }
   ],
   "source": [
    "%%bash\n",
    "cat fixtures/config-exp/user.yaml"
   ]
  },
  {
   "cell_type": "markdown",
   "id": "a3d1ca1f-1750-4a67-94d4-99d2c3c9db91",
   "metadata": {},
   "source": [
    "Here, the `configure_experiment()` function takes a list of config file paths and combines them into a comprehensive config object. The `get_yaml_config()` function initially creates an empty `YAMLConfig` object which is then built up using the list of config files and `update_from()`. After all of the key-value pairs are coalesced into one object, `dereference()` renders any Jinja 2 expressions wherever possible.\n",
    "<!--cell 8-->"
   ]
  },
  {
   "cell_type": "code",
   "execution_count": 5,
   "id": "4bda78dc-33ee-4a23-82a8-271b40abca7b",
   "metadata": {},
   "outputs": [],
   "source": [
    "from uwtools.api.config import get_yaml_config\n",
    "\n",
    "def configure_experiment(cfg_files: list[str]):\n",
    "    base_cfg = get_yaml_config({})\n",
    "    for cfg_file in cfg_files:\n",
    "        cfg = get_yaml_config(cfg_file)\n",
    "        base_cfg.update_from(cfg)\n",
    "    base_cfg.dereference()\n",
    "    return base_cfg"
   ]
  },
  {
   "cell_type": "markdown",
   "id": "bc6e47f6-ed03-41ef-bacf-b1790b5bf56f",
   "metadata": {},
   "source": [
    "Here the list of config file paths is created and passed to `configure_experiment()`. Note that if the configs share any keys, the values from files later in the list will override the earlier ones. For example, `convert_nst:` had a `true` value in the base config file, but it was changed to `false` by the HRRR ICs config. While some Jinja 2 expressions were not able to be rendered and still exist here, the keys `data_dir_input_grid:` and `rundir:` have had their Jinja 2 expressions rendered. \n",
    "<!--cell 10-->"
   ]
  },
  {
   "cell_type": "code",
   "execution_count": 6,
   "id": "e863d5ac-f727-4d91-a4bd-9bf813d35e6c",
   "metadata": {},
   "outputs": [
    {
     "data": {
      "text/plain": [
       "user:\n",
       "  ACCOUNT: zrtrr\n",
       "  MACHINE: hera\n",
       "  PARMdir: /path/to/ufs-srweather-app/parm\n",
       "workflow:\n",
       "  EXPTDIR: /path/to/my/output\n",
       "task_make_ics:\n",
       "  chgres_cube:\n",
       "    namelist:\n",
       "      update_values:\n",
       "        config:\n",
       "          cycle_day: !int '{{ cycle.strftime(''%d'') }}'\n",
       "          cycle_hour: !int '{{ cycle.strftime(''%H'') }}'\n",
       "          cycle_mon: !int '{{ cycle.strftime(''%m'') }}'\n",
       "          convert_atm: true\n",
       "          convert_nst: false\n",
       "          convert_sfc: true\n",
       "          data_dir_input_grid: /path/to/my/output/make_ics\n",
       "          external_model: HRRR\n",
       "          input_type: grib2\n",
       "          tg3_from_soil: true\n",
       "          tracers: ''\n",
       "          tracers_input: ''\n",
       "          varmap_file: /path/to/ufs-srweather-app/parm/ufs_utils/varmap_tables/GSDphys_var_map.txt\n",
       "          geofrid_file_input_grid: '{{ workflow.FIXgsm }}/geo_em.d01.nc_HRRRX'\n",
       "          nsoil_out: 9\n",
       "    rundir: /path/to/my/output/make_ics"
      ]
     },
     "execution_count": 6,
     "metadata": {},
     "output_type": "execute_result"
    }
   ],
   "source": [
    "user_config_files = ['fixtures/config-exp/base-file.yaml',\n",
    "                     'fixtures/config-exp/hrrr-ics.yaml',\n",
    "                     'fixtures/config-exp/fv3-rap-physics.yaml',\n",
    "                     'fixtures/config-exp/user.yaml'\n",
    "                    ]\n",
    "configure_experiment(user_config_files)"
   ]
  }
 ],
 "metadata": {
  "kernelspec": {
   "display_name": "Python [conda env:DEV-uwtools] *",
   "language": "python",
   "name": "conda-env-DEV-uwtools-py"
  },
  "language_info": {
   "codemirror_mode": {
    "name": "ipython",
    "version": 3
   },
   "file_extension": ".py",
   "mimetype": "text/x-python",
   "name": "python",
   "nbconvert_exporter": "python",
   "pygments_lexer": "ipython3",
   "version": "3.12.3"
  }
 },
 "nbformat": 4,
 "nbformat_minor": 5
}
