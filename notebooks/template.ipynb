{
 "cells": [
  {
   "cell_type": "markdown",
   "id": "50994576-4783-4e8c-a6b0-21b1f258685d",
   "metadata": {},
   "source": [
    "# Template Tool\n",
    "\n",
    "The `uwtools` API's `template` module provides functions to render Jinja2 templates and to translate atparse templates to Jinja2.\n",
    "\n",
    "Tested on `uwtools` version 2.4.2. For more information, please see the <a href=\"https://uwtools.readthedocs.io/en/2.4.2/sections/user_guide/api/template.html\">uwtools.api.template</a> Read the Docs page."
   ]
  },
  {
   "cell_type": "code",
   "execution_count": 1,
   "id": "cbec4cc0-369e-41ff-a8a6-8a2699cb5759",
   "metadata": {},
   "outputs": [],
   "source": [
    "from uwtools.api import template\n",
    "from pathlib import Path"
   ]
  },
  {
   "cell_type": "markdown",
   "id": "017c777a-1ca0-4fef-873f-89924e209da8",
   "metadata": {},
   "source": [
    "## render\n",
    "\n",
    "`template.render()` renders a Jinja2 template using values provided by the specified values source."
   ]
  },
  {
   "cell_type": "code",
   "execution_count": 2,
   "id": "54e88f1b-0b9f-4011-b070-df107f928cf9",
   "metadata": {},
   "outputs": [
    {
     "name": "stdout",
     "output_type": "stream",
     "text": [
      "Help on function render in module uwtools.api.template:\n",
      "\n",
      "render(values_src: Union[dict, str, pathlib.Path, NoneType] = None, values_format: Optional[str] = None, input_file: Union[str, pathlib.Path, NoneType] = None, output_file: Union[str, pathlib.Path, NoneType] = None, overrides: Optional[dict[str, str]] = None, env: bool = False, searchpath: Optional[list[str]] = None, values_needed: bool = False, dry_run: bool = False, stdin_ok: bool = False) -> str\n",
      "    Render a Jinja2 template to a file, based on specified values.\n",
      "\n",
      "    Primary values used to render the template are taken from the specified file. The format of the\n",
      "    values source will be deduced from the filename extension, if possible. This can be overridden\n",
      "    via the ``values_format`` argument. A ``dict`` object may alternatively be provided as the\n",
      "    primary values source. If no input file is specified, ``stdin`` is read. If no output file is\n",
      "    specified, ``stdout`` is written to.\n",
      "\n",
      "    :param values_src: Source of values to render the template.\n",
      "    :param values_format: Format of values when sourced from file.\n",
      "    :param input_file: Raw input template file (``None`` => read ``stdin``).\n",
      "    :param output_file: Rendered template output file (``None`` => write to ``stdout``).\n",
      "    :param overrides: Supplemental override values.\n",
      "    :param env: Supplement values with environment variables?\n",
      "    :param searchpath: Paths to search for extra templates.\n",
      "    :param values_needed: Just report variables needed to render the template?\n",
      "    :param dry_run: Run in dry-run mode?\n",
      "    :param stdin_ok: OK to read from ``stdin``?\n",
      "    :return: The rendered template string.\n",
      "    :raises: UWTemplateRenderError if template could not be rendered.\n",
      "\n"
     ]
    }
   ],
   "source": [
    "help(template.render)"
   ]
  },
  {
   "cell_type": "markdown",
   "id": "28a3415f-3f0e-42c7-8be2-bc94057e8510",
   "metadata": {},
   "source": [
    "Consider the following template, to be rendered as YAML data:"
   ]
  },
  {
   "cell_type": "code",
   "execution_count": 3,
   "id": "91bd29fd-77ba-4ea2-946f-cd7a2d9301f1",
   "metadata": {},
   "outputs": [
    {
     "name": "stdout",
     "output_type": "stream",
     "text": [
      "user:\n",
      "  name: {{ first }} {{ last }}\n",
      "  favorite_food: {{ food }}\n"
     ]
    }
   ],
   "source": [
    "%%bash\n",
    "cat fixtures/template/render-template.yaml"
   ]
  },
  {
   "cell_type": "markdown",
   "id": "d335aec6-5fcd-4df2-ae2e-8afa1a510683",
   "metadata": {},
   "source": [
    "The `values_needed` parameter can be used to display which values are needed to complete the template. A logger needs to be initialized for the log of the missing values to be displayed."
   ]
  },
  {
   "cell_type": "code",
   "execution_count": 4,
   "id": "040eceb1-0821-4e82-825a-5be18f06397d",
   "metadata": {},
   "outputs": [
    {
     "name": "stderr",
     "output_type": "stream",
     "text": [
      "[2024-11-19T23:16:37]     INFO Value(s) needed to render this template are:\n",
      "[2024-11-19T23:16:37]     INFO   first\n",
      "[2024-11-19T23:16:37]     INFO   food\n",
      "[2024-11-19T23:16:37]     INFO   last\n"
     ]
    },
    {
     "name": "stdout",
     "output_type": "stream",
     "text": [
      "user:\n",
      "  name: {{ first }} {{ last }}\n",
      "  favorite_food: {{ food }}\n",
      "\n"
     ]
    }
   ],
   "source": [
    "import uwtools.logging\n",
    "uwtools.logging.setup_logging(verbose=False)\n",
    "\n",
    "print(\n",
    "    template.render(\n",
    "        input_file='fixtures/template/render-template.yaml',\n",
    "        values_needed=True\n",
    "    )\n",
    ")"
   ]
  },
  {
   "cell_type": "markdown",
   "id": "6d6913b9-a375-447a-b729-566afe84f694",
   "metadata": {},
   "source": [
    "The log messages indicate that values are needed for keys `first`, `food`, and `last`. These values can be sourced from a Python dictionary or from a file. The following file provides the needed values:"
   ]
  },
  {
   "cell_type": "code",
   "execution_count": 5,
   "id": "7f794c66-8840-419a-adf5-20efddb85708",
   "metadata": {},
   "outputs": [
    {
     "name": "stdout",
     "output_type": "stream",
     "text": [
      "first: John\n",
      "last: Doe\n",
      "food: burritos\n"
     ]
    }
   ],
   "source": [
    "%%bash\n",
    "cat fixtures/template/render-values.yaml"
   ]
  },
  {
   "cell_type": "markdown",
   "id": "9c809a20-b09d-438a-a1da-3cb9986ce9fa",
   "metadata": {},
   "source": [
    "With these values, we can render the template to a file. When the source of values is a file, its path can be given either as a string or a <a href=\"https://docs.python.org/3/library/pathlib.html#pathlib.Path\">Path</a> object. If it has an unrecognized (or no) extension, its format can be specified with `values_format`. The rendered template can be written to a file specified with `output_file`; otherwise, it will be written to `stdout`. "
   ]
  },
  {
   "cell_type": "code",
   "execution_count": 6,
   "id": "834b7a40-293e-4d35-81e8-121eed4cf8f2",
   "metadata": {},
   "outputs": [
    {
     "name": "stdout",
     "output_type": "stream",
     "text": [
      "user:\n",
      "  name: John Doe\n",
      "  favorite_food: burritos\n"
     ]
    }
   ],
   "source": [
    "print(\n",
    "    template.render(\n",
    "        values_src=Path('fixtures/template/render-values.yaml'),\n",
    "        values_format='yaml',\n",
    "        input_file='fixtures/template/render-template.yaml',\n",
    "        output_file='fixtures/template/render-complete-1.yaml'\n",
    "    )\n",
    ")"
   ]
  },
  {
   "cell_type": "markdown",
   "id": "c45b0ac1-23d6-4d25-a691-7bc4f482429e",
   "metadata": {},
   "source": [
    "Values can be selectively overridden with a dictionary passed via the optional `overrides` argument."
   ]
  },
  {
   "cell_type": "code",
   "execution_count": 7,
   "id": "55eec4f4-4f91-4618-8382-78061907bd2a",
   "metadata": {},
   "outputs": [
    {
     "name": "stdout",
     "output_type": "stream",
     "text": [
      "user:\n",
      "  name: Jane Doe\n",
      "  favorite_food: tamales\n"
     ]
    }
   ],
   "source": [
    "print(\n",
    "    template.render(\n",
    "        values_src=Path('fixtures/template/render-values.yaml'),\n",
    "        values_format='yaml',\n",
    "        input_file='fixtures/template/render-template.yaml',\n",
    "        output_file='fixtures/template/render-complete-2.yaml',\n",
    "        overrides={'first':'Jane', 'food':'tamales'}\n",
    "    )\n",
    ")"
   ]
  },
  {
   "cell_type": "markdown",
   "id": "861e1e96-58b6-4537-bc7d-7986b450e774",
   "metadata": {},
   "source": [
    "Let's take a look at the two newly rendered files."
   ]
  },
  {
   "cell_type": "code",
   "execution_count": 8,
   "id": "8601d4d9-5e53-44b7-880c-666ab810d8b8",
   "metadata": {},
   "outputs": [
    {
     "name": "stdout",
     "output_type": "stream",
     "text": [
      "user:\n",
      "  name: John Doe\n",
      "  favorite_food: burritos\n",
      "---------------------------------------\n",
      "user:\n",
      "  name: Jane Doe\n",
      "  favorite_food: tamales\n"
     ]
    }
   ],
   "source": [
    "%%bash\n",
    "cat fixtures/template/render-complete-1.yaml\n",
    "echo ---------------------------------------\n",
    "cat fixtures/template/render-complete-2.yaml"
   ]
  },
  {
   "cell_type": "markdown",
   "id": "58cbbfbf-b47d-485d-9ef3-80b067316d11",
   "metadata": {},
   "source": [
    "## render_to_str\n",
    "\n",
    "`template.render_to_str()` is identical to `template.render()` except that it does not accept an `output_file` parameter: It returns the rendered template as a string and does not write to a file or to `stdout`."
   ]
  },
  {
   "cell_type": "code",
   "execution_count": 9,
   "id": "ff8b80b2-590c-476f-94f7-37c4f34932f7",
   "metadata": {},
   "outputs": [
    {
     "name": "stdout",
     "output_type": "stream",
     "text": [
      "Help on function render_to_str in module uwtools.api.template:\n",
      "\n",
      "render_to_str(values_src: Union[dict, str, pathlib.Path, NoneType] = None, values_format: Optional[str] = None, input_file: Union[str, pathlib.Path, NoneType] = None, overrides: Optional[dict[str, str]] = None, env: bool = False, searchpath: Optional[list[str]] = None, values_needed: bool = False, dry_run: bool = False) -> str\n",
      "    Render a Jinja2 template to a string, based on specified values.\n",
      "\n",
      "    See ``render()`` for details on arguments, etc.\n",
      "\n"
     ]
    }
   ],
   "source": [
    "help(template.render_to_str)"
   ]
  },
  {
   "cell_type": "markdown",
   "id": "65905cf1-679d-46ef-96e6-23e0c952947c",
   "metadata": {},
   "source": [
    "We can see the resulting string using the same template and values from the first `template.render()` example."
   ]
  },
  {
   "cell_type": "code",
   "execution_count": 10,
   "id": "1f2cec30-0761-42f4-85fc-05593e215b23",
   "metadata": {},
   "outputs": [
    {
     "name": "stdout",
     "output_type": "stream",
     "text": [
      "user:\n",
      "  name: John Doe\n",
      "  favorite_food: burritos\n"
     ]
    }
   ],
   "source": [
    "result = template.render_to_str(\n",
    "    values_src=Path('fixtures/template/render-values.yaml'),\n",
    "    values_format='yaml',\n",
    "    input_file='fixtures/template/render-template.yaml'\n",
    ")\n",
    "print(result)"
   ]
  },
  {
   "cell_type": "markdown",
   "id": "fe45be03-c1aa-4c50-a21b-3f35180569b4",
   "metadata": {},
   "source": [
    "For more examples, please refer to the <a href='#render'>render</a> section above.\n",
    "\n",
    "## translate\n",
    "\n",
    "This function can be used to translate atparse templates into Jinja2 templates by replacing `@[]` tokens with their corresponding `{{}}` Jinja2 equivalents. "
   ]
  },
  {
   "cell_type": "code",
   "execution_count": 11,
   "id": "2ddcefac-030d-415c-a97f-eab9e176e811",
   "metadata": {},
   "outputs": [
    {
     "name": "stdout",
     "output_type": "stream",
     "text": [
      "Help on function translate in module uwtools.api.template:\n",
      "\n",
      "translate(input_file: Union[str, pathlib.Path, NoneType] = None, output_file: Union[str, pathlib.Path, NoneType] = None, dry_run: bool = False, stdin_ok: bool = False) -> bool\n",
      "    Translate an atparse template to a Jinja2 template.\n",
      "\n",
      "    ``@[]`` tokens are replaced with Jinja2 ``{{}}`` equivalents. If no input file is specified,\n",
      "    ``stdin`` is read. If no output file is specified, ``stdout`` is written to. In ``dry_run``\n",
      "    mode, output is written to ``stderr``.\n",
      "\n",
      "    :param input_file: Path to atparse file (``None`` => read ``stdin``).\n",
      "    :param output_file: Path to the file to write the converted template to.\n",
      "    :param dry_run: Run in dry-run mode?\n",
      "    :param stdin_ok: OK to read from ``stdin``?\n",
      "    :return: ``True``.\n",
      "\n"
     ]
    }
   ],
   "source": [
    "help(template.translate)"
   ]
  },
  {
   "cell_type": "markdown",
   "id": "1340097f-5ace-482d-bd13-01b426e768a1",
   "metadata": {},
   "source": [
    "The template tool works with atparse templates like the one shown below."
   ]
  },
  {
   "cell_type": "code",
   "execution_count": 12,
   "id": "66fbde65-2c4e-48fa-bc49-c4faec78f944",
   "metadata": {},
   "outputs": [
    {
     "name": "stdout",
     "output_type": "stream",
     "text": [
      "flowers:\n",
      "  roses: @[color1]\n",
      "  violets: @[color2]\n"
     ]
    }
   ],
   "source": [
    "%%bash\n",
    "cat 'fixtures/template/translate-template.yaml'"
   ]
  },
  {
   "cell_type": "markdown",
   "id": "62d87063-2cd0-40de-bf02-dee0ace11d5a",
   "metadata": {},
   "source": [
    "We can translate this file to a Jinja2 template by passing appropriate `input_file` and `output_file` (either `str` or <a href=\"https://docs.python.org/3/library/pathlib.html#pathlib.Path\">Path</a>) values to `template.render()`."
   ]
  },
  {
   "cell_type": "code",
   "execution_count": 13,
   "id": "bab9026c-9f5a-435d-b8a2-71fa2a325109",
   "metadata": {},
   "outputs": [
    {
     "data": {
      "text/plain": [
       "True"
      ]
     },
     "execution_count": 13,
     "metadata": {},
     "output_type": "execute_result"
    }
   ],
   "source": [
    "template.translate(\n",
    "    input_file=Path('fixtures/template/translate-template.yaml'),\n",
    "    output_file='fixtures/template/translate-complete.yaml'\n",
    ")"
   ]
  },
  {
   "cell_type": "markdown",
   "id": "e8712324-39a1-49d1-b2c6-dce2907b149e",
   "metadata": {},
   "source": [
    "Now we have created a Jinja2 template that can be rendered using `template.render()` or `template.render_to_str()`."
   ]
  },
  {
   "cell_type": "code",
   "execution_count": 14,
   "id": "5f30435c-e253-4f8a-a8e7-6bdbd8be92c9",
   "metadata": {},
   "outputs": [
    {
     "name": "stdout",
     "output_type": "stream",
     "text": [
      "flowers:\n",
      "  roses: {{ color1 }}\n",
      "  violets: {{ color2 }}\n"
     ]
    }
   ],
   "source": [
    "%%bash\n",
    "cat 'fixtures/template/translate-complete.yaml'"
   ]
  }
 ],
 "metadata": {
  "kernelspec": {
   "display_name": "Python 3 (ipykernel)",
   "language": "python",
   "name": "python3"
  },
  "language_info": {
   "codemirror_mode": {
    "name": "ipython",
    "version": 3
   },
   "file_extension": ".py",
   "mimetype": "text/x-python",
   "name": "python",
   "nbconvert_exporter": "python",
   "pygments_lexer": "ipython3",
   "version": "3.12.7"
  }
 },
 "nbformat": 4,
 "nbformat_minor": 5
}
