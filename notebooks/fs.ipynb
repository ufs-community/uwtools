{
 "cells": [
  {
   "cell_type": "markdown",
   "id": "2c013e12-a6c6-4786-aa50-900f7da77e6b",
   "metadata": {},
   "source": [
    "# File System Tool\n",
    "\n",
    "The `uwtools` API's `fs` module provides functions to copy and link files as well as create directories. \n",
    "\n",
    "For more information, please see the <a href=\"https://uwtools.readthedocs.io/en/main/sections/user_guide/api/fs.html\">uwtools.api.fs</a> Read the Docs page.\n",
    "\n",
    "## Table of Contents\n",
    "\n",
    "* [Copying Files](#Copying-Files)\n",
    "    * [Failing to copy](#Failing-to-copy)\n",
    "    * [Using the `keys` parameter](#Using-the-keys-parameter)\n",
    "    * [Using the `Copier` class](#Using-the-Copier-class)\n",
    "* [Linking Files](#Linking-files)\n",
    "    * [Failing to link](#Failing-to-link)\n",
    "    * [Using the `keys` parameter](#Using-the-keys-parameter-)\n",
    "    * [Using the `Linker` class](#Using-the-Linker-class)\n",
    "* [Creating directories](#Creating-directories)\n",
    "    * [Using the `keys` parameter](#Using-the-keys-parameter--)\n",
    "    * [Using the `MakeDirs` class](#Using-the-MakeDirs-class)"
   ]
  },
  {
   "cell_type": "code",
   "execution_count": 1,
   "id": "77864d80-e6f4-48c2-a5d5-88fc512106a9",
   "metadata": {},
   "outputs": [],
   "source": [
    "from pathlib import Path\n",
    "from shutil import rmtree\n",
    "from uwtools.api import fs\n",
    "from uwtools.api.logging import use_uwtools_logger\n",
    "\n",
    "use_uwtools_logger()"
   ]
  },
  {
   "cell_type": "markdown",
   "id": "354cf476-720e-4352-8954-0752fd05250f",
   "metadata": {},
   "source": [
    "## Copying Files\n",
    "\n",
    "The `copy()` function copies files, automatically creating parent directories as needed."
   ]
  },
  {
   "cell_type": "code",
   "execution_count": 2,
   "id": "834654da-dfa9-4997-bcc5-846420381b18",
   "metadata": {},
   "outputs": [
    {
     "name": "stdout",
     "output_type": "stream",
     "text": [
      "Help on function copy in module uwtools.api.fs:\n",
      "\n",
      "copy(config: Union[dict, str, pathlib.Path, NoneType] = None, target_dir: Union[str, pathlib.Path, NoneType] = None, cycle: Optional[datetime.datetime] = None, leadtime: Optional[datetime.timedelta] = None, keys: Optional[list[str]] = None, dry_run: bool = False, stdin_ok: bool = False) -> bool\n",
      "    Copy files.\n",
      "\n",
      "    :param config: YAML-file path, or ``dict`` (read ``stdin`` if missing or ``None``).\n",
      "    :param target_dir: Path to target directory.\n",
      "    :param cycle: A datetime object to make available for use in the config.\n",
      "    :param leadtime: A timedelta object to make available for use in the config.\n",
      "    :param keys: YAML keys leading to file dst/src block.\n",
      "    :param dry_run: Do not copy files.\n",
      "    :param stdin_ok: OK to read from ``stdin``?\n",
      "    :return: ``True`` if all copies were created.\n",
      "\n"
     ]
    }
   ],
   "source": [
    "help(fs.copy)"
   ]
  },
  {
   "cell_type": "markdown",
   "id": "0585971b-47c6-48aa-9f1f-d5890cbb2061",
   "metadata": {},
   "source": [
    "Files to be copied are specified by a mapping from keys destination-pathname keys to source-pathname values, either in a YAML file or a a Python ``dict``."
   ]
  },
  {
   "cell_type": "code",
   "execution_count": 3,
   "id": "a959522f-d769-48c6-918d-d42776b3600a",
   "metadata": {},
   "outputs": [
    {
     "name": "stdout",
     "output_type": "stream",
     "text": [
      "file1-copy.nml: fixtures/fs/file1.nml\n",
      "data/file2-copy.txt: fixtures/fs/file2.txt\n",
      "data/file3-copy.csv: fixtures/fs/file3.csv\n"
     ]
    }
   ],
   "source": [
    "%%bash\n",
    "cat fixtures/fs/copy-config.yaml"
   ]
  },
  {
   "cell_type": "markdown",
   "id": "5885fd76-78de-4814-ad7b-dfd6df18a07d",
   "metadata": {},
   "source": [
    "With these instructions, `copy()` creates a copy of each given file with the given name and in the given subdirectory. Copies are created in the directory indicated by `target_dir`. Paths can be provided either as a string or <a href=\"https://docs.python.org/3/library/pathlib.html#pathlib.Path\">Path</a> object. Any directories in the targeted paths for copying will be created if they don't already exist. `True` is returned upon a successful copy."
   ]
  },
  {
   "cell_type": "code",
   "execution_count": 4,
   "id": "a6aff6e3-815c-496e-81d7-d8756be9c232",
   "metadata": {},
   "outputs": [
    {
     "name": "stderr",
     "output_type": "stream",
     "text": [
      "[2024-11-19T23:14:42]     INFO Validating config against internal schema: files-to-stage\n",
      "[2024-11-19T23:14:42]     INFO 0 UW schema-validation errors found in fs config\n",
      "[2024-11-19T23:14:42]     INFO File copies: Initial state: Not Ready\n",
      "[2024-11-19T23:14:42]     INFO File copies: Checking requirements\n",
      "[2024-11-19T23:14:42]     INFO Copy fixtures/fs/file1.nml -> tmp/copy-target/file1-copy.nml: Initial state: Not Ready\n",
      "[2024-11-19T23:14:42]     INFO Copy fixtures/fs/file1.nml -> tmp/copy-target/file1-copy.nml: Checking requirements\n",
      "[2024-11-19T23:14:42]     INFO Copy fixtures/fs/file1.nml -> tmp/copy-target/file1-copy.nml: Requirement(s) ready\n",
      "[2024-11-19T23:14:42]     INFO Copy fixtures/fs/file1.nml -> tmp/copy-target/file1-copy.nml: Executing\n",
      "[2024-11-19T23:14:42]     INFO Copy fixtures/fs/file1.nml -> tmp/copy-target/file1-copy.nml: Final state: Ready\n",
      "[2024-11-19T23:14:42]     INFO Copy fixtures/fs/file2.txt -> tmp/copy-target/data/file2-copy.txt: Initial state: Not Ready\n",
      "[2024-11-19T23:14:42]     INFO Copy fixtures/fs/file2.txt -> tmp/copy-target/data/file2-copy.txt: Checking requirements\n",
      "[2024-11-19T23:14:42]     INFO Copy fixtures/fs/file2.txt -> tmp/copy-target/data/file2-copy.txt: Requirement(s) ready\n",
      "[2024-11-19T23:14:42]     INFO Copy fixtures/fs/file2.txt -> tmp/copy-target/data/file2-copy.txt: Executing\n",
      "[2024-11-19T23:14:42]     INFO Copy fixtures/fs/file2.txt -> tmp/copy-target/data/file2-copy.txt: Final state: Ready\n",
      "[2024-11-19T23:14:42]     INFO Copy fixtures/fs/file3.csv -> tmp/copy-target/data/file3-copy.csv: Initial state: Not Ready\n",
      "[2024-11-19T23:14:42]     INFO Copy fixtures/fs/file3.csv -> tmp/copy-target/data/file3-copy.csv: Checking requirements\n",
      "[2024-11-19T23:14:42]     INFO Copy fixtures/fs/file3.csv -> tmp/copy-target/data/file3-copy.csv: Requirement(s) ready\n",
      "[2024-11-19T23:14:42]     INFO Copy fixtures/fs/file3.csv -> tmp/copy-target/data/file3-copy.csv: Executing\n",
      "[2024-11-19T23:14:42]     INFO Copy fixtures/fs/file3.csv -> tmp/copy-target/data/file3-copy.csv: Final state: Ready\n",
      "[2024-11-19T23:14:42]     INFO File copies: Final state: Ready\n"
     ]
    },
    {
     "data": {
      "text/plain": [
       "True"
      ]
     },
     "execution_count": 4,
     "metadata": {},
     "output_type": "execute_result"
    }
   ],
   "source": [
    "rmtree(\"tmp/copy-target\", ignore_errors=True)\n",
    "fs.copy(\n",
    "    config=\"fixtures/fs/copy-config.yaml\",\n",
    "    target_dir=Path(\"tmp/copy-target\")\n",
    ")"
   ]
  },
  {
   "cell_type": "markdown",
   "id": "5c05369f-3cf6-4576-8689-df98ed9d151d",
   "metadata": {},
   "source": [
    "Examining the target directory, we can see that the copies of the files have been made with their specified names and in their specified directories."
   ]
  },
  {
   "cell_type": "code",
   "execution_count": 5,
   "id": "e67fdb49-beef-4006-9e36-1a22829f21fc",
   "metadata": {},
   "outputs": [
    {
     "name": "stdout",
     "output_type": "stream",
     "text": [
      "\u001b[01;34mtmp/copy-target\u001b[0m\n",
      "├── \u001b[01;34mdata\u001b[0m\n",
      "│   ├── \u001b[00mfile2-copy.txt\u001b[0m\n",
      "│   └── \u001b[00mfile3-copy.csv\u001b[0m\n",
      "└── \u001b[00mfile1-copy.nml\u001b[0m\n",
      "\n",
      "1 directory, 3 files\n"
     ]
    }
   ],
   "source": [
    "%%bash\n",
    "tree tmp/copy-target"
   ]
  },
  {
   "cell_type": "markdown",
   "id": "90e17445-3d87-4894-8211-8c737f7579d6",
   "metadata": {},
   "source": [
    "### Failing to copy\n",
    "\n",
    "A configuration can be provided as a dictionary instead as this example demonstrates. However, `missing-file.nml` does not exist. The function provides a warning and returns `False`."
   ]
  },
  {
   "cell_type": "code",
   "execution_count": 6,
   "id": "b1fa6662-c4f3-4f7a-9b5d-8ee258cd6e0e",
   "metadata": {},
   "outputs": [
    {
     "name": "stderr",
     "output_type": "stream",
     "text": [
      "[2024-11-19T23:14:42]     INFO Validating config against internal schema: files-to-stage\n",
      "[2024-11-19T23:14:42]     INFO 0 UW schema-validation errors found in fs config\n",
      "[2024-11-19T23:14:42]     INFO File copies: Initial state: Not Ready\n",
      "[2024-11-19T23:14:42]     INFO File copies: Checking requirements\n",
      "[2024-11-19T23:14:42]     INFO Copy fixtures/fs/missing-file.nml -> tmp/copy-target/missing-copy.nml: Initial state: Not Ready\n",
      "[2024-11-19T23:14:42]     INFO Copy fixtures/fs/missing-file.nml -> tmp/copy-target/missing-copy.nml: Checking requirements\n",
      "[2024-11-19T23:14:42]  WARNING File fixtures/fs/missing-file.nml: State: Not Ready (external asset)\n",
      "[2024-11-19T23:14:42]     INFO Copy fixtures/fs/missing-file.nml -> tmp/copy-target/missing-copy.nml: Requirement(s) not ready\n",
      "[2024-11-19T23:14:42]  WARNING Copy fixtures/fs/missing-file.nml -> tmp/copy-target/missing-copy.nml: Final state: Not Ready\n",
      "[2024-11-19T23:14:42]  WARNING File copies: Final state: Not Ready\n"
     ]
    },
    {
     "data": {
      "text/plain": [
       "False"
      ]
     },
     "execution_count": 6,
     "metadata": {},
     "output_type": "execute_result"
    }
   ],
   "source": [
    "fs.copy(\n",
    "    config={\"missing-copy.nml\":\"fixtures/fs/missing-file.nml\"},\n",
    "    target_dir=\"tmp/copy-target\"\n",
    ")"
   ]
  },
  {
   "cell_type": "markdown",
   "id": "6f93ced5-0953-462b-9739-e74333c94e64",
   "metadata": {},
   "source": [
    "The missing copy does not appear in the target directory."
   ]
  },
  {
   "cell_type": "code",
   "execution_count": 7,
   "id": "ab122bde-f483-4981-8308-fc6d4a90e50d",
   "metadata": {},
   "outputs": [
    {
     "name": "stdout",
     "output_type": "stream",
     "text": [
      "\u001b[01;34mtmp/copy-target\u001b[0m\n",
      "├── \u001b[01;34mdata\u001b[0m\n",
      "│   ├── \u001b[00mfile2-copy.txt\u001b[0m\n",
      "│   └── \u001b[00mfile3-copy.csv\u001b[0m\n",
      "└── \u001b[00mfile1-copy.nml\u001b[0m\n",
      "\n",
      "1 directory, 3 files\n"
     ]
    }
   ],
   "source": [
    "%%bash\n",
    "tree tmp/copy-target"
   ]
  },
  {
   "cell_type": "markdown",
   "id": "b2527839-c217-428d-a686-c684a682c0e8",
   "metadata": {},
   "source": [
    "### Using the `keys` parameter<!--copy-->\n",
    "\n",
    "Consider the following configuration, in which the destination/source mapping is not located at the top level of the configuration:"
   ]
  },
  {
   "cell_type": "code",
   "execution_count": 8,
   "id": "1f567844-ff8d-4e7f-87be-dffae9e15643",
   "metadata": {},
   "outputs": [
    {
     "name": "stdout",
     "output_type": "stream",
     "text": [
      "files:\n",
      "  to:\n",
      "    copy:\n",
      "      file1-copy.nml: fixtures/fs/file1.nml\n",
      "      data/file2-copy.txt: fixtures/fs/file2.txt\n",
      "      data/file3-copy.csv: fixtures/fs/file3.csv\n"
     ]
    }
   ],
   "source": [
    "%%bash\n",
    "cat fixtures/fs/copy-keys-config.yaml"
   ]
  },
  {
   "cell_type": "markdown",
   "id": "5311866f-a1f5-4243-81a8-2c52172e091a",
   "metadata": {},
   "source": [
    "Without additional information, `copy()` would raise a `UWConfigError` given this configuration. However, the list of keys leading to the destination/source mapping can be provided with the `keys` parameter:"
   ]
  },
  {
   "cell_type": "code",
   "execution_count": 9,
   "id": "dda3e407-a1a2-4b11-823a-3b6fdc39f67a",
   "metadata": {},
   "outputs": [
    {
     "name": "stderr",
     "output_type": "stream",
     "text": [
      "[2024-11-19T23:14:42]     INFO Validating config against internal schema: files-to-stage\n",
      "[2024-11-19T23:14:42]     INFO 0 UW schema-validation errors found in fs config\n",
      "[2024-11-19T23:14:42]     INFO File copies: Initial state: Not Ready\n",
      "[2024-11-19T23:14:42]     INFO File copies: Checking requirements\n",
      "[2024-11-19T23:14:42]     INFO Copy fixtures/fs/file1.nml -> tmp/copy-keys-target/file1-copy.nml: Initial state: Not Ready\n",
      "[2024-11-19T23:14:42]     INFO Copy fixtures/fs/file1.nml -> tmp/copy-keys-target/file1-copy.nml: Checking requirements\n",
      "[2024-11-19T23:14:42]     INFO Copy fixtures/fs/file1.nml -> tmp/copy-keys-target/file1-copy.nml: Requirement(s) ready\n",
      "[2024-11-19T23:14:42]     INFO Copy fixtures/fs/file1.nml -> tmp/copy-keys-target/file1-copy.nml: Executing\n",
      "[2024-11-19T23:14:42]     INFO Copy fixtures/fs/file1.nml -> tmp/copy-keys-target/file1-copy.nml: Final state: Ready\n",
      "[2024-11-19T23:14:42]     INFO Copy fixtures/fs/file2.txt -> tmp/copy-keys-target/data/file2-copy.txt: Initial state: Not Ready\n",
      "[2024-11-19T23:14:42]     INFO Copy fixtures/fs/file2.txt -> tmp/copy-keys-target/data/file2-copy.txt: Checking requirements\n",
      "[2024-11-19T23:14:42]     INFO Copy fixtures/fs/file2.txt -> tmp/copy-keys-target/data/file2-copy.txt: Requirement(s) ready\n",
      "[2024-11-19T23:14:42]     INFO Copy fixtures/fs/file2.txt -> tmp/copy-keys-target/data/file2-copy.txt: Executing\n",
      "[2024-11-19T23:14:42]     INFO Copy fixtures/fs/file2.txt -> tmp/copy-keys-target/data/file2-copy.txt: Final state: Ready\n",
      "[2024-11-19T23:14:42]     INFO Copy fixtures/fs/file3.csv -> tmp/copy-keys-target/data/file3-copy.csv: Initial state: Not Ready\n",
      "[2024-11-19T23:14:42]     INFO Copy fixtures/fs/file3.csv -> tmp/copy-keys-target/data/file3-copy.csv: Checking requirements\n",
      "[2024-11-19T23:14:42]     INFO Copy fixtures/fs/file3.csv -> tmp/copy-keys-target/data/file3-copy.csv: Requirement(s) ready\n",
      "[2024-11-19T23:14:42]     INFO Copy fixtures/fs/file3.csv -> tmp/copy-keys-target/data/file3-copy.csv: Executing\n",
      "[2024-11-19T23:14:42]     INFO Copy fixtures/fs/file3.csv -> tmp/copy-keys-target/data/file3-copy.csv: Final state: Ready\n",
      "[2024-11-19T23:14:42]     INFO File copies: Final state: Ready\n"
     ]
    },
    {
     "data": {
      "text/plain": [
       "True"
      ]
     },
     "execution_count": 9,
     "metadata": {},
     "output_type": "execute_result"
    }
   ],
   "source": [
    "rmtree(\"tmp/copy-keys-target\", ignore_errors=True)\n",
    "fs.copy(\n",
    "    config=\"fixtures/fs/copy-keys-config.yaml\",\n",
    "    target_dir=\"tmp/copy-keys-target\",\n",
    "    keys=[\"files\",\"to\",\"copy\"]\n",
    ")"
   ]
  },
  {
   "cell_type": "markdown",
   "id": "d62ae369-69f9-4003-b5d3-d7b5908f23af",
   "metadata": {},
   "source": [
    "With this information provided, the copy is successful."
   ]
  },
  {
   "cell_type": "code",
   "execution_count": 10,
   "id": "59c67e22-fe98-4e74-8b0b-b40e24a804e8",
   "metadata": {},
   "outputs": [
    {
     "name": "stdout",
     "output_type": "stream",
     "text": [
      "\u001b[01;34mtmp/copy-keys-target\u001b[0m\n",
      "├── \u001b[01;34mdata\u001b[0m\n",
      "│   ├── \u001b[00mfile2-copy.txt\u001b[0m\n",
      "│   └── \u001b[00mfile3-copy.csv\u001b[0m\n",
      "└── \u001b[00mfile1-copy.nml\u001b[0m\n",
      "\n",
      "1 directory, 3 files\n"
     ]
    }
   ],
   "source": [
    "%%bash\n",
    "tree tmp/copy-keys-target"
   ]
  },
  {
   "cell_type": "markdown",
   "id": "1a1adba8-2daf-4fb6-b224-980b134f011c",
   "metadata": {},
   "source": [
    "### Using the `Copier` class\n",
    "\n",
    "An alternative to using `copy()` is to instantiate a `Copier` object , then call its `go()` method."
   ]
  },
  {
   "cell_type": "code",
   "execution_count": 11,
   "id": "7434dee7-fb52-4d9b-b2a1-d414165f3186",
   "metadata": {},
   "outputs": [
    {
     "name": "stdout",
     "output_type": "stream",
     "text": [
      "Help on class Copier in module uwtools.fs:\n",
      "\n",
      "class Copier(FileStager)\n",
      " |  Copier(config: Union[dict, str, pathlib.Path, NoneType] = None, target_dir: Union[str, pathlib.Path, NoneType] = None, cycle: Optional[datetime.datetime] = None, leadtime: Optional[datetime.timedelta] = None, keys: Optional[list[str]] = None, dry_run: bool = False) -> None\n",
      " |\n",
      " |  Stage files by copying.\n",
      " |\n",
      " |  Method resolution order:\n",
      " |      Copier\n",
      " |      FileStager\n",
      " |      Stager\n",
      " |      abc.ABC\n",
      " |      builtins.object\n",
      " |\n",
      " |  Methods defined here:\n",
      " |\n",
      " |  go(self)\n",
      " |      Copy files.\n",
      " |\n",
      " |  ----------------------------------------------------------------------\n",
      " |  Data and other attributes defined here:\n",
      " |\n",
      " |  __abstractmethods__ = frozenset()\n",
      " |\n",
      " |  ----------------------------------------------------------------------\n",
      " |  Methods inherited from Stager:\n",
      " |\n",
      " |  __init__(self, config: Union[dict, str, pathlib.Path, NoneType] = None, target_dir: Union[str, pathlib.Path, NoneType] = None, cycle: Optional[datetime.datetime] = None, leadtime: Optional[datetime.timedelta] = None, keys: Optional[list[str]] = None, dry_run: bool = False) -> None\n",
      " |      Stage files and directories.\n",
      " |\n",
      " |      :param config: YAML-file path, or ``dict`` (read ``stdin`` if missing or ``None``).\n",
      " |      :param target_dir: Path to target directory.\n",
      " |      :param cycle: A ``datetime`` object to make available for use in the config.\n",
      " |      :param leadtime: A ``timedelta`` object to make available for use in the config.\n",
      " |      :param keys: YAML keys leading to file dst/src block.\n",
      " |      :param dry_run: Do not copy files.\n",
      " |      :raises: ``UWConfigError`` if config fails validation.\n",
      " |\n",
      " |  ----------------------------------------------------------------------\n",
      " |  Data descriptors inherited from Stager:\n",
      " |\n",
      " |  __dict__\n",
      " |      dictionary for instance variables\n",
      " |\n",
      " |  __weakref__\n",
      " |      list of weak references to the object\n",
      "\n"
     ]
    }
   ],
   "source": [
    "help(fs.Copier)"
   ]
  },
  {
   "cell_type": "markdown",
   "id": "061ac341-96cb-4af6-94ce-4f1e4d342b63",
   "metadata": {},
   "source": [
    "A `Copier` object is instantiated using the same parameters as `copy()`, but copying is not performed until `Copier.go()` is called."
   ]
  },
  {
   "cell_type": "code",
   "execution_count": 12,
   "id": "578cc091-c0eb-4293-8dbd-ee74a69a0940",
   "metadata": {},
   "outputs": [
    {
     "name": "stderr",
     "output_type": "stream",
     "text": [
      "[2024-11-19T23:14:42]     INFO Validating config against internal schema: files-to-stage\n",
      "[2024-11-19T23:14:42]     INFO 0 UW schema-validation errors found in fs config\n",
      "[2024-11-19T23:14:42]     INFO File copies: Initial state: Not Ready\n",
      "[2024-11-19T23:14:42]     INFO File copies: Checking requirements\n",
      "[2024-11-19T23:14:42]     INFO Copy fixtures/fs/file1.nml -> tmp/copier-target/file1-copy.nml: Initial state: Not Ready\n",
      "[2024-11-19T23:14:42]     INFO Copy fixtures/fs/file1.nml -> tmp/copier-target/file1-copy.nml: Checking requirements\n",
      "[2024-11-19T23:14:42]     INFO Copy fixtures/fs/file1.nml -> tmp/copier-target/file1-copy.nml: Requirement(s) ready\n",
      "[2024-11-19T23:14:42]     INFO Copy fixtures/fs/file1.nml -> tmp/copier-target/file1-copy.nml: Executing\n",
      "[2024-11-19T23:14:42]     INFO Copy fixtures/fs/file1.nml -> tmp/copier-target/file1-copy.nml: Final state: Ready\n",
      "[2024-11-19T23:14:42]     INFO Copy fixtures/fs/file2.txt -> tmp/copier-target/data/file2-copy.txt: Initial state: Not Ready\n",
      "[2024-11-19T23:14:42]     INFO Copy fixtures/fs/file2.txt -> tmp/copier-target/data/file2-copy.txt: Checking requirements\n",
      "[2024-11-19T23:14:42]     INFO Copy fixtures/fs/file2.txt -> tmp/copier-target/data/file2-copy.txt: Requirement(s) ready\n",
      "[2024-11-19T23:14:42]     INFO Copy fixtures/fs/file2.txt -> tmp/copier-target/data/file2-copy.txt: Executing\n",
      "[2024-11-19T23:14:42]     INFO Copy fixtures/fs/file2.txt -> tmp/copier-target/data/file2-copy.txt: Final state: Ready\n",
      "[2024-11-19T23:14:42]     INFO Copy fixtures/fs/file3.csv -> tmp/copier-target/data/file3-copy.csv: Initial state: Not Ready\n",
      "[2024-11-19T23:14:42]     INFO Copy fixtures/fs/file3.csv -> tmp/copier-target/data/file3-copy.csv: Checking requirements\n",
      "[2024-11-19T23:14:42]     INFO Copy fixtures/fs/file3.csv -> tmp/copier-target/data/file3-copy.csv: Requirement(s) ready\n",
      "[2024-11-19T23:14:42]     INFO Copy fixtures/fs/file3.csv -> tmp/copier-target/data/file3-copy.csv: Executing\n",
      "[2024-11-19T23:14:42]     INFO Copy fixtures/fs/file3.csv -> tmp/copier-target/data/file3-copy.csv: Final state: Ready\n",
      "[2024-11-19T23:14:42]     INFO File copies: Final state: Ready\n"
     ]
    },
    {
     "data": {
      "text/plain": [
       "[Asset(ref=PosixPath('tmp/copier-target/file1-copy.nml'), ready=<bound method Path.is_file of PosixPath('tmp/copier-target/file1-copy.nml')>),\n",
       " Asset(ref=PosixPath('tmp/copier-target/data/file2-copy.txt'), ready=<bound method Path.is_file of PosixPath('tmp/copier-target/data/file2-copy.txt')>),\n",
       " Asset(ref=PosixPath('tmp/copier-target/data/file3-copy.csv'), ready=<bound method Path.is_file of PosixPath('tmp/copier-target/data/file3-copy.csv')>)]"
      ]
     },
     "execution_count": 12,
     "metadata": {},
     "output_type": "execute_result"
    }
   ],
   "source": [
    "rmtree(\"tmp/copier-target\", ignore_errors=True)\n",
    "copier = fs.Copier(\n",
    "    config=\"fixtures/fs/copy-config.yaml\",\n",
    "    target_dir=\"tmp/copier-target\"\n",
    ")\n",
    "copier.go()"
   ]
  },
  {
   "cell_type": "markdown",
   "id": "842f638a-bf97-4d40-bb40-0f37cc03ad9b",
   "metadata": {},
   "source": [
    "Once `Copier.go()` is called, copies are created in the same way as they would have with `copy()`."
   ]
  },
  {
   "cell_type": "code",
   "execution_count": 13,
   "id": "c6aaac2b-bb72-433d-8ad4-349a1056cfa3",
   "metadata": {},
   "outputs": [
    {
     "name": "stdout",
     "output_type": "stream",
     "text": [
      "\u001b[01;34mtmp/copier-target\u001b[0m\n",
      "├── \u001b[01;34mdata\u001b[0m\n",
      "│   ├── \u001b[00mfile2-copy.txt\u001b[0m\n",
      "│   └── \u001b[00mfile3-copy.csv\u001b[0m\n",
      "└── \u001b[00mfile1-copy.nml\u001b[0m\n",
      "\n",
      "1 directory, 3 files\n"
     ]
    }
   ],
   "source": [
    "%%bash\n",
    "tree tmp/copier-target"
   ]
  },
  {
   "cell_type": "markdown",
   "id": "76f144f9-0a2f-48ad-ae83-14bd7a97353e",
   "metadata": {},
   "source": [
    "## Linking files\n",
    "\n",
    "The `link()` function creates symbolic links to files, automatically creating parent directories as needed."
   ]
  },
  {
   "cell_type": "code",
   "execution_count": 14,
   "id": "404d051e-18e1-4927-a24f-cbe98ab01ce9",
   "metadata": {},
   "outputs": [
    {
     "name": "stdout",
     "output_type": "stream",
     "text": [
      "Help on function link in module uwtools.api.fs:\n",
      "\n",
      "link(config: Union[dict, str, pathlib.Path, NoneType] = None, target_dir: Union[str, pathlib.Path, NoneType] = None, cycle: Optional[datetime.datetime] = None, leadtime: Optional[datetime.timedelta] = None, keys: Optional[list[str]] = None, dry_run: bool = False, stdin_ok: bool = False) -> bool\n",
      "    Link files.\n",
      "\n",
      "    :param config: YAML-file path, or ``dict`` (read ``stdin`` if missing or ``None``).\n",
      "    :param target_dir: Path to target directory.\n",
      "    :param cycle: A datetime object to make available for use in the config.\n",
      "    :param leadtime: A timedelta object to make available for use in the config.\n",
      "    :param keys: YAML keys leading to file dst/src block.\n",
      "    :param dry_run: Do not link files.\n",
      "    :param stdin_ok: OK to read from ``stdin``?\n",
      "    :return: ``True`` if all links were created.\n",
      "\n"
     ]
    }
   ],
   "source": [
    "help(fs.link)"
   ]
  },
  {
   "cell_type": "markdown",
   "id": "710edac4-ba97-4599-a0f3-bc75ba2210e2",
   "metadata": {},
   "source": [
    "Links to be created are specified by a mapping from keys destination-pathname keys to source-pathname values, either in a YAML file or a Python ``dict``."
   ]
  },
  {
   "cell_type": "code",
   "execution_count": 15,
   "id": "097b896c-aef4-48ac-aea5-eb2d463d172b",
   "metadata": {},
   "outputs": [
    {
     "name": "stdout",
     "output_type": "stream",
     "text": [
      "file1-link.nml: fixtures/fs/file1.nml\n",
      "file2-link.txt: fixtures/fs/file2.txt\n",
      "data/file3-link.csv: fixtures/fs/file3.csv\n"
     ]
    }
   ],
   "source": [
    "%%bash\n",
    "cat fixtures/fs/link-config.yaml"
   ]
  },
  {
   "cell_type": "markdown",
   "id": "1acd36eb-a5e7-4451-9d22-bfe8798cb4b0",
   "metadata": {},
   "source": [
    "With these instructions, `link()` creates a symbolic link of each given file with the given name and in the given subdirectory. Links are created in the directory indicated by `target_dir`. Paths can be provided either as a string or <a href=\"https://docs.python.org/3/library/pathlib.html#pathlib.Path\">Path</a> object. Any directories in the targeted paths will be created if they don't already exist. `True` is returned upon a successful run."
   ]
  },
  {
   "cell_type": "code",
   "execution_count": 16,
   "id": "b6317f8a-c5fb-4114-93fa-236df3fd8805",
   "metadata": {},
   "outputs": [
    {
     "name": "stderr",
     "output_type": "stream",
     "text": [
      "[2024-11-19T23:14:42]     INFO Validating config against internal schema: files-to-stage\n",
      "[2024-11-19T23:14:42]     INFO 0 UW schema-validation errors found in fs config\n",
      "[2024-11-19T23:14:42]     INFO File links: Initial state: Not Ready\n",
      "[2024-11-19T23:14:42]     INFO File links: Checking requirements\n",
      "[2024-11-19T23:14:42]     INFO Link tmp/link-target/file1-link.nml -> fixtures/fs/file1.nml: Initial state: Not Ready\n",
      "[2024-11-19T23:14:42]     INFO Link tmp/link-target/file1-link.nml -> fixtures/fs/file1.nml: Checking requirements\n",
      "[2024-11-19T23:14:42]     INFO Link tmp/link-target/file1-link.nml -> fixtures/fs/file1.nml: Requirement(s) ready\n",
      "[2024-11-19T23:14:42]     INFO Link tmp/link-target/file1-link.nml -> fixtures/fs/file1.nml: Executing\n",
      "[2024-11-19T23:14:42]     INFO Link tmp/link-target/file1-link.nml -> fixtures/fs/file1.nml: Final state: Ready\n",
      "[2024-11-19T23:14:42]     INFO Link tmp/link-target/file2-link.txt -> fixtures/fs/file2.txt: Initial state: Not Ready\n",
      "[2024-11-19T23:14:42]     INFO Link tmp/link-target/file2-link.txt -> fixtures/fs/file2.txt: Checking requirements\n",
      "[2024-11-19T23:14:42]     INFO Link tmp/link-target/file2-link.txt -> fixtures/fs/file2.txt: Requirement(s) ready\n",
      "[2024-11-19T23:14:42]     INFO Link tmp/link-target/file2-link.txt -> fixtures/fs/file2.txt: Executing\n",
      "[2024-11-19T23:14:42]     INFO Link tmp/link-target/file2-link.txt -> fixtures/fs/file2.txt: Final state: Ready\n",
      "[2024-11-19T23:14:42]     INFO Link tmp/link-target/data/file3-link.csv -> fixtures/fs/file3.csv: Initial state: Not Ready\n",
      "[2024-11-19T23:14:42]     INFO Link tmp/link-target/data/file3-link.csv -> fixtures/fs/file3.csv: Checking requirements\n",
      "[2024-11-19T23:14:42]     INFO Link tmp/link-target/data/file3-link.csv -> fixtures/fs/file3.csv: Requirement(s) ready\n",
      "[2024-11-19T23:14:42]     INFO Link tmp/link-target/data/file3-link.csv -> fixtures/fs/file3.csv: Executing\n",
      "[2024-11-19T23:14:42]     INFO Link tmp/link-target/data/file3-link.csv -> fixtures/fs/file3.csv: Final state: Ready\n",
      "[2024-11-19T23:14:42]     INFO File links: Final state: Ready\n"
     ]
    },
    {
     "data": {
      "text/plain": [
       "True"
      ]
     },
     "execution_count": 16,
     "metadata": {},
     "output_type": "execute_result"
    }
   ],
   "source": [
    "rmtree(\"tmp/link-target\", ignore_errors=True)\n",
    "fs.link(\n",
    "    config=Path(\"fixtures/fs/link-config.yaml\"),\n",
    "    target_dir=\"tmp/link-target\"\n",
    ")"
   ]
  },
  {
   "cell_type": "markdown",
   "id": "28fe0009-11cb-4ec4-b203-221e2a59cedb",
   "metadata": {},
   "source": [
    "Examining the target directory, we can see that the links have been created with their specified names and in their specified directories."
   ]
  },
  {
   "cell_type": "code",
   "execution_count": 17,
   "id": "b31ca50e-01c4-4665-81e0-de70a75ceb2a",
   "metadata": {},
   "outputs": [
    {
     "name": "stdout",
     "output_type": "stream",
     "text": [
      "\u001b[01;34mtmp/link-target\u001b[0m\n",
      "├── \u001b[01;34mdata\u001b[0m\n",
      "│   └── \u001b[01;36mfile3-link.csv\u001b[0m -> \u001b[00m../../../fixtures/fs/file3.csv\u001b[0m\n",
      "├── \u001b[01;36mfile1-link.nml\u001b[0m -> \u001b[00m../../fixtures/fs/file1.nml\u001b[0m\n",
      "└── \u001b[01;36mfile2-link.txt\u001b[0m -> \u001b[00m../../fixtures/fs/file2.txt\u001b[0m\n",
      "\n",
      "1 directory, 3 files\n"
     ]
    }
   ],
   "source": [
    "%%bash\n",
    "tree tmp/link-target"
   ]
  },
  {
   "cell_type": "markdown",
   "id": "e0661083-6e83-490f-82c5-19098b0f1b3c",
   "metadata": {},
   "source": [
    "### Failing to link\n",
    "\n",
    "A configuration can be provided as a dictionary instead as this example demonstrates. However, `missing-file.nml` does not exist. The function provides a warning and returns `False`."
   ]
  },
  {
   "cell_type": "code",
   "execution_count": 18,
   "id": "59d93133-891d-4903-a965-23607cc72474",
   "metadata": {},
   "outputs": [
    {
     "name": "stderr",
     "output_type": "stream",
     "text": [
      "[2024-11-19T23:14:42]     INFO Validating config against internal schema: files-to-stage\n",
      "[2024-11-19T23:14:42]     INFO 0 UW schema-validation errors found in fs config\n",
      "[2024-11-19T23:14:42]     INFO File links: Initial state: Not Ready\n",
      "[2024-11-19T23:14:42]     INFO File links: Checking requirements\n",
      "[2024-11-19T23:14:42]     INFO Link tmp/link-target/missing-link.nml -> fixtures/fs/missing-file.nml: Initial state: Not Ready\n",
      "[2024-11-19T23:14:42]     INFO Link tmp/link-target/missing-link.nml -> fixtures/fs/missing-file.nml: Checking requirements\n",
      "[2024-11-19T23:14:42]  WARNING Filesystem item fixtures/fs/missing-file.nml: State: Not Ready (external asset)\n",
      "[2024-11-19T23:14:42]     INFO Link tmp/link-target/missing-link.nml -> fixtures/fs/missing-file.nml: Requirement(s) not ready\n",
      "[2024-11-19T23:14:42]  WARNING Link tmp/link-target/missing-link.nml -> fixtures/fs/missing-file.nml: Final state: Not Ready\n",
      "[2024-11-19T23:14:42]  WARNING File links: Final state: Not Ready\n"
     ]
    },
    {
     "data": {
      "text/plain": [
       "False"
      ]
     },
     "execution_count": 18,
     "metadata": {},
     "output_type": "execute_result"
    }
   ],
   "source": [
    "fs.link(\n",
    "    config={\"missing-link.nml\":\"fixtures/fs/missing-file.nml\"},\n",
    "    target_dir=\"tmp/link-target\"\n",
    ")"
   ]
  },
  {
   "cell_type": "markdown",
   "id": "7a3ca573-c160-4afa-8a96-4165b01eecfe",
   "metadata": {},
   "source": [
    "The missing link does not appear in the target directory."
   ]
  },
  {
   "cell_type": "code",
   "execution_count": 19,
   "id": "7a6e94b9-1161-4f41-9333-55736aec07b3",
   "metadata": {},
   "outputs": [
    {
     "name": "stdout",
     "output_type": "stream",
     "text": [
      "\u001b[01;34mtmp/link-target\u001b[0m\n",
      "├── \u001b[01;34mdata\u001b[0m\n",
      "│   └── \u001b[01;36mfile3-link.csv\u001b[0m -> \u001b[00m../../../fixtures/fs/file3.csv\u001b[0m\n",
      "├── \u001b[01;36mfile1-link.nml\u001b[0m -> \u001b[00m../../fixtures/fs/file1.nml\u001b[0m\n",
      "└── \u001b[01;36mfile2-link.txt\u001b[0m -> \u001b[00m../../fixtures/fs/file2.txt\u001b[0m\n",
      "\n",
      "1 directory, 3 files\n"
     ]
    }
   ],
   "source": [
    "%%bash\n",
    "tree tmp/link-target"
   ]
  },
  {
   "cell_type": "markdown",
   "id": "b887c95e-f71f-4a26-b709-d410a3c30c2e",
   "metadata": {},
   "source": [
    "### Using the `keys` parameter <!--link-->\n",
    "\n",
    "Consider the following configuration, in which the destination/source mapping is not located at the top level of the configuration:"
   ]
  },
  {
   "cell_type": "code",
   "execution_count": 20,
   "id": "1de6cbd4-3b10-4b18-a8a5-c0cd21064bd3",
   "metadata": {},
   "outputs": [
    {
     "name": "stdout",
     "output_type": "stream",
     "text": [
      "files:\n",
      "  to:\n",
      "    link:\n",
      "      file1-link.nml: fixtures/fs/file1.nml\n",
      "      file2-link.txt: fixtures/fs/file2.txt\n",
      "      data/file3-link.csv: fixtures/fs/file3.csv\n"
     ]
    }
   ],
   "source": [
    "%%bash\n",
    "cat fixtures/fs/link-keys-config.yaml"
   ]
  },
  {
   "cell_type": "markdown",
   "id": "9977ee46-17da-419e-821b-a32fac5139f8",
   "metadata": {},
   "source": [
    "Without additional information, `link()` would raise a `UWConfigError` given this configuration. However, the list of keys leading to the destination/source mapping can be provided with the `keys` parameter:"
   ]
  },
  {
   "cell_type": "code",
   "execution_count": 21,
   "id": "ee4bf2a3-4101-4d95-afd5-120e95e64550",
   "metadata": {},
   "outputs": [
    {
     "name": "stderr",
     "output_type": "stream",
     "text": [
      "[2024-11-19T23:14:42]     INFO Validating config against internal schema: files-to-stage\n",
      "[2024-11-19T23:14:42]     INFO 0 UW schema-validation errors found in fs config\n",
      "[2024-11-19T23:14:42]     INFO File links: Initial state: Not Ready\n",
      "[2024-11-19T23:14:42]     INFO File links: Checking requirements\n",
      "[2024-11-19T23:14:42]     INFO Link tmp/link-keys-target/file1-link.nml -> fixtures/fs/file1.nml: Initial state: Not Ready\n",
      "[2024-11-19T23:14:42]     INFO Link tmp/link-keys-target/file1-link.nml -> fixtures/fs/file1.nml: Checking requirements\n",
      "[2024-11-19T23:14:42]     INFO Link tmp/link-keys-target/file1-link.nml -> fixtures/fs/file1.nml: Requirement(s) ready\n",
      "[2024-11-19T23:14:42]     INFO Link tmp/link-keys-target/file1-link.nml -> fixtures/fs/file1.nml: Executing\n",
      "[2024-11-19T23:14:42]     INFO Link tmp/link-keys-target/file1-link.nml -> fixtures/fs/file1.nml: Final state: Ready\n",
      "[2024-11-19T23:14:42]     INFO Link tmp/link-keys-target/file2-link.txt -> fixtures/fs/file2.txt: Initial state: Not Ready\n",
      "[2024-11-19T23:14:42]     INFO Link tmp/link-keys-target/file2-link.txt -> fixtures/fs/file2.txt: Checking requirements\n",
      "[2024-11-19T23:14:42]     INFO Link tmp/link-keys-target/file2-link.txt -> fixtures/fs/file2.txt: Requirement(s) ready\n",
      "[2024-11-19T23:14:42]     INFO Link tmp/link-keys-target/file2-link.txt -> fixtures/fs/file2.txt: Executing\n",
      "[2024-11-19T23:14:42]     INFO Link tmp/link-keys-target/file2-link.txt -> fixtures/fs/file2.txt: Final state: Ready\n",
      "[2024-11-19T23:14:42]     INFO Link tmp/link-keys-target/data/file3-link.csv -> fixtures/fs/file3.csv: Initial state: Not Ready\n",
      "[2024-11-19T23:14:42]     INFO Link tmp/link-keys-target/data/file3-link.csv -> fixtures/fs/file3.csv: Checking requirements\n",
      "[2024-11-19T23:14:42]     INFO Link tmp/link-keys-target/data/file3-link.csv -> fixtures/fs/file3.csv: Requirement(s) ready\n",
      "[2024-11-19T23:14:42]     INFO Link tmp/link-keys-target/data/file3-link.csv -> fixtures/fs/file3.csv: Executing\n",
      "[2024-11-19T23:14:42]     INFO Link tmp/link-keys-target/data/file3-link.csv -> fixtures/fs/file3.csv: Final state: Ready\n",
      "[2024-11-19T23:14:42]     INFO File links: Final state: Ready\n"
     ]
    },
    {
     "data": {
      "text/plain": [
       "True"
      ]
     },
     "execution_count": 21,
     "metadata": {},
     "output_type": "execute_result"
    }
   ],
   "source": [
    "rmtree(\"tmp/link-keys-target\", ignore_errors=True)\n",
    "fs.link(\n",
    "    config=\"fixtures/fs/link-keys-config.yaml\",\n",
    "    target_dir=\"tmp/link-keys-target\",\n",
    "    keys=[\"files\",\"to\",\"link\"]\n",
    ")"
   ]
  },
  {
   "cell_type": "markdown",
   "id": "d331d715-b6f1-4a9a-a207-2fb296aec4af",
   "metadata": {},
   "source": [
    "With this information provided, the links are successfully created."
   ]
  },
  {
   "cell_type": "code",
   "execution_count": 22,
   "id": "1393ae73-798b-49c0-9b68-e8ed28ad1df0",
   "metadata": {},
   "outputs": [
    {
     "name": "stdout",
     "output_type": "stream",
     "text": [
      "\u001b[01;34mtmp/link-keys-target\u001b[0m\n",
      "├── \u001b[01;34mdata\u001b[0m\n",
      "│   └── \u001b[01;36mfile3-link.csv\u001b[0m -> \u001b[00m../../../fixtures/fs/file3.csv\u001b[0m\n",
      "├── \u001b[01;36mfile1-link.nml\u001b[0m -> \u001b[00m../../fixtures/fs/file1.nml\u001b[0m\n",
      "└── \u001b[01;36mfile2-link.txt\u001b[0m -> \u001b[00m../../fixtures/fs/file2.txt\u001b[0m\n",
      "\n",
      "1 directory, 3 files\n"
     ]
    }
   ],
   "source": [
    "%%bash\n",
    "tree tmp/link-keys-target"
   ]
  },
  {
   "cell_type": "markdown",
   "id": "29a9457a-e4f3-460a-b873-cf1bf236c9de",
   "metadata": {},
   "source": [
    "### Using the `Linker` class\n",
    "\n",
    "An alternative to using `link()` is to instantiate a `Linker` object , then call its `go()` method."
   ]
  },
  {
   "cell_type": "code",
   "execution_count": 23,
   "id": "b1e5d3a2-7003-4449-9483-440236f66df7",
   "metadata": {},
   "outputs": [
    {
     "name": "stdout",
     "output_type": "stream",
     "text": [
      "Help on class Linker in module uwtools.fs:\n",
      "\n",
      "class Linker(FileStager)\n",
      " |  Linker(config: Union[dict, str, pathlib.Path, NoneType] = None, target_dir: Union[str, pathlib.Path, NoneType] = None, cycle: Optional[datetime.datetime] = None, leadtime: Optional[datetime.timedelta] = None, keys: Optional[list[str]] = None, dry_run: bool = False) -> None\n",
      " |\n",
      " |  Stage files by linking.\n",
      " |\n",
      " |  Method resolution order:\n",
      " |      Linker\n",
      " |      FileStager\n",
      " |      Stager\n",
      " |      abc.ABC\n",
      " |      builtins.object\n",
      " |\n",
      " |  Methods defined here:\n",
      " |\n",
      " |  go(self)\n",
      " |      Link files.\n",
      " |\n",
      " |  ----------------------------------------------------------------------\n",
      " |  Data and other attributes defined here:\n",
      " |\n",
      " |  __abstractmethods__ = frozenset()\n",
      " |\n",
      " |  ----------------------------------------------------------------------\n",
      " |  Methods inherited from Stager:\n",
      " |\n",
      " |  __init__(self, config: Union[dict, str, pathlib.Path, NoneType] = None, target_dir: Union[str, pathlib.Path, NoneType] = None, cycle: Optional[datetime.datetime] = None, leadtime: Optional[datetime.timedelta] = None, keys: Optional[list[str]] = None, dry_run: bool = False) -> None\n",
      " |      Stage files and directories.\n",
      " |\n",
      " |      :param config: YAML-file path, or ``dict`` (read ``stdin`` if missing or ``None``).\n",
      " |      :param target_dir: Path to target directory.\n",
      " |      :param cycle: A ``datetime`` object to make available for use in the config.\n",
      " |      :param leadtime: A ``timedelta`` object to make available for use in the config.\n",
      " |      :param keys: YAML keys leading to file dst/src block.\n",
      " |      :param dry_run: Do not copy files.\n",
      " |      :raises: ``UWConfigError`` if config fails validation.\n",
      " |\n",
      " |  ----------------------------------------------------------------------\n",
      " |  Data descriptors inherited from Stager:\n",
      " |\n",
      " |  __dict__\n",
      " |      dictionary for instance variables\n",
      " |\n",
      " |  __weakref__\n",
      " |      list of weak references to the object\n",
      "\n"
     ]
    }
   ],
   "source": [
    "help(fs.Linker)"
   ]
  },
  {
   "cell_type": "markdown",
   "id": "3312a98b-9f5d-41bd-ad02-f69d291cc947",
   "metadata": {},
   "source": [
    "A `Linker` object is instantiated using the same parameters as `link()`, but links are not created until `Linker.go()` is called."
   ]
  },
  {
   "cell_type": "code",
   "execution_count": 24,
   "id": "ecfa9e89-9fbd-4352-babc-dfa5b91afe6a",
   "metadata": {},
   "outputs": [
    {
     "name": "stderr",
     "output_type": "stream",
     "text": [
      "[2024-11-19T23:14:42]     INFO Validating config against internal schema: files-to-stage\n",
      "[2024-11-19T23:14:42]     INFO 0 UW schema-validation errors found in fs config\n",
      "[2024-11-19T23:14:42]     INFO File links: Initial state: Not Ready\n",
      "[2024-11-19T23:14:42]     INFO File links: Checking requirements\n",
      "[2024-11-19T23:14:42]     INFO Link tmp/linker-target/file1-link.nml -> fixtures/fs/file1.nml: Initial state: Not Ready\n",
      "[2024-11-19T23:14:42]     INFO Link tmp/linker-target/file1-link.nml -> fixtures/fs/file1.nml: Checking requirements\n",
      "[2024-11-19T23:14:42]     INFO Link tmp/linker-target/file1-link.nml -> fixtures/fs/file1.nml: Requirement(s) ready\n",
      "[2024-11-19T23:14:42]     INFO Link tmp/linker-target/file1-link.nml -> fixtures/fs/file1.nml: Executing\n",
      "[2024-11-19T23:14:42]     INFO Link tmp/linker-target/file1-link.nml -> fixtures/fs/file1.nml: Final state: Ready\n",
      "[2024-11-19T23:14:42]     INFO Link tmp/linker-target/file2-link.txt -> fixtures/fs/file2.txt: Initial state: Not Ready\n",
      "[2024-11-19T23:14:42]     INFO Link tmp/linker-target/file2-link.txt -> fixtures/fs/file2.txt: Checking requirements\n",
      "[2024-11-19T23:14:42]     INFO Link tmp/linker-target/file2-link.txt -> fixtures/fs/file2.txt: Requirement(s) ready\n",
      "[2024-11-19T23:14:42]     INFO Link tmp/linker-target/file2-link.txt -> fixtures/fs/file2.txt: Executing\n",
      "[2024-11-19T23:14:42]     INFO Link tmp/linker-target/file2-link.txt -> fixtures/fs/file2.txt: Final state: Ready\n",
      "[2024-11-19T23:14:42]     INFO Link tmp/linker-target/data/file3-link.csv -> fixtures/fs/file3.csv: Initial state: Not Ready\n",
      "[2024-11-19T23:14:42]     INFO Link tmp/linker-target/data/file3-link.csv -> fixtures/fs/file3.csv: Checking requirements\n",
      "[2024-11-19T23:14:42]     INFO Link tmp/linker-target/data/file3-link.csv -> fixtures/fs/file3.csv: Requirement(s) ready\n",
      "[2024-11-19T23:14:42]     INFO Link tmp/linker-target/data/file3-link.csv -> fixtures/fs/file3.csv: Executing\n",
      "[2024-11-19T23:14:42]     INFO Link tmp/linker-target/data/file3-link.csv -> fixtures/fs/file3.csv: Final state: Ready\n",
      "[2024-11-19T23:14:42]     INFO File links: Final state: Ready\n"
     ]
    },
    {
     "data": {
      "text/plain": [
       "[Asset(ref=PosixPath('tmp/linker-target/file1-link.nml'), ready=<bound method Path.exists of PosixPath('tmp/linker-target/file1-link.nml')>),\n",
       " Asset(ref=PosixPath('tmp/linker-target/file2-link.txt'), ready=<bound method Path.exists of PosixPath('tmp/linker-target/file2-link.txt')>),\n",
       " Asset(ref=PosixPath('tmp/linker-target/data/file3-link.csv'), ready=<bound method Path.exists of PosixPath('tmp/linker-target/data/file3-link.csv')>)]"
      ]
     },
     "execution_count": 24,
     "metadata": {},
     "output_type": "execute_result"
    }
   ],
   "source": [
    "rmtree(\"tmp/linker-target\", ignore_errors=True)\n",
    "linker = fs.Linker(\n",
    "    config=\"fixtures/fs/link-config.yaml\",\n",
    "    target_dir=\"tmp/linker-target\"\n",
    ")\n",
    "linker.go()"
   ]
  },
  {
   "cell_type": "markdown",
   "id": "8d2cbb32-cabb-498e-b4db-414e3ac2cf1d",
   "metadata": {},
   "source": [
    "Once `Linker.go()` is called, links are created in the same way as they would have with `link()`."
   ]
  },
  {
   "cell_type": "code",
   "execution_count": 25,
   "id": "6695f7bb-7ab7-42d1-9d2c-0bef7341147d",
   "metadata": {},
   "outputs": [
    {
     "name": "stdout",
     "output_type": "stream",
     "text": [
      "\u001b[01;34mtmp/linker-target\u001b[0m\n",
      "├── \u001b[01;34mdata\u001b[0m\n",
      "│   └── \u001b[01;36mfile3-link.csv\u001b[0m -> \u001b[00m../../../fixtures/fs/file3.csv\u001b[0m\n",
      "├── \u001b[01;36mfile1-link.nml\u001b[0m -> \u001b[00m../../fixtures/fs/file1.nml\u001b[0m\n",
      "└── \u001b[01;36mfile2-link.txt\u001b[0m -> \u001b[00m../../fixtures/fs/file2.txt\u001b[0m\n",
      "\n",
      "1 directory, 3 files\n"
     ]
    }
   ],
   "source": [
    "%%bash\n",
    "tree tmp/linker-target"
   ]
  },
  {
   "cell_type": "markdown",
   "id": "bd367e2a-e44c-4a5c-9600-4d86719f7d36",
   "metadata": {},
   "source": [
    "## Creating directories\n",
    "\n",
    "The `makedirs()` function creates directories."
   ]
  },
  {
   "cell_type": "code",
   "execution_count": 26,
   "id": "43b381d1-8dc2-4ea6-924c-e21149f05e7f",
   "metadata": {},
   "outputs": [
    {
     "name": "stdout",
     "output_type": "stream",
     "text": [
      "Help on function makedirs in module uwtools.api.fs:\n",
      "\n",
      "makedirs(config: Union[dict, str, pathlib.Path, NoneType] = None, target_dir: Union[str, pathlib.Path, NoneType] = None, cycle: Optional[datetime.datetime] = None, leadtime: Optional[datetime.timedelta] = None, keys: Optional[list[str]] = None, dry_run: bool = False, stdin_ok: bool = False) -> bool\n",
      "    Make directories.\n",
      "\n",
      "    :param config: YAML-file path, or ``dict`` (read ``stdin`` if missing or ``None``).\n",
      "    :param target_dir: Path to target directory.\n",
      "    :param cycle: A datetime object to make available for use in the config.\n",
      "    :param leadtime: A timedelta object to make available for use in the config.\n",
      "    :param keys: YAML keys leading to file dst/src block.\n",
      "    :param dry_run: Do not link files.\n",
      "    :param stdin_ok: OK to read from ``stdin``?\n",
      "    :return: ``True`` if all directories were made.\n",
      "\n"
     ]
    }
   ],
   "source": [
    "help(fs.makedirs)"
   ]
  },
  {
   "cell_type": "markdown",
   "id": "83b88d7e-f4cf-4358-98f9-106b47bd5d9f",
   "metadata": {},
   "source": [
    "Directories to be created are specified by either a configuration YAML file or a Python ``dict``. A `makedirs` key must be included with a list of directories to create as its value."
   ]
  },
  {
   "cell_type": "code",
   "execution_count": 27,
   "id": "2f946927-509f-4cd6-a7ec-2d36f4d17318",
   "metadata": {},
   "outputs": [
    {
     "name": "stdout",
     "output_type": "stream",
     "text": [
      "makedirs:\n",
      "  - foo\n",
      "  - bar/baz\n"
     ]
    }
   ],
   "source": [
    "%%bash\n",
    "cat fixtures/fs/dir-config.yaml"
   ]
  },
  {
   "cell_type": "markdown",
   "id": "eec8938c-1e2a-482b-aa0e-9e6e89dcf200",
   "metadata": {},
   "source": [
    "With these instructions, `makedirs()` creates each directory in the list within the directory indicated by `target_dir`. Paths can be provided either as a string or <a href=\"https://docs.python.org/3/library/pathlib.html#pathlib.Path\">Path</a> object. `True` is returned upon a successful run."
   ]
  },
  {
   "cell_type": "code",
   "execution_count": 28,
   "id": "fdd4e832-3bc5-4c7a-9b31-e387a4e7d48b",
   "metadata": {},
   "outputs": [
    {
     "name": "stderr",
     "output_type": "stream",
     "text": [
      "[2024-11-19T23:14:42]     INFO Validating config against internal schema: makedirs\n",
      "[2024-11-19T23:14:42]     INFO 0 UW schema-validation errors found in fs config\n",
      "[2024-11-19T23:14:42]     INFO Directories: Initial state: Not Ready\n",
      "[2024-11-19T23:14:42]     INFO Directories: Checking requirements\n",
      "[2024-11-19T23:14:42]     INFO Directory tmp/dir-target/foo: Initial state: Not Ready\n",
      "[2024-11-19T23:14:42]     INFO Directory tmp/dir-target/foo: Checking requirements\n",
      "[2024-11-19T23:14:42]     INFO Directory tmp/dir-target/foo: Requirement(s) ready\n",
      "[2024-11-19T23:14:42]     INFO Directory tmp/dir-target/foo: Executing\n",
      "[2024-11-19T23:14:42]     INFO Directory tmp/dir-target/foo: Final state: Ready\n",
      "[2024-11-19T23:14:42]     INFO Directory tmp/dir-target/bar/baz: Initial state: Not Ready\n",
      "[2024-11-19T23:14:42]     INFO Directory tmp/dir-target/bar/baz: Checking requirements\n",
      "[2024-11-19T23:14:42]     INFO Directory tmp/dir-target/bar/baz: Requirement(s) ready\n",
      "[2024-11-19T23:14:42]     INFO Directory tmp/dir-target/bar/baz: Executing\n",
      "[2024-11-19T23:14:42]     INFO Directory tmp/dir-target/bar/baz: Final state: Ready\n",
      "[2024-11-19T23:14:42]     INFO Directories: Final state: Ready\n"
     ]
    },
    {
     "data": {
      "text/plain": [
       "True"
      ]
     },
     "execution_count": 28,
     "metadata": {},
     "output_type": "execute_result"
    }
   ],
   "source": [
    "rmtree(\"tmp/dir-target\", ignore_errors=True)\n",
    "fs.makedirs(\n",
    "    config=\"fixtures/fs/dir-config.yaml\",\n",
    "    target_dir=Path(\"tmp/dir-target\")\n",
    ")"
   ]
  },
  {
   "cell_type": "markdown",
   "id": "df4245f6-7083-45ee-b56e-9697a50db5da",
   "metadata": {},
   "source": [
    "Examining the target directory, we can see that the directories have been created with their specified names."
   ]
  },
  {
   "cell_type": "code",
   "execution_count": 29,
   "id": "c00ec8cc-964a-498e-bd8f-a3686a468dc3",
   "metadata": {},
   "outputs": [
    {
     "name": "stdout",
     "output_type": "stream",
     "text": [
      "\u001b[01;34mtmp/dir-target\u001b[0m\n",
      "├── \u001b[01;34mbar\u001b[0m\n",
      "│   └── \u001b[01;34mbaz\u001b[0m\n",
      "└── \u001b[01;34mfoo\u001b[0m\n",
      "\n",
      "3 directories, 0 files\n"
     ]
    }
   ],
   "source": [
    "%%bash\n",
    "tree tmp/dir-target"
   ]
  },
  {
   "cell_type": "markdown",
   "id": "329e939d-0f6d-412c-a36a-4682fe99609a",
   "metadata": {},
   "source": [
    "### Using the `keys` parameter  <!--dir-->\n",
    "\n",
    "Consider the following configuration, in which the destination/source mapping is not located at the top level of the configuration:"
   ]
  },
  {
   "cell_type": "code",
   "execution_count": 30,
   "id": "3a93956d-0acf-4c37-87bf-83c0d5287644",
   "metadata": {},
   "outputs": [
    {
     "name": "stdout",
     "output_type": "stream",
     "text": [
      "path:\n",
      "  to:\n",
      "    dirs:\n",
      "      makedirs:\n",
      "        - foo/bar\n",
      "        - baz\n"
     ]
    }
   ],
   "source": [
    "%%bash\n",
    "cat fixtures/fs/dir-keys-config.yaml"
   ]
  },
  {
   "cell_type": "markdown",
   "id": "909ff3ea-8577-4b91-94fc-6ce6effe4bec",
   "metadata": {},
   "source": [
    "Without additional information, `makedirs()` would raise a `UWConfigError` given this configuration. However, the list of keys leading to the destination/source mapping can be provided with the `keys` parameter:"
   ]
  },
  {
   "cell_type": "code",
   "execution_count": 31,
   "id": "91549822-e85e-4d41-8860-1da05d713f75",
   "metadata": {},
   "outputs": [
    {
     "name": "stderr",
     "output_type": "stream",
     "text": [
      "[2024-11-19T23:14:42]     INFO Validating config against internal schema: makedirs\n",
      "[2024-11-19T23:14:42]     INFO 0 UW schema-validation errors found in fs config\n",
      "[2024-11-19T23:14:42]     INFO Directories: Initial state: Not Ready\n",
      "[2024-11-19T23:14:42]     INFO Directories: Checking requirements\n",
      "[2024-11-19T23:14:42]     INFO Directory tmp/dir-keys-target/foo/bar: Initial state: Not Ready\n",
      "[2024-11-19T23:14:42]     INFO Directory tmp/dir-keys-target/foo/bar: Checking requirements\n",
      "[2024-11-19T23:14:42]     INFO Directory tmp/dir-keys-target/foo/bar: Requirement(s) ready\n",
      "[2024-11-19T23:14:42]     INFO Directory tmp/dir-keys-target/foo/bar: Executing\n",
      "[2024-11-19T23:14:42]     INFO Directory tmp/dir-keys-target/foo/bar: Final state: Ready\n",
      "[2024-11-19T23:14:42]     INFO Directory tmp/dir-keys-target/baz: Initial state: Not Ready\n",
      "[2024-11-19T23:14:42]     INFO Directory tmp/dir-keys-target/baz: Checking requirements\n",
      "[2024-11-19T23:14:42]     INFO Directory tmp/dir-keys-target/baz: Requirement(s) ready\n",
      "[2024-11-19T23:14:42]     INFO Directory tmp/dir-keys-target/baz: Executing\n",
      "[2024-11-19T23:14:42]     INFO Directory tmp/dir-keys-target/baz: Final state: Ready\n",
      "[2024-11-19T23:14:42]     INFO Directories: Final state: Ready\n"
     ]
    },
    {
     "data": {
      "text/plain": [
       "True"
      ]
     },
     "execution_count": 31,
     "metadata": {},
     "output_type": "execute_result"
    }
   ],
   "source": [
    "rmtree(\"tmp/dir-keys-target\", ignore_errors=True)\n",
    "fs.makedirs(\n",
    "    config=\"fixtures/fs/dir-keys-config.yaml\",\n",
    "    target_dir=\"tmp/dir-keys-target\",\n",
    "    keys=[\"path\",\"to\",\"dirs\"]\n",
    ")"
   ]
  },
  {
   "cell_type": "markdown",
   "id": "5b7ed362-2edb-438a-bb9f-e2dd7d505379",
   "metadata": {},
   "source": [
    "With this information provided, the directories are successfully created."
   ]
  },
  {
   "cell_type": "code",
   "execution_count": 32,
   "id": "cb4ded9c-0de1-4010-af75-fbb7becd3fbc",
   "metadata": {},
   "outputs": [
    {
     "name": "stdout",
     "output_type": "stream",
     "text": [
      "\u001b[01;34mtmp/dir-keys-target\u001b[0m\n",
      "├── \u001b[01;34mbaz\u001b[0m\n",
      "└── \u001b[01;34mfoo\u001b[0m\n",
      "    └── \u001b[01;34mbar\u001b[0m\n",
      "\n",
      "3 directories, 0 files\n"
     ]
    }
   ],
   "source": [
    "%%bash\n",
    "tree tmp/dir-keys-target"
   ]
  },
  {
   "cell_type": "markdown",
   "id": "742ce55e-fded-4961-931d-49bd75c09901",
   "metadata": {},
   "source": [
    "### Using the `MakeDirs` class\n",
    "\n",
    "An alternative to using `makedirs()` is to instantiate a `MakeDirs` object , then call its `go()` method."
   ]
  },
  {
   "cell_type": "code",
   "execution_count": 33,
   "id": "7fe53736-d8e8-4ca9-ab2b-87729934fc19",
   "metadata": {},
   "outputs": [
    {
     "name": "stdout",
     "output_type": "stream",
     "text": [
      "Help on class MakeDirs in module uwtools.fs:\n",
      "\n",
      "class MakeDirs(Stager)\n",
      " |  MakeDirs(config: Union[dict, str, pathlib.Path, NoneType] = None, target_dir: Union[str, pathlib.Path, NoneType] = None, cycle: Optional[datetime.datetime] = None, leadtime: Optional[datetime.timedelta] = None, keys: Optional[list[str]] = None, dry_run: bool = False) -> None\n",
      " |\n",
      " |  Make directories.\n",
      " |\n",
      " |  Method resolution order:\n",
      " |      MakeDirs\n",
      " |      Stager\n",
      " |      abc.ABC\n",
      " |      builtins.object\n",
      " |\n",
      " |  Methods defined here:\n",
      " |\n",
      " |  go(self)\n",
      " |      Make directories.\n",
      " |\n",
      " |  ----------------------------------------------------------------------\n",
      " |  Data and other attributes defined here:\n",
      " |\n",
      " |  __abstractmethods__ = frozenset()\n",
      " |\n",
      " |  ----------------------------------------------------------------------\n",
      " |  Methods inherited from Stager:\n",
      " |\n",
      " |  __init__(self, config: Union[dict, str, pathlib.Path, NoneType] = None, target_dir: Union[str, pathlib.Path, NoneType] = None, cycle: Optional[datetime.datetime] = None, leadtime: Optional[datetime.timedelta] = None, keys: Optional[list[str]] = None, dry_run: bool = False) -> None\n",
      " |      Stage files and directories.\n",
      " |\n",
      " |      :param config: YAML-file path, or ``dict`` (read ``stdin`` if missing or ``None``).\n",
      " |      :param target_dir: Path to target directory.\n",
      " |      :param cycle: A ``datetime`` object to make available for use in the config.\n",
      " |      :param leadtime: A ``timedelta`` object to make available for use in the config.\n",
      " |      :param keys: YAML keys leading to file dst/src block.\n",
      " |      :param dry_run: Do not copy files.\n",
      " |      :raises: ``UWConfigError`` if config fails validation.\n",
      " |\n",
      " |  ----------------------------------------------------------------------\n",
      " |  Data descriptors inherited from Stager:\n",
      " |\n",
      " |  __dict__\n",
      " |      dictionary for instance variables\n",
      " |\n",
      " |  __weakref__\n",
      " |      list of weak references to the object\n",
      "\n"
     ]
    }
   ],
   "source": [
    "help(fs.MakeDirs)"
   ]
  },
  {
   "cell_type": "markdown",
   "id": "cf3b50de-4a8b-4f51-96bb-a477b2c53430",
   "metadata": {},
   "source": [
    "A `MakeDirs` object is instantiated using the same parameters as `makedirs()`, but directories are not created until `MakeDirs.go()` is called."
   ]
  },
  {
   "cell_type": "code",
   "execution_count": 34,
   "id": "950d6b43-6db7-40df-b645-beaa1369cfa4",
   "metadata": {},
   "outputs": [
    {
     "name": "stderr",
     "output_type": "stream",
     "text": [
      "[2024-11-19T23:14:42]     INFO Validating config against internal schema: makedirs\n",
      "[2024-11-19T23:14:42]     INFO 0 UW schema-validation errors found in fs config\n",
      "[2024-11-19T23:14:42]     INFO Directories: Initial state: Not Ready\n",
      "[2024-11-19T23:14:42]     INFO Directories: Checking requirements\n",
      "[2024-11-19T23:14:42]     INFO Directory tmp/makedirs-target/foo: Initial state: Not Ready\n",
      "[2024-11-19T23:14:42]     INFO Directory tmp/makedirs-target/foo: Checking requirements\n",
      "[2024-11-19T23:14:42]     INFO Directory tmp/makedirs-target/foo: Requirement(s) ready\n",
      "[2024-11-19T23:14:42]     INFO Directory tmp/makedirs-target/foo: Executing\n",
      "[2024-11-19T23:14:42]     INFO Directory tmp/makedirs-target/foo: Final state: Ready\n",
      "[2024-11-19T23:14:42]     INFO Directory tmp/makedirs-target/bar/baz: Initial state: Not Ready\n",
      "[2024-11-19T23:14:42]     INFO Directory tmp/makedirs-target/bar/baz: Checking requirements\n",
      "[2024-11-19T23:14:42]     INFO Directory tmp/makedirs-target/bar/baz: Requirement(s) ready\n",
      "[2024-11-19T23:14:42]     INFO Directory tmp/makedirs-target/bar/baz: Executing\n",
      "[2024-11-19T23:14:42]     INFO Directory tmp/makedirs-target/bar/baz: Final state: Ready\n",
      "[2024-11-19T23:14:42]     INFO Directories: Final state: Ready\n"
     ]
    },
    {
     "data": {
      "text/plain": [
       "[Asset(ref=PosixPath('tmp/makedirs-target/foo'), ready=<bound method Path.is_dir of PosixPath('tmp/makedirs-target/foo')>),\n",
       " Asset(ref=PosixPath('tmp/makedirs-target/bar/baz'), ready=<bound method Path.is_dir of PosixPath('tmp/makedirs-target/bar/baz')>)]"
      ]
     },
     "execution_count": 34,
     "metadata": {},
     "output_type": "execute_result"
    }
   ],
   "source": [
    "rmtree(\"tmp/makedirs-target\", ignore_errors=True)\n",
    "dirs_stager = fs.MakeDirs(\n",
    "    config=\"fixtures/fs/dir-config.yaml\",\n",
    "    target_dir=\"tmp/makedirs-target\"\n",
    ")\n",
    "dirs_stager.go()"
   ]
  },
  {
   "cell_type": "markdown",
   "id": "9ae5f357-1d56-4670-a8d7-8546e73c4efa",
   "metadata": {},
   "source": [
    "Once `MakeDirs.go()` is called, directories are created in the same way as they would have with `makedirs()`."
   ]
  },
  {
   "cell_type": "code",
   "execution_count": 35,
   "id": "a61fb9ac-df2f-4e39-9f66-bfb789c39117",
   "metadata": {},
   "outputs": [
    {
     "name": "stdout",
     "output_type": "stream",
     "text": [
      "\u001b[01;34mtmp/makedirs-target\u001b[0m\n",
      "├── \u001b[01;34mbar\u001b[0m\n",
      "│   └── \u001b[01;34mbaz\u001b[0m\n",
      "└── \u001b[01;34mfoo\u001b[0m\n",
      "\n",
      "3 directories, 0 files\n"
     ]
    }
   ],
   "source": [
    "%%bash\n",
    "tree tmp/makedirs-target"
   ]
  }
 ],
 "metadata": {
  "kernelspec": {
   "display_name": "Python 3 (ipykernel)",
   "language": "python",
   "name": "python3"
  },
  "language_info": {
   "codemirror_mode": {
    "name": "ipython",
    "version": 3
   },
   "file_extension": ".py",
   "mimetype": "text/x-python",
   "name": "python",
   "nbconvert_exporter": "python",
   "pygments_lexer": "ipython3",
   "version": "3.12.7"
  }
 },
 "nbformat": 4,
 "nbformat_minor": 5
}
