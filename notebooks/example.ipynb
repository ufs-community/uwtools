{
 "cells": [
  {
   "cell_type": "markdown",
   "id": "afc23938-c4e4-4240-8fdc-66f0fff9ec06",
   "metadata": {},
   "source": [
    "# Example Notebook\n",
    "\n",
    "## Example 1: Building YAML config from a Python dictionary\n",
    "First, we need to import `uwtools.api.config` from the uwtools python package."
   ]
  },
  {
   "cell_type": "code",
   "execution_count": null,
   "id": "a4a3fb02-06e0-4bf8-a78a-bfdb4fc474b3",
   "metadata": {},
   "outputs": [],
   "source": [
    "from uwtools.api import config"
   ]
  },
  {
   "cell_type": "markdown",
   "id": "ec5c7a56-d605-4a58-bd48-4eaba9cd25bc",
   "metadata": {},
   "source": [
    "The `config.get_yaml_config` method can create a `YAMLconfig` object when given a Python dictionary."
   ]
  },
  {
   "cell_type": "code",
   "execution_count": null,
   "id": "71957053-4264-42d5-a4e7-43b50a0ed4e4",
   "metadata": {},
   "outputs": [],
   "source": [
    "# An example Python dictionary\n",
    "dictionary = {\"values\":{\"date\":20240105, \"greeting\":\"Good Night\", \"recipient\":\"Moon\", \"repeat\":2}}\n",
    "\n",
    "# Build a YAMLconfig object from the dictionary\n",
    "config_yaml = config.get_yaml_config(dictionary)\n",
    "print(config_yaml)"
   ]
  },
  {
   "cell_type": "markdown",
   "id": "dd7bcc1a-6402-42f8-884b-b22ebe1f04f5",
   "metadata": {},
   "source": [
    "## Example 2: Rendering a template with uwtools\n",
    "Next, let's look at using the `template` tool to render a Jinja2 template."
   ]
  },
  {
   "cell_type": "code",
   "execution_count": null,
   "id": "bb672e22-d206-4d65-9dfd-b4b480d0937b",
   "metadata": {},
   "outputs": [],
   "source": [
    "from uwtools.api import template"
   ]
  },
  {
   "cell_type": "markdown",
   "id": "9328416e-b1b8-4062-9c56-5b37440cbc4a",
   "metadata": {},
   "source": [
    "We have a Jinja2 template file in `fixtures/user_config.yaml` that looks like this:"
   ]
  },
  {
   "cell_type": "code",
   "execution_count": null,
   "id": "67ebded6-474e-465d-81f2-ca8f76b89f54",
   "metadata": {},
   "outputs": [],
   "source": [
    "%%bash\n",
    "cat ./fixtures/user_config.yaml"
   ]
  },
  {
   "cell_type": "markdown",
   "id": "8f29f1dc-a201-4356-a729-7b40565c8aa4",
   "metadata": {},
   "source": [
    "We can use another yaml file that contains the values we want to add to the template to complete it:"
   ]
  },
  {
   "cell_type": "code",
   "execution_count": null,
   "id": "5df2f19a-6cb2-4c67-8fdf-2a5aa563b4e5",
   "metadata": {},
   "outputs": [],
   "source": [
    "%%bash\n",
    "cat ./fixtures/user_values.yaml"
   ]
  },
  {
   "cell_type": "markdown",
   "id": "cd2999db-c1e7-4ae3-9169-b807b63712e7",
   "metadata": {},
   "source": [
    "Using `template.render` we can render the `user_config.yaml` file using the values supplied by the `user_values.yaml` to create a complete and ready to use config file."
   ]
  },
  {
   "cell_type": "code",
   "execution_count": null,
   "id": "ce7f9265-4536-4163-9e2f-53aaa6ff0c63",
   "metadata": {},
   "outputs": [],
   "source": [
    "# path of Jinja2 template to update\n",
    "source = \"./fixtures/user_config.yaml\"\n",
    "\n",
    "# values to add\n",
    "vals = \"./fixtures/user_values.yaml\"\n",
    "\n",
    "# destination of the rendered file\n",
    "target = \"./tmp/user_config.yaml\"\n",
    "\n",
    "# render the template \n",
    "template.render(values_src=vals, values_format=\"yaml\", input_file=source, output_file=target)"
   ]
  },
  {
   "cell_type": "markdown",
   "id": "f5d0b35f-d894-4758-a462-81ffa88760c0",
   "metadata": {},
   "source": [
    "Let's take a look at the rendered file:"
   ]
  },
  {
   "cell_type": "code",
   "execution_count": null,
   "id": "9fe7687f-5c6c-44fc-aaf7-92711ce97457",
   "metadata": {},
   "outputs": [],
   "source": [
    "%%bash\n",
    "cat ./tmp/user_config.yaml"
   ]
  }
 ],
 "metadata": {
  "kernelspec": {
   "display_name": "Python 3 (ipykernel)",
   "language": "python",
   "name": "python3"
  },
  "language_info": {
   "codemirror_mode": {
    "name": "ipython",
    "version": 3
   },
   "file_extension": ".py",
   "mimetype": "text/x-python",
   "name": "python",
   "nbconvert_exporter": "python",
   "pygments_lexer": "ipython3",
   "version": "3.12.3"
  }
 },
 "nbformat": 4,
 "nbformat_minor": 5
}
