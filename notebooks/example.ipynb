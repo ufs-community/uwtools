{
 "cells": [
  {
   "cell_type": "markdown",
   "id": "afc23938-c4e4-4240-8fdc-66f0fff9ec06",
   "metadata": {},
   "source": [
    "# Example Notebook\n",
    "\n",
    "## Example 1: Building YAML config from a Python dictionary\n",
    "First, we need to import `uwtools.api.config` from the uwtools python package."
   ]
  },
  {
   "cell_type": "code",
   "execution_count": 1,
   "id": "a4a3fb02-06e0-4bf8-a78a-bfdb4fc474b3",
   "metadata": {},
   "outputs": [],
   "source": [
    "import uwtools.api.config as config"
   ]
  },
  {
   "cell_type": "markdown",
   "id": "ec5c7a56-d605-4a58-bd48-4eaba9cd25bc",
   "metadata": {},
   "source": [
    "The `config.get_yaml_config` method can create a `YAMLconfig` object when given a Python dictionary."
   ]
  },
  {
   "cell_type": "code",
   "execution_count": 2,
   "id": "71957053-4264-42d5-a4e7-43b50a0ed4e4",
   "metadata": {},
   "outputs": [
    {
     "data": {
      "text/plain": [
       "values:\n",
       "  date: 20240105\n",
       "  greeting: Good Night\n",
       "  recipient: Moon\n",
       "  repeat: 2"
      ]
     },
     "execution_count": 2,
     "metadata": {},
     "output_type": "execute_result"
    }
   ],
   "source": [
    "# An example Python dictionary\n",
    "dictionary = {\"values\":{\"date\":20240105, \"greeting\":\"Good Night\", \"recipient\":\"Moon\", \"repeat\":2}}\n",
    "\n",
    "# Build a YAMLconfig object from the dictionary\n",
    "config.get_yaml_config(dictionary)"
   ]
  }
 ],
 "metadata": {
  "kernelspec": {
   "display_name": "Python 3 (ipykernel)",
   "language": "python",
   "name": "python3"
  },
  "language_info": {
   "codemirror_mode": {
    "name": "ipython",
    "version": 3
   },
   "file_extension": ".py",
   "mimetype": "text/x-python",
   "name": "python",
   "nbconvert_exporter": "python",
   "pygments_lexer": "ipython3",
   "version": "3.12.3"
  }
 },
 "nbformat": 4,
 "nbformat_minor": 5
}
