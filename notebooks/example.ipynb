{
 "cells": [
  {
   "cell_type": "markdown",
   "id": "afc23938-c4e4-4240-8fdc-66f0fff9ec06",
   "metadata": {},
   "source": [
    "# Example Notebook\n",
    "\n",
    "## Example 1: Building YAML config from a Python dictionary\n",
    "First, we need to import `uwtools.api.config` from the uwtools python package."
   ]
  },
  {
   "cell_type": "code",
   "execution_count": 45,
   "id": "a4a3fb02-06e0-4bf8-a78a-bfdb4fc474b3",
   "metadata": {},
   "outputs": [],
   "source": [
    "from uwtools.api import config"
   ]
  },
  {
   "cell_type": "markdown",
   "id": "ec5c7a56-d605-4a58-bd48-4eaba9cd25bc",
   "metadata": {},
   "source": [
    "The `config.get_yaml_config` method can create a `YAMLconfig` object when given a Python dictionary."
   ]
  },
  {
   "cell_type": "code",
   "execution_count": 46,
   "id": "71957053-4264-42d5-a4e7-43b50a0ed4e4",
   "metadata": {},
   "outputs": [
    {
     "name": "stdout",
     "output_type": "stream",
     "text": [
      "values:\n",
      "  date: 20240105\n",
      "  greeting: Good Night\n",
      "  recipient: Moon\n",
      "  repeat: 2\n"
     ]
    }
   ],
   "source": [
    "# An example Python dictionary\n",
    "dictionary = {\"values\":{\"date\":20240105, \"greeting\":\"Good Night\", \"recipient\":\"Moon\", \"repeat\":2}}\n",
    "\n",
    "# Build a YAMLconfig object from the dictionary\n",
    "config_yaml = config.get_yaml_config(dictionary)\n",
    "print(config_yaml)"
   ]
  },
  {
   "cell_type": "markdown",
   "id": "dd7bcc1a-6402-42f8-884b-b22ebe1f04f5",
   "metadata": {},
   "source": [
    "## Example 2: Rendering a template with uwtools\n",
    "Next, let's look at using the `template` tool to render a Jinja2 template."
   ]
  },
  {
   "cell_type": "code",
   "execution_count": 47,
   "id": "bb672e22-d206-4d65-9dfd-b4b480d0937b",
   "metadata": {},
   "outputs": [],
   "source": [
    "from uwtools.api import template"
   ]
  },
  {
   "cell_type": "markdown",
   "id": "9328416e-b1b8-4062-9c56-5b37440cbc4a",
   "metadata": {},
   "source": [
    "We have a Jinja2 template file in `fixtures/user_config.yaml` that looks like this:"
   ]
  },
  {
   "cell_type": "code",
   "execution_count": 48,
   "id": "67ebded6-474e-465d-81f2-ca8f76b89f54",
   "metadata": {},
   "outputs": [
    {
     "name": "stdout",
     "output_type": "stream",
     "text": [
      "user:\n",
      "  name: {{ first }} {{ last }}\n",
      "  favorite_food: {{ food }}\n"
     ]
    }
   ],
   "source": [
    "%%bash\n",
    "cat ./fixtures/user_config.yaml"
   ]
  },
  {
   "cell_type": "markdown",
   "id": "8f29f1dc-a201-4356-a729-7b40565c8aa4",
   "metadata": {},
   "source": [
    "We can use another yaml file that contains the values we want to add to the template to complete it:"
   ]
  },
  {
   "cell_type": "code",
   "execution_count": 49,
   "id": "5df2f19a-6cb2-4c67-8fdf-2a5aa563b4e5",
   "metadata": {},
   "outputs": [
    {
     "name": "stdout",
     "output_type": "stream",
     "text": [
      "first: John\n",
      "last: Doe\n",
      "food: burritos\n"
     ]
    }
   ],
   "source": [
    "%%bash\n",
    "cat ./fixtures/user_values.yaml"
   ]
  },
  {
   "cell_type": "markdown",
   "id": "cd2999db-c1e7-4ae3-9169-b807b63712e7",
   "metadata": {},
   "source": [
    "Using `template.render` we can render the `user_config.yaml` file using the values supplied by the `user_values.yaml` to create a complete and ready to use config file."
   ]
  },
  {
   "cell_type": "code",
   "execution_count": 50,
   "id": "ce7f9265-4536-4163-9e2f-53aaa6ff0c63",
   "metadata": {},
   "outputs": [
    {
     "name": "stdout",
     "output_type": "stream",
     "text": [
      "user:\n",
      "  name: John Doe\n",
      "  favorite_food: burritos\n"
     ]
    }
   ],
   "source": [
    "# path of Jinja2 template to update\n",
    "source = \"./fixtures/user_config.yaml\"\n",
    "\n",
    "# values to add\n",
    "vals = \"./fixtures/user_values.yaml\"\n",
    "\n",
    "# destination of the rendered file\n",
    "target = \"./fixtures/rendered_config.yaml\"\n",
    "\n",
    "# render the template \n",
    "print(template.render(values_src=vals, values_format=\"yaml\", input_file=source, output_file=target))"
   ]
  },
  {
   "cell_type": "markdown",
   "id": "f5d0b35f-d894-4758-a462-81ffa88760c0",
   "metadata": {},
   "source": [
    "Let's take a look at the rendered file:"
   ]
  },
  {
   "cell_type": "code",
   "execution_count": 51,
   "id": "9fe7687f-5c6c-44fc-aaf7-92711ce97457",
   "metadata": {},
   "outputs": [
    {
     "name": "stdout",
     "output_type": "stream",
     "text": [
      "user:\n",
      "  name: John Doe\n",
      "  favorite_food: burritos\n"
     ]
    }
   ],
   "source": [
    "%%bash\n",
    "cat ./fixtures/rendered_config.yaml"
   ]
  },
  {
   "cell_type": "markdown",
   "id": "ea5eff92",
   "metadata": {},
   "source": [
    "## Example 3: Comparing two config files\n",
    "Let's explore using the `config.compare()` method to compare two two config files."
   ]
  },
  {
   "cell_type": "markdown",
   "id": "71d27692",
   "metadata": {},
   "source": [
    "We again need to start by importing the `uwtools.api.config` from the uwtools python package."
   ]
  },
  {
   "cell_type": "code",
   "execution_count": 52,
   "id": "7fb40514",
   "metadata": {},
   "outputs": [],
   "source": [
    "from uwtools.api import config"
   ]
  },
  {
   "cell_type": "markdown",
   "id": "b0103f44",
   "metadata": {},
   "source": [
    "The `config.compare()` method has the following syntax:\n",
    "\n",
    "`uwtools.api.config.compare(config_1_path: Path | str, config_2_path: Path | str, config_1_format: str | None = None, config_2_format: str | None = None)→ bool`\n",
    "\n",
    "Recognized file extensions are: ini, nml, sh, yaml.\n",
    "\n",
    "Parameters:\n",
    "\n",
    "- config_1_path – Path to 1st config file\n",
    "\n",
    "- config_2_path – Path to 2nd config file\n",
    "\n",
    "- config_1_format – Format of 1st config file (optional if file’s extension is recognized)\n",
    "\n",
    "- config_2_format – Format of 2nd config file (optional if file’s extension is recognized)\n",
    "\n",
    "The method returns False if config files had differences, otherwise True."
   ]
  },
  {
   "cell_type": "markdown",
   "id": "b121dc29",
   "metadata": {},
   "source": [
    "For example, let's compare two Fortran namelist files with differences:"
   ]
  },
  {
   "cell_type": "code",
   "execution_count": 42,
   "id": "5dcff125",
   "metadata": {},
   "outputs": [
    {
     "data": {
      "text/plain": [
       "False"
      ]
     },
     "execution_count": 42,
     "metadata": {},
     "output_type": "execute_result"
    }
   ],
   "source": [
    "# path of nml file that contains 'greeting = \"Hello\" recipient = \"World\"'\n",
    "file_a = \"./fixtures/config_test_file_a.nml\"\n",
    "\n",
    "# path of nml file that contains 'greeting = \"Hello\" recipient = \"Different World\"'\n",
    "different_file_b = \"./fixtures/config_test_file_b.nml\"\n",
    "\n",
    "config.compare(file_a, different_file_b)"
   ]
  },
  {
   "cell_type": "markdown",
   "id": "c16c38d0",
   "metadata": {},
   "source": [
    "The `config()` method returns `False` to denote the files are different.\n",
    "\n",
    "Now to compare two files that contain identical text:"
   ]
  },
  {
   "cell_type": "code",
   "execution_count": 43,
   "id": "9d658b72",
   "metadata": {},
   "outputs": [
    {
     "data": {
      "text/plain": [
       "True"
      ]
     },
     "execution_count": 43,
     "metadata": {},
     "output_type": "execute_result"
    }
   ],
   "source": [
    "# path of nml file that contains 'greeting = \"Hello\" recipient = \"World\"'\n",
    "file_a = \"./fixtures/config_test_file_a.nml\"\n",
    "\n",
    "# path of nml file that contains 'greeting = \"Hello\" recipient = \"World\"'\n",
    "identical_file_c = \"./fixtures/config_test_file_c.nml\"\n",
    "\n",
    "config.compare(file_a, identical_file_c)"
   ]
  },
  {
   "cell_type": "markdown",
   "id": "b84db243",
   "metadata": {},
   "source": [
    "The `config()` method returns `True` to denote the files are semantically equivalent."
   ]
  },
  {
   "cell_type": "markdown",
   "id": "5b39d871",
   "metadata": {},
   "source": []
  }
 ],
 "metadata": {
  "kernelspec": {
   "display_name": "Python 3 (ipykernel)",
   "language": "python",
   "name": "python3"
  },
  "language_info": {
   "codemirror_mode": {
    "name": "ipython",
    "version": 3
   },
   "file_extension": ".py",
   "mimetype": "text/x-python",
   "name": "python",
   "nbconvert_exporter": "python",
   "pygments_lexer": "ipython3",
   "version": "3.12.4"
  }
 },
 "nbformat": 4,
 "nbformat_minor": 5
}
