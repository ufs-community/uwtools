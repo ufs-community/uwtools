{
 "cells": [
  {
   "cell_type": "markdown",
   "id": "afc23938-c4e4-4240-8fdc-66f0fff9ec06",
   "metadata": {},
   "source": [
    "# Example Notebook\n",
    "\n",
    "## Example 1: Building YAML config from a Python dictionary\n",
    "First, we need to import `uwtools.api.config` from the uwtools python package."
   ]
  },
  {
   "cell_type": "code",
   "execution_count": 1,
   "id": "a4a3fb02-06e0-4bf8-a78a-bfdb4fc474b3",
   "metadata": {},
   "outputs": [],
   "source": [
    "from uwtools.api import config"
   ]
  },
  {
   "cell_type": "markdown",
   "id": "ec5c7a56-d605-4a58-bd48-4eaba9cd25bc",
   "metadata": {},
   "source": [
    "The `config.get_yaml_config` method can create a `YAMLconfig` object when given a Python dictionary."
   ]
  },
  {
   "cell_type": "code",
   "execution_count": 2,
   "id": "71957053-4264-42d5-a4e7-43b50a0ed4e4",
   "metadata": {},
   "outputs": [
    {
     "name": "stdout",
     "output_type": "stream",
     "text": [
      "values:\n",
      "  date: 20240105\n",
      "  greeting: Good Night\n",
      "  recipient: Moon\n",
      "  repeat: 2\n"
     ]
    }
   ],
   "source": [
    "dictionary = {\"values\":{\"date\":20240105, \"greeting\":\"Good Night\", \"recipient\":\"Moon\", \"repeat\":2}}\n",
    "\n",
    "config_yaml = config.get_yaml_config(dictionary)\n",
    "print(config_yaml)"
   ]
  },
  {
   "cell_type": "markdown",
   "id": "dd7bcc1a-6402-42f8-884b-b22ebe1f04f5",
   "metadata": {},
   "source": [
    "## Example 2: Rendering a template with uwtools\n",
    "Next, let's look at using the `template` tool to render a Jinja2 template."
   ]
  },
  {
   "cell_type": "code",
   "execution_count": 3,
   "id": "bb672e22-d206-4d65-9dfd-b4b480d0937b",
   "metadata": {},
   "outputs": [],
   "source": [
    "from uwtools.api import template"
   ]
  },
  {
   "cell_type": "markdown",
   "id": "9328416e-b1b8-4062-9c56-5b37440cbc4a",
   "metadata": {},
   "source": [
    "We have a Jinja2 template file in `fixtures/example/ex2-config.yaml` that looks like this:"
   ]
  },
  {
   "cell_type": "code",
   "execution_count": 4,
   "id": "67ebded6-474e-465d-81f2-ca8f76b89f54",
   "metadata": {},
   "outputs": [
    {
     "name": "stdout",
     "output_type": "stream",
     "text": [
      "user:\n",
      "  name: {{ first }} {{ last }}\n",
      "  favorite_food: {{ food }}\n"
     ]
    }
   ],
   "source": [
    "%%bash\n",
    "cat fixtures/example/ex2-config.yaml"
   ]
  },
  {
   "cell_type": "markdown",
   "id": "8f29f1dc-a201-4356-a729-7b40565c8aa4",
   "metadata": {},
   "source": [
    "We can use another yaml file that contains the values we want to add to the template to complete it:"
   ]
  },
  {
   "cell_type": "code",
   "execution_count": 5,
   "id": "5df2f19a-6cb2-4c67-8fdf-2a5aa563b4e5",
   "metadata": {},
   "outputs": [
    {
     "name": "stdout",
     "output_type": "stream",
     "text": [
      "first: John\n",
      "last: Doe\n",
      "food: burritos\n"
     ]
    }
   ],
   "source": [
    "%%bash\n",
    "cat fixtures/example/ex2-values.yaml"
   ]
  },
  {
   "cell_type": "markdown",
   "id": "cd2999db-c1e7-4ae3-9169-b807b63712e7",
   "metadata": {},
   "source": [
    "Using `template.render` we can render the `ex2-config.yaml` file using the values supplied by the `ex2-values.yaml` to create a complete and ready to use config file."
   ]
  },
  {
   "cell_type": "code",
   "execution_count": 6,
   "id": "ce7f9265-4536-4163-9e2f-53aaa6ff0c63",
   "metadata": {},
   "outputs": [
    {
     "name": "stdout",
     "output_type": "stream",
     "text": [
      "user:\n",
      "  name: John Doe\n",
      "  favorite_food: burritos\n"
     ]
    }
   ],
   "source": [
    "source = \"fixtures/example/ex2-config.yaml\"\n",
    "\n",
    "vals = \"fixtures/example/ex2-values.yaml\"\n",
    "\n",
    "target = \"fixtures/example/ex2-rendered-config.yaml\"\n",
    "\n",
    "print(template.render(values_src=vals, values_format=\"yaml\", input_file=source, output_file=target))"
   ]
  },
  {
   "cell_type": "markdown",
   "id": "f5d0b35f-d894-4758-a462-81ffa88760c0",
   "metadata": {},
   "source": [
    "Let's take a look at the rendered file:"
   ]
  },
  {
   "cell_type": "code",
   "execution_count": 7,
   "id": "9fe7687f-5c6c-44fc-aaf7-92711ce97457",
   "metadata": {},
   "outputs": [
    {
     "name": "stdout",
     "output_type": "stream",
     "text": [
      "user:\n",
      "  name: John Doe\n",
      "  favorite_food: burritos\n"
     ]
    }
   ],
   "source": [
    "%%bash\n",
    "cat fixtures/example/ex2-rendered-config.yaml"
   ]
  },
  {
   "cell_type": "markdown",
   "id": "ea5eff92",
   "metadata": {},
   "source": [
    "## Example 3: Comparing two config files\n",
    "Let's explore using the `config.compare()` method to compare two config files."
   ]
  },
  {
   "cell_type": "markdown",
   "id": "71d27692",
   "metadata": {},
   "source": [
    "We again need to start by importing the `uwtools.api.config` from the `uwtools` python package."
   ]
  },
  {
   "cell_type": "code",
   "execution_count": 8,
   "id": "7fb40514",
   "metadata": {},
   "outputs": [],
   "source": [
    "from uwtools.api import config\n",
    "from uwtools.api.logging import use_uwtools_logger\n",
    "use_uwtools_logger()"
   ]
  },
  {
   "cell_type": "markdown",
   "id": "b0103f44",
   "metadata": {},
   "source": [
    "Please review the [config.compare() documentation](https://uwtools.readthedocs.io/en/main/sections/user_guide/api/config.html#uwtools.api.config.compare) for full information on this function's arguments."
   ]
  },
  {
   "cell_type": "markdown",
   "id": "b121dc29",
   "metadata": {},
   "source": [
    "For example, let's compare two Fortran namelist files with differences:"
   ]
  },
  {
   "cell_type": "code",
   "execution_count": 9,
   "id": "8279b5c6",
   "metadata": {},
   "outputs": [
    {
     "name": "stdout",
     "output_type": "stream",
     "text": [
      "&foo n=88, s=\"string\" /\n"
     ]
    }
   ],
   "source": [
    "%%bash\n",
    "cat fixtures/example/ex3-config-test-file-a.nml"
   ]
  },
  {
   "cell_type": "code",
   "execution_count": 10,
   "id": "e3232247",
   "metadata": {},
   "outputs": [
    {
     "name": "stdout",
     "output_type": "stream",
     "text": [
      "&FOO\n",
      "  S = \"string\"\n",
      "  N = 99\n",
      "/\n"
     ]
    }
   ],
   "source": [
    "%%bash\n",
    "cat fixtures/example/ex3-config-test-file-b.nml"
   ]
  },
  {
   "cell_type": "code",
   "execution_count": 11,
   "id": "5dcff125",
   "metadata": {},
   "outputs": [
    {
     "name": "stderr",
     "output_type": "stream",
     "text": [
      "[2024-08-18T10:24:32]     INFO - fixtures/example/ex3-config-test-file-a.nml\n",
      "[2024-08-18T10:24:32]     INFO + fixtures/example/ex3-config-test-file-b.nml\n",
      "[2024-08-18T10:24:32]     INFO ---------------------------------------------------------------------\n",
      "[2024-08-18T10:24:32]     INFO foo:               n:  - 88 + 99\n"
     ]
    },
    {
     "data": {
      "text/plain": [
       "False"
      ]
     },
     "execution_count": 11,
     "metadata": {},
     "output_type": "execute_result"
    }
   ],
   "source": [
    "file_a = \"fixtures/example/ex3-config-test-file-a.nml\"\n",
    "different_file_b = \"fixtures/example/ex3-config-test-file-b.nml\"\n",
    "config.compare(file_a, different_file_b)"
   ]
  },
  {
   "cell_type": "markdown",
   "id": "c16c38d0",
   "metadata": {},
   "source": [
    "The `config()` method returns `False` to denote the files are different. The UW logger shows the difference, of one file containing `n = 88`, and one file containing `n = 99`.\n",
    "\n",
    "Now to compare two semantically equivalent files:"
   ]
  },
  {
   "cell_type": "code",
   "execution_count": 12,
   "id": "370149a3",
   "metadata": {},
   "outputs": [
    {
     "name": "stdout",
     "output_type": "stream",
     "text": [
      "&foo n=88, s=\"string\" /\n"
     ]
    }
   ],
   "source": [
    "%%bash\n",
    "cat fixtures/example/ex3-config-test-file-a.nml"
   ]
  },
  {
   "cell_type": "code",
   "execution_count": 13,
   "id": "bd444fba",
   "metadata": {},
   "outputs": [
    {
     "name": "stdout",
     "output_type": "stream",
     "text": [
      "&FOO\n",
      "  S = \"string\"\n",
      "  N = 88\n",
      "/\n"
     ]
    }
   ],
   "source": [
    "%%bash\n",
    "cat fixtures/example/ex3-config-test-file-c.nml"
   ]
  },
  {
   "cell_type": "code",
   "execution_count": 14,
   "id": "9d658b72",
   "metadata": {},
   "outputs": [
    {
     "name": "stderr",
     "output_type": "stream",
     "text": [
      "[2024-08-18T10:24:35]     INFO - fixtures/example/ex3-config-test-file-a.nml\n",
      "[2024-08-18T10:24:35]     INFO + fixtures/example/ex3-config-test-file-c.nml\n",
      "[2024-08-18T10:24:35]     INFO ---------------------------------------------------------------------\n"
     ]
    },
    {
     "data": {
      "text/plain": [
       "True"
      ]
     },
     "execution_count": 14,
     "metadata": {},
     "output_type": "execute_result"
    }
   ],
   "source": [
    "file_a = \"fixtures/example/ex3-config-test-file-a.nml\"\n",
    "identical_file_c = \"fixtures/example/ex3-config-test-file-c.nml\"\n",
    "config.compare(file_a, identical_file_c)"
   ]
  },
  {
   "cell_type": "markdown",
   "id": "b84db243",
   "metadata": {},
   "source": [
    "The `config()` method returns `True` to denote the files are semantically equivalent."
   ]
  }
 ],
 "metadata": {
  "kernelspec": {
   "display_name": "Python [conda env:DEV-uwtools] *",
   "language": "python",
   "name": "conda-env-DEV-uwtools-py"
  },
  "language_info": {
   "codemirror_mode": {
    "name": "ipython",
    "version": 3
   },
   "file_extension": ".py",
   "mimetype": "text/x-python",
   "name": "python",
   "nbconvert_exporter": "python",
   "pygments_lexer": "ipython3",
   "version": "3.12.3"
  }
 },
 "nbformat": 4,
 "nbformat_minor": 5
}
