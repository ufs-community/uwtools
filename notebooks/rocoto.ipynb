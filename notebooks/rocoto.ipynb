{
 "cells": [
  {
   "cell_type": "markdown",
   "id": "c787c8df-e973-44d6-aa64-1f09c7a9a9d4",
   "metadata": {},
   "source": [
    "# Rocoto Tool\n",
    "\n",
    "The `uwtools` API's `rocoto` module provides functions to build and validate Rocoto workflows. For more information on the UW YAML language than what is discussed here, see the <a href=\"https://uwtools.readthedocs.io/en/main/sections/user_guide/yaml/rocoto.html\">Defining a Rocoto Workflow</a> page. For more on Rocoto XML documents, see the <a href=\"https://christopherwharrop.github.io/rocoto/\">Rocoto Documentation</a>.\n",
    "\n",
    "<div class=\"alert alert-warning\"><b>Note: </b>This notebook was tested using <code>uwtools</code> version 2.5.0. </div>\n",
    "<div class=\"alert alert-info\">For more information, please see the <a href=\"https://uwtools.readthedocs.io/en/2.5.0/sections/user_guide/api/rocoto.html\">uwtools.api.rocoto</a> Read the Docs page.</div>\n",
    "\n",
    "## Table of Contents\n",
    "* [Building Rocoto Workflows with UW YAML](#Building-Rocoto-Workflows-with-UW-YAML)\n",
    "  * [Entities and Cyclestrings](#Entities-and-Cyclestrings)\n",
    "  * [Tasks and Dependencies](#Tasks-and-Dependencies)\n",
    "  * [Metatasks](#Metatasks)\n",
    "* [Validating Workflows](#Validating-Workflows)\n",
    "<!--cell 0-->"
   ]
  },
  {
   "cell_type": "code",
   "execution_count": 1,
   "id": "7dd67340-6553-40e9-be68-d79c1979280c",
   "metadata": {},
   "outputs": [],
   "source": [
    "from pathlib import Path\n",
    "from uwtools.api import rocoto\n",
    "from uwtools.api.logging import use_uwtools_logger\n",
    "\n",
    "use_uwtools_logger()"
   ]
  },
  {
   "cell_type": "markdown",
   "id": "14ac9321-c59e-4149-bd08-7f2bcef1113e",
   "metadata": {},
   "source": [
    "## Building Rocoto Workflows with UW YAML\n",
    "\n",
    "The `rocoto.realize()` function uses a UW YAML language to create Rocoto workflows in XML format.\n",
    "<!--cell 2-->"
   ]
  },
  {
   "cell_type": "code",
   "execution_count": 2,
   "id": "1d10d514-d918-4cbd-aa61-c2be8ee9e298",
   "metadata": {},
   "outputs": [
    {
     "name": "stdout",
     "output_type": "stream",
     "text": [
      "Help on function realize in module uwtools.api.rocoto:\n",
      "\n",
      "realize(config: Union[uwtools.config.formats.yaml.YAMLConfig, pathlib.Path, str, NoneType], output_file: Union[str, pathlib.Path, NoneType] = None, stdin_ok: bool = False) -> bool\n",
      "    Realize the Rocoto workflow defined in the given YAML as XML.\n",
      "\n",
      "    If no input file is specified, ``stdin`` is read. A ``YAMLConfig`` object may also be provided\n",
      "    as input. If no output file is specified, ``stdout`` is written to. Both the input config and\n",
      "    output Rocoto XML will be validated against appropriate schemas.\n",
      "\n",
      "    :param config: YAML input file or ``YAMLConfig`` object (``None`` => read ``stdin``).\n",
      "    :param output_file: XML output file path (``None`` => write to ``stdout``).\n",
      "    :param stdin_ok: OK to read from ``stdin``?\n",
      "    :return: ``True``.\n",
      "\n"
     ]
    }
   ],
   "source": [
    "help(rocoto.realize)"
   ]
  },
  {
   "cell_type": "markdown",
   "id": "65694bbf-cce1-4979-b872-17d4aac8ae84",
   "metadata": {},
   "source": [
    "The following is an example of a simple workflow written in the UW YAML language. It uses a top-level `workflow:` block that contains all other blocks in the workflow. The workflow's global attributes are set within an `attrs:` block, and each workflow has two required attributes: `realtime` and `scheduler`. The `realtime` key indicates whether the workflow will be run in realtime or in retrospective mode, where a value of `true` means that the workflow will be run in realtime mode. The `scheduler` key tells Rocoto which batch system to use when submitting and monitoring jobs. Each workflow must contain a `cycledef:` block that defines one or more sets of cycles the workflow will iterate over. A set of cycles must be given using the `spec` key. This key may define a set of cycles using either the \"start stop step\" method or the \"crontab-like\" method. The \"start stop step\" method is used below. A `log:` block is required to define the path where Rocoto logs are written. At least one task must be defined in the `tasks:` block, which is discussed in the [Tasks and Dependencies](#Tasks-and-Dependencies) section of this notebook.\n",
    "\n",
    "The simple workflow below contains a minimal set of keys. For more on the UW YAML language, see the <a href=\"https://uwtools.readthedocs.io/en/main/sections/user_guide/yaml/rocoto.html\">Defining a Rocoto Workflow</a> page.\n",
    "<!--cell 4-->"
   ]
  },
  {
   "cell_type": "code",
   "execution_count": 3,
   "id": "9281ae4f-4d78-4401-bf6f-87d4b873e846",
   "metadata": {},
   "outputs": [
    {
     "name": "stdout",
     "output_type": "stream",
     "text": [
      "workflow:\n",
      "  attrs:\n",
      "    realtime: false\n",
      "    scheduler: slurm\n",
      "  cycledef:\n",
      "    - spec: 202410290000 202410300000 06:00:00\n",
      "  log: logs/test.log\n",
      "  tasks:\n",
      "    task_greet:\n",
      "      command: echo Hello, World!\n",
      "      cores: 1\n",
      "      walltime: 00:00:10\n"
     ]
    }
   ],
   "source": [
    "%%bash\n",
    "cat fixtures/rocoto/simple-workflow.yaml"
   ]
  },
  {
   "cell_type": "markdown",
   "id": "da06b1f6-7699-4e89-bbd0-de6a5e9ea0b7",
   "metadata": {},
   "source": [
    "Using `rocoto.realize()`, the UW YAML from above is translated to Rocoto XML. A `config` may be given as a string path, <a href=\"https://docs.python.org/3/library/pathlib.html#pathlib.Path\">Path</a> object, or `YAMLConfig` object. Likewise, the path to the XML output file may be defined by providing `output_file` with a string path or <a href=\"https://docs.python.org/3/library/pathlib.html#pathlib.Path\">Path</a> object. If `output_file` is omitted or set to `None`, the XML will be written to `stdout`. Both the input config and the output Rocoto XML are validated against appropriate schemas. The number of schema-validation errors, as well as details on the errors (if any), are reported.\n",
    "\n",
    "The `stdin_ok` argument can be used to permit configs to be read from `stdin` when `config` is omitted or set to `None`, but this is a rare use case beyond the scope of this notebook that will not be discussed here.\n",
    "<!--cell 6-->"
   ]
  },
  {
   "cell_type": "code",
   "execution_count": 4,
   "id": "983636f9-7c39-4f0e-a76e-e35129d2b9fe",
   "metadata": {},
   "outputs": [
    {
     "name": "stderr",
     "output_type": "stream",
     "text": [
      "[2024-11-19T23:15:43]     INFO 0 UW schema-validation errors found in Rocoto config\n",
      "[2024-11-19T23:15:43]     INFO 0 Rocoto XML validation errors found\n"
     ]
    },
    {
     "data": {
      "text/plain": [
       "True"
      ]
     },
     "execution_count": 4,
     "metadata": {},
     "output_type": "execute_result"
    }
   ],
   "source": [
    "rocoto.realize(\n",
    "    config=Path('fixtures/rocoto/simple-workflow.yaml'),\n",
    "    output_file='tmp/simple-workflow.xml'\n",
    ")"
   ]
  },
  {
   "cell_type": "markdown",
   "id": "12b07a2c-7f9c-4480-b165-9e3b5a0ced6d",
   "metadata": {},
   "source": [
    "The resulting Rocoto XML file is shown below. An XML header is automatically added without the need to explicitly define it in the UW YAML. Note how blocks from UW YAML language have been transformed into XML tags along with their attributes and values. For example, attributes defined by the `attrs:` block in the UW YAML have become attributes of the `<workflow>` tag in the XML.\n",
    "\n",
    "For more information on Rocoto workflows, including tags like the ones shown here and thier attributes, see the <a href=\"https://christopherwharrop.github.io/rocoto/\">Rocoto Documentation</a>.\n",
    "<!--cell 8-->"
   ]
  },
  {
   "cell_type": "code",
   "execution_count": 5,
   "id": "d895e1cf-e8af-437b-9a38-2b03ec34f527",
   "metadata": {},
   "outputs": [
    {
     "name": "stdout",
     "output_type": "stream",
     "text": [
      "<?xml version='1.0' encoding='utf-8'?>\n",
      "<workflow realtime=\"False\" scheduler=\"slurm\">\n",
      "  <cycledef>202410290000 202410300000 06:00:00</cycledef>\n",
      "  <log>logs/test.log</log>\n",
      "  <task name=\"greet\">\n",
      "    <cores>1</cores>\n",
      "    <walltime>00:00:10</walltime>\n",
      "    <command>echo Hello, World!</command>\n",
      "    <jobname>greet</jobname>\n",
      "  </task>\n",
      "</workflow>\n"
     ]
    }
   ],
   "source": [
    "%%bash\n",
    "cat tmp/simple-workflow.xml"
   ]
  },
  {
   "cell_type": "markdown",
   "id": "39f50dbd-e3f3-4e1e-a10b-f622f635b16b",
   "metadata": {},
   "source": [
    "The following workflow is missing required components: `workflow` doesn't contain a `realtime` attribute, a `log:` block isn't included, and `task_greet` doesn't include a `command`.\n",
    "<!--cell 10-->"
   ]
  },
  {
   "cell_type": "code",
   "execution_count": 6,
   "id": "56d04e6b-5fa2-4c93-ac2f-c95fa23c888e",
   "metadata": {},
   "outputs": [
    {
     "name": "stdout",
     "output_type": "stream",
     "text": [
      "workflow:\n",
      "  attrs:\n",
      "    scheduler: slurm\n",
      "  cycledef:\n",
      "    - spec: 202410290000 202410300000 06:00:00\n",
      "  tasks:\n",
      "    task_greet:\n",
      "      cores: 1\n",
      "      walltime: 00:00:10\n"
     ]
    }
   ],
   "source": [
    "%%bash\n",
    "cat fixtures/rocoto/err-workflow.yaml"
   ]
  },
  {
   "cell_type": "markdown",
   "id": "f102c6ca-c8a5-4f9c-8e40-b5fa040bbeab",
   "metadata": {},
   "source": [
    "When validation errors occur, `realize()` raises an exception indicating what type of error occurred. Here, the YAML validation errors cause a `UWConfigError` to be raised. The number of validation errors present and their locations within the workflow structure are also shown.\n",
    "<!--cell 12-->"
   ]
  },
  {
   "cell_type": "code",
   "execution_count": 7,
   "id": "16704f19-cbca-4765-8c72-16512fc96e9b",
   "metadata": {},
   "outputs": [
    {
     "name": "stderr",
     "output_type": "stream",
     "text": [
      "[2024-11-19T23:15:43]    ERROR 3 UW schema-validation errors found in Rocoto config\n",
      "[2024-11-19T23:15:43]    ERROR Error at workflow -> attrs:\n",
      "[2024-11-19T23:15:43]    ERROR   'realtime' is a required property\n",
      "[2024-11-19T23:15:43]    ERROR Error at workflow -> tasks -> task_greet:\n",
      "[2024-11-19T23:15:43]    ERROR   'command' is a required property\n",
      "[2024-11-19T23:15:43]    ERROR Error at workflow:\n",
      "[2024-11-19T23:15:43]    ERROR   'log' is a required property\n"
     ]
    },
    {
     "name": "stdout",
     "output_type": "stream",
     "text": [
      "YAML validation errors <class 'uwtools.exceptions.UWConfigError'>\n"
     ]
    }
   ],
   "source": [
    "try:\n",
    "    rocoto.realize(\n",
    "        config=Path('fixtures/rocoto/err-workflow.yaml'),\n",
    "        output_file='tmp/err-workflow.xml'\n",
    "    )\n",
    "except Exception as e:\n",
    "    print(e, type(e))"
   ]
  },
  {
   "cell_type": "markdown",
   "id": "cbad7aef-02b6-43a3-9241-349affa2f71c",
   "metadata": {},
   "source": [
    "### Entities and Cyclestrings\n",
    "\n",
    "Constants called entities may be defined so that their values can be referenced throughout the rest of the Rocoto XML. These are defined in an `entities:` block, with their names and values given as keys and values in the YAML. Below, an entity named `LOG` is defined with a string value. This value is referred elsewhere in the Rocoto XML with the syntax `&ENTITY_NAME;`. In this case, note the `&LOG;` entity within the `log:` block.\n",
    "<!--cell 14-->"
   ]
  },
  {
   "cell_type": "code",
   "execution_count": 8,
   "id": "074a6e7e-7c05-4037-b954-06eba8ae2241",
   "metadata": {},
   "outputs": [
    {
     "name": "stdout",
     "output_type": "stream",
     "text": [
      "workflow:\n",
      "  attrs:\n",
      "    realtime: false\n",
      "    scheduler: slurm\n",
      "  cycledef:\n",
      "    - spec: 202410290000 202410300000 06:00:00\n",
      "  entities:\n",
      "    LOG: \"2024-10-29/test06:00:00.log\"\n",
      "  log: logs/&LOG;\n",
      "  tasks:\n",
      "    task_greet:\n",
      "      command: echo Hello, World!\n",
      "      cores: 1\n",
      "      walltime: 00:00:10\n"
     ]
    }
   ],
   "source": [
    "%%bash\n",
    "cat fixtures/rocoto/ent-workflow.yaml"
   ]
  },
  {
   "cell_type": "markdown",
   "id": "34cbb0e1-ac5f-4764-afbb-9574966542c6",
   "metadata": {},
   "source": [
    "Cycle strings represent dynamic cycle time components that are represented by specific flags and are rendered when Rocoto runs the XML. Here, the `LOG` entity contains `@Y`, `@m`, `@d` and `@X` flags that represent the year, month, day, and time relative to a cycle defined by the `cycledefs:` entry. For more information on these flags, see the <a href=\"https://christopherwharrop.github.io/rocoto/\">Rocoto Documentation</a>. A `cyclestr:` block is used to mark a string containing cycle string flags for rendering when Rocoto runs. Here, since the `LOG` entity contains these flags, a `cyclestr:` block within the `log:` block indicates that the flags should be rendered when Rocoto runs. This string itself is contained in a `value` key.\n",
    "<!--cell 16-->"
   ]
  },
  {
   "cell_type": "code",
   "execution_count": 9,
   "id": "e4df500f-6b11-4c0e-ac44-3a5443d0ee02",
   "metadata": {},
   "outputs": [
    {
     "name": "stdout",
     "output_type": "stream",
     "text": [
      "workflow:\n",
      "  attrs:\n",
      "    realtime: false\n",
      "    scheduler: slurm\n",
      "  cycledef:\n",
      "    - spec: 202410290000 202410300000 06:00:00\n",
      "  entities:\n",
      "    LOG: \"@Y-@m-@d/test@X.log\"\n",
      "  log: \n",
      "    cyclestr:\n",
      "      value: logs/&LOG;\n",
      "  tasks:\n",
      "    task_greet:\n",
      "      command: echo Hello, World!\n",
      "      cores: 1\n",
      "      walltime: 00:00:10\n"
     ]
    }
   ],
   "source": [
    "%%bash\n",
    "cat fixtures/rocoto/ent-cs-workflow.yaml"
   ]
  },
  {
   "cell_type": "markdown",
   "id": "305485ae-1676-473c-ad4e-5521145b5663",
   "metadata": {},
   "source": [
    "As before, the `realize()` function transforms the UW YAML into Rocoto XML.\n",
    "<!--cell 18-->"
   ]
  },
  {
   "cell_type": "code",
   "execution_count": 10,
   "id": "5f1b9dcd-87cf-41c3-ab3c-e581e2967214",
   "metadata": {},
   "outputs": [
    {
     "name": "stderr",
     "output_type": "stream",
     "text": [
      "[2024-11-19T23:15:43]     INFO 0 UW schema-validation errors found in Rocoto config\n",
      "[2024-11-19T23:15:43]     INFO 0 Rocoto XML validation errors found\n"
     ]
    },
    {
     "data": {
      "text/plain": [
       "True"
      ]
     },
     "execution_count": 10,
     "metadata": {},
     "output_type": "execute_result"
    }
   ],
   "source": [
    "rocoto.realize(\n",
    "    config='fixtures/rocoto/ent-cs-workflow.yaml',\n",
    "    output_file='tmp/ent-cs-workflow.xml'\n",
    ")"
   ]
  },
  {
   "cell_type": "markdown",
   "id": "3f28d943-5e39-412b-8708-865a63030e29",
   "metadata": {},
   "source": [
    "Here we see the Rocoto XML with the addition of an entity and a `<cyclestr>` tag. The entity is defined in the header of the XML document, and the `<cyclestr>` tag is added within the `<log>` tag.\n",
    "<!--cell 20-->"
   ]
  },
  {
   "cell_type": "code",
   "execution_count": 11,
   "id": "1a1bea14-dbae-4e7d-96f7-0ec552b0e25a",
   "metadata": {},
   "outputs": [
    {
     "name": "stdout",
     "output_type": "stream",
     "text": [
      "<?xml version='1.0' encoding='utf-8'?>\n",
      "<!DOCTYPE workflow [\n",
      "  <!ENTITY LOG \"@Y-@m-@d/test@X.log\">\n",
      "]>\n",
      "<workflow realtime=\"False\" scheduler=\"slurm\">\n",
      "  <cycledef>202410290000 202410300000 06:00:00</cycledef>\n",
      "  <log>\n",
      "    <cyclestr>logs/&LOG;</cyclestr>\n",
      "  </log>\n",
      "  <task name=\"greet\">\n",
      "    <cores>1</cores>\n",
      "    <walltime>00:00:10</walltime>\n",
      "    <command>echo Hello, World!</command>\n",
      "    <jobname>greet</jobname>\n",
      "  </task>\n",
      "</workflow>\n"
     ]
    }
   ],
   "source": [
    "%%bash\n",
    "cat tmp/ent-cs-workflow.xml"
   ]
  },
  {
   "cell_type": "markdown",
   "id": "6b339d55-8506-443e-9b7b-0d943aaf4641",
   "metadata": {},
   "source": [
    "### Tasks and Dependencies\n",
    "\n",
    "A `tasks:` block defines all tasks in a Rocoto workflow. Each task is contained within its own block, where the key is `task_` followed by the name of the task. There are two tasks in the example below, `task_bacon` and `task_eggs`. In the Rocoto XML, two separate `<task>` tags will be created with their `name` attributes set to \"bacon\" and \"eggs\" respectively. Each task must contain a command to execute indicated by the `command` key and an amount of time to request when submitting the task for execution indicated by the `walltime` key. Each task must also contain either a `cores`, `nodes`, or `native` key to request a given number of nodes/cores used to execute the task. The `task_bacon:` block below requests 1 core, while the `task_eggs:` block requests 4 cores on 1 node.\n",
    "<!--cell 22-->"
   ]
  },
  {
   "cell_type": "code",
   "execution_count": 12,
   "id": "33c67471-84a1-4b0f-b0bd-40f805e6615f",
   "metadata": {},
   "outputs": [
    {
     "name": "stdout",
     "output_type": "stream",
     "text": [
      "workflow:\n",
      "  attrs:\n",
      "    realtime: false\n",
      "    scheduler: slurm\n",
      "  cycledef:\n",
      "    - spec: 202410290000 202410300000 06:00:00\n",
      "  log: logs/test.log\n",
      "  tasks:\n",
      "    task_bacon:\n",
      "      command: \"echo Cooking bacon...\"\n",
      "      cores: 1\n",
      "      walltime: 00:00:10\n",
      "    task_eggs:\n",
      "      command: \"echo Cooking eggs...\"\n",
      "      nodes: 1:ppn=4\n",
      "      walltime: 00:00:10\n"
     ]
    }
   ],
   "source": [
    "%%bash\n",
    "cat fixtures/rocoto/tasks-workflow.yaml"
   ]
  },
  {
   "cell_type": "markdown",
   "id": "08e9c593-7ba1-45da-8f1a-99389c9dfdf5",
   "metadata": {},
   "source": [
    "Each task may optionally have one or more dependencies that must be accounted for before a task runs. These are specified using a `dependency:` block within the `task_*` block that the dependencies apply to. Dependencies are structured as boolean expressions using a variety of keys that may define specific types of dependencies like task or data dependencies. They may also group dependencies together using boolean operators keys like `and` or `or`. For a full list of possible tags, see the <a href=\"https://christopherwharrop.github.io/rocoto/\">Rocoto Documentation</a>. \n",
    "\n",
    "Below, the `task_eggs:` block includes one data dependency indicated by the `datadep` key, plus a `value` key that identifies the required data. The `task_serve:` block includes two task dependencies for the bacon and eggs tasks. Since there are multiple dependencies here, they need to be contained within a boolean operator block that describes how to deal with the group of dependencies which may not all have the same level of completion. Here the `and:` block indicates that all of the individual tasks (i.e. `task_eggs`) within need to be completed. The two task dependencies must have unique names since they exist at the same level, and they are differentiated here using the `_name` suffix. To prevent circular dependencies, task dependencies must have a `task` attribute that indicates the name of a task that is already defined above it. Similar to the `workflow:` block, an `attrs:` block is used here to add attributes to `taskdep`, and the `task` key specifies the value of the task attribute.\n",
    "<!--cell 24-->"
   ]
  },
  {
   "cell_type": "code",
   "execution_count": 13,
   "id": "be4d4488-9ff6-4a6d-ace0-464e21f31116",
   "metadata": {},
   "outputs": [
    {
     "name": "stdout",
     "output_type": "stream",
     "text": [
      "workflow:\n",
      "  attrs:\n",
      "    realtime: false\n",
      "    scheduler: slurm\n",
      "  cycledef:\n",
      "    - spec: 202410290000 202410300000 06:00:00\n",
      "  log: logs/test.log\n",
      "  tasks:\n",
      "    task_bacon:\n",
      "      command: \"echo Cooking bacon...\"\n",
      "      cores: 1\n",
      "      walltime: 00:00:10\n",
      "    task_eggs:\n",
      "      command: \"echo Cooking eggs...\"\n",
      "      nodes: 1:ppn=4\n",
      "      walltime: 00:00:10\n",
      "      dependency:\n",
      "        datadep:\n",
      "          value: eggs_recipe.txt\n",
      "    task_serve:\n",
      "      command: \"echo Serving breakfast...\"\n",
      "      cores: 2\n",
      "      walltime: 00:00:01\n",
      "      dependency:\n",
      "        and:\n",
      "          taskdep_eggs:\n",
      "            attrs:\n",
      "              task: bacon\n",
      "          taskdep_bacon:\n",
      "            attrs:\n",
      "              task: eggs\n"
     ]
    }
   ],
   "source": [
    "%%bash\n",
    "cat fixtures/rocoto/tasks-deps-workflow.yaml"
   ]
  },
  {
   "cell_type": "markdown",
   "id": "c6015712-f144-4640-9be8-1cd651df74b9",
   "metadata": {},
   "source": [
    "Here, the `realize()` function transforms this UW YAML into Rocoto XML.\n",
    "<!--cell 26-->"
   ]
  },
  {
   "cell_type": "code",
   "execution_count": 14,
   "id": "001ac8ed-0f31-4012-bc63-55d63848e1d4",
   "metadata": {},
   "outputs": [
    {
     "name": "stderr",
     "output_type": "stream",
     "text": [
      "[2024-11-19T23:15:43]     INFO 0 UW schema-validation errors found in Rocoto config\n",
      "[2024-11-19T23:15:43]     INFO 0 Rocoto XML validation errors found\n"
     ]
    },
    {
     "data": {
      "text/plain": [
       "True"
      ]
     },
     "execution_count": 14,
     "metadata": {},
     "output_type": "execute_result"
    }
   ],
   "source": [
    "rocoto.realize(\n",
    "    config='fixtures/rocoto/tasks-deps-workflow.yaml',\n",
    "    output_file='tmp/tasks-deps-workflow.xml'\n",
    ")"
   ]
  },
  {
   "cell_type": "markdown",
   "id": "dc87e5aa-aa21-4bbf-8204-389c355a1bbd",
   "metadata": {},
   "source": [
    "Note how each task has its own tag in the Rocoto XML document, with name attributes that came from the unique suffixes of the `task_` keys. While the bacon task contains no `<dependency>` tag, the eggs and serve tasks do. Within the serve task's dependencies, the `<and>` tag describes the need for both of the two task dependencies to be fulfilled. Each `<taskdep>` task dependency uses the `task` attribute to point to a previously named task. \n",
    "<!--cell 28-->"
   ]
  },
  {
   "cell_type": "code",
   "execution_count": 15,
   "id": "7b9ecc04-9851-4e34-985f-d908285dc8e2",
   "metadata": {},
   "outputs": [
    {
     "name": "stdout",
     "output_type": "stream",
     "text": [
      "<?xml version='1.0' encoding='utf-8'?>\n",
      "<workflow realtime=\"False\" scheduler=\"slurm\">\n",
      "  <cycledef>202410290000 202410300000 06:00:00</cycledef>\n",
      "  <log>logs/test.log</log>\n",
      "  <task name=\"bacon\">\n",
      "    <cores>1</cores>\n",
      "    <walltime>00:00:10</walltime>\n",
      "    <command>echo Cooking bacon...</command>\n",
      "    <jobname>bacon</jobname>\n",
      "  </task>\n",
      "  <task name=\"eggs\">\n",
      "    <nodes>1:ppn=4</nodes>\n",
      "    <walltime>00:00:10</walltime>\n",
      "    <command>echo Cooking eggs...</command>\n",
      "    <jobname>eggs</jobname>\n",
      "    <dependency>\n",
      "      <datadep>eggs_recipe.txt</datadep>\n",
      "    </dependency>\n",
      "  </task>\n",
      "  <task name=\"serve\">\n",
      "    <cores>2</cores>\n",
      "    <walltime>00:00:01</walltime>\n",
      "    <command>echo Serving breakfast...</command>\n",
      "    <jobname>serve</jobname>\n",
      "    <dependency>\n",
      "      <and>\n",
      "        <taskdep task=\"bacon\"/>\n",
      "        <taskdep task=\"eggs\"/>\n",
      "      </and>\n",
      "    </dependency>\n",
      "  </task>\n",
      "</workflow>\n"
     ]
    }
   ],
   "source": [
    "%%bash\n",
    "cat tmp/tasks-deps-workflow.xml"
   ]
  },
  {
   "cell_type": "markdown",
   "id": "f88d22e0-3433-482d-aeb3-44bbb8cf840f",
   "metadata": {},
   "source": [
    "### Metatasks\n",
    "\n",
    "Metatasks define one or more tasks that are similar to one another using a substitution of values. Like tasks, metatask block keys use a suffix after an underscore to name a particular metatask. The metatask in the example below will have a `name=breakfast` attribute in its `<metatask>` tag in the XML document. The values to substitute are defined in a `var:` block, and this block contains one or more keys representing the name of a list of values. The values in the list are separated by spaces. The number of tasks defined by a metatask is equal to the number of values in any list in the `var:` block. In the example below, two lists named `food` and `prepare` contain three values each, so three tasks are defined by this metatask. It is necessary that each list defined in a metatask has the same number of values. The values are referenced using the name of the list that contains the values bracketed by pound signs, as seen in the `task_#food#` key and in the following `command` string. \n",
    "<!--cell 30-->"
   ]
  },
  {
   "cell_type": "code",
   "execution_count": 16,
   "id": "6c8a8b8e-62b0-47f1-b5e3-763aef2e71ea",
   "metadata": {},
   "outputs": [
    {
     "name": "stdout",
     "output_type": "stream",
     "text": [
      "workflow:\n",
      "  attrs:\n",
      "    realtime: false\n",
      "    scheduler: slurm\n",
      "  cycledef:\n",
      "    - spec: 202410290000 202410300000 06:00:00\n",
      "  log: logs/test.log\n",
      "  tasks:\n",
      "    metatask_breakfast:\n",
      "      var:\n",
      "        food: biscuits OJ hashbrowns\n",
      "        prepare: bake pour fry\n",
      "      task_#food#:\n",
      "        command: \"echo It's time for breakfast, #prepare# the #food#!\"\n",
      "        cores: 1\n",
      "        walltime: 00:00:03\n"
     ]
    }
   ],
   "source": [
    "%%bash\n",
    "cat fixtures/rocoto/meta-workflow.yaml"
   ]
  },
  {
   "cell_type": "markdown",
   "id": "8c2457c5-e305-4c4c-9020-3eb5553d2ba6",
   "metadata": {},
   "source": [
    "Similar to previous examples, `realize()` transforms the metatask workflow to Rocoto XML.\n",
    "<!--cell 32-->"
   ]
  },
  {
   "cell_type": "code",
   "execution_count": 17,
   "id": "112a7586-5fef-46a0-83a5-f7016257fe9b",
   "metadata": {},
   "outputs": [
    {
     "name": "stderr",
     "output_type": "stream",
     "text": [
      "[2024-11-19T23:15:43]     INFO 0 UW schema-validation errors found in Rocoto config\n",
      "[2024-11-19T23:15:43]     INFO 0 Rocoto XML validation errors found\n"
     ]
    },
    {
     "data": {
      "text/plain": [
       "True"
      ]
     },
     "execution_count": 17,
     "metadata": {},
     "output_type": "execute_result"
    }
   ],
   "source": [
    "rocoto.realize(\n",
    "    config='fixtures/rocoto/meta-workflow.yaml',\n",
    "    output_file='tmp/meta-workflow.xml'\n",
    ")"
   ]
  },
  {
   "cell_type": "markdown",
   "id": "0b078044-50fb-4158-b68e-aa0001621f7b",
   "metadata": {},
   "source": [
    "The XML document below shows how the `<metatask>` tag and each of its child tags efficiently define multiple similar tasks. Like previous examples, name attributes for task-related tags are created here from the suffixes of their keys in the UW YAML. Note that `<var>` names were derived from full key names in the `var:` block. The `<task>`, `<command>`, and `<jobname>` tags each contain strings that will receive substitute values wherever the placeholders `#food#` or `#prepare#` appear.\n",
    "<!--cell 34-->"
   ]
  },
  {
   "cell_type": "code",
   "execution_count": 18,
   "id": "3ac7f1af-44cf-440a-8b4f-6f63e4e98fee",
   "metadata": {},
   "outputs": [
    {
     "name": "stdout",
     "output_type": "stream",
     "text": [
      "<?xml version='1.0' encoding='utf-8'?>\n",
      "<workflow realtime=\"False\" scheduler=\"slurm\">\n",
      "  <cycledef>202410290000 202410300000 06:00:00</cycledef>\n",
      "  <log>logs/test.log</log>\n",
      "  <metatask name=\"breakfast\">\n",
      "    <var name=\"food\">biscuits OJ hashbrowns</var>\n",
      "    <var name=\"prepare\">bake pour fry</var>\n",
      "    <task name=\"#food#\">\n",
      "      <cores>1</cores>\n",
      "      <walltime>00:00:03</walltime>\n",
      "      <command>echo It's time for breakfast, #prepare# the #food#!</command>\n",
      "      <jobname>#food#</jobname>\n",
      "    </task>\n",
      "  </metatask>\n",
      "</workflow>\n"
     ]
    }
   ],
   "source": [
    "%%bash\n",
    "cat tmp/meta-workflow.xml"
   ]
  },
  {
   "cell_type": "markdown",
   "id": "d9c5ccad-07c4-4aad-aadd-e0343949f9fa",
   "metadata": {},
   "source": [
    "Metatasks may be nested to create tasks using combinatorial lists of variables. This will create sets of tasks where each `var` value in a parent metatask applies to every child metatask. In the example below, a parent metatask contains a `var` named `process` with values `bake`, `cool`, and `store`. Its child metatask contains a `var` named `food` with values `cookies` and `cakes`. Tasks will be created to bake, cool, and store both cookies and cakes. Note that `var:` blocks at different levels do not necessarily contain the same number of values. \n",
    "<!--cell 36-->"
   ]
  },
  {
   "cell_type": "code",
   "execution_count": 19,
   "id": "69797f73-2475-449f-b036-2529f4379440",
   "metadata": {},
   "outputs": [
    {
     "name": "stdout",
     "output_type": "stream",
     "text": [
      "workflow:\n",
      "  attrs:\n",
      "    realtime: false\n",
      "    scheduler: slurm\n",
      "  cycledef:\n",
      "    - spec: 202410290000 202410300000 06:00:00\n",
      "  log: logs/test.log\n",
      "  tasks:\n",
      "    metatask_process:\n",
      "      var:\n",
      "        process: bake cool store\n",
      "      metatask_process_food:\n",
      "        var:\n",
      "          food: cookies cakes\n",
      "        task_#process#_#food#:\n",
      "          command: \"echo It's time to #process# the #food#.\"\n",
      "          nodes: 1:ppn=4\n",
      "          walltime: 00:00:30\n"
     ]
    }
   ],
   "source": [
    "%%bash\n",
    "cat fixtures/rocoto/meta-nested-workflow.yaml"
   ]
  },
  {
   "cell_type": "markdown",
   "id": "40e85303-be55-4ebc-8f78-d9a0373cbf09",
   "metadata": {},
   "source": [
    "## Validating Workflows\n",
    "\n",
    "The `rocoto.validate()` function checks the content of a Rocoto XML file against its schema, detecting and reporting any errors.\n",
    "<!--cell 38-->"
   ]
  },
  {
   "cell_type": "code",
   "execution_count": 20,
   "id": "6a681e6d-800c-4d9f-87a0-270e72dcb7be",
   "metadata": {},
   "outputs": [
    {
     "name": "stdout",
     "output_type": "stream",
     "text": [
      "Help on function validate in module uwtools.api.rocoto:\n",
      "\n",
      "validate(xml_file: Union[str, pathlib.Path, NoneType] = None, stdin_ok: bool = False) -> bool\n",
      "    Validate purported Rocoto XML file against its schema.\n",
      "\n",
      "    :param xml_file: Path to XML file (``None`` or unspecified => read ``stdin``).\n",
      "    :param stdin_ok: OK to read from ``stdin``?\n",
      "    :return: ``True`` if the XML conforms to the schema, ``False`` otherwise.\n",
      "\n"
     ]
    }
   ],
   "source": [
    "help(rocoto.validate)"
   ]
  },
  {
   "cell_type": "markdown",
   "id": "91f72e92-083c-4c36-90d8-1860133fe33b",
   "metadata": {},
   "source": [
    "The following Rocoto XML is identical that generated in the [Building Rocoto Workflows with UW YAML](#Building-Rocoto-Workflows-with-UW-YAML) section above.\n",
    "<!--cell 40-->"
   ]
  },
  {
   "cell_type": "code",
   "execution_count": 21,
   "id": "22a8fe77-2094-4139-9ff2-91dc897c3af3",
   "metadata": {},
   "outputs": [
    {
     "name": "stdout",
     "output_type": "stream",
     "text": [
      "<?xml version='1.0' encoding='utf-8'?>\n",
      "<workflow realtime=\"False\" scheduler=\"slurm\">\n",
      "  <cycledef>202410290000 202410300000 06:00:00</cycledef>\n",
      "  <log>logs/test.log</log>\n",
      "  <task name=\"greet\">\n",
      "    <cores>1</cores>\n",
      "    <walltime>00:00:10</walltime>\n",
      "    <command>echo Hello, World!</command>\n",
      "    <jobname>greet</jobname>\n",
      "  </task>\n",
      "</workflow>\n"
     ]
    }
   ],
   "source": [
    "%%bash\n",
    "cat fixtures/rocoto/simple-workflow.xml"
   ]
  },
  {
   "cell_type": "markdown",
   "id": "bb04cf78-1afd-48eb-8673-803fbabac836",
   "metadata": {},
   "source": [
    "`validate()` accepts <a href=\"https://docs.python.org/3/library/pathlib.html#pathlib.Path\">Path</a> objects or string paths passed via the `xml_file` parameter. (If `xml_file` is omitted or `None`, and `stdin_ok` is `True`, XML will be read from `stdin`, but this is a rare use case that won't be covered here.) The function returns `True` if the XML is validated without any errors, and `False` otherwise. The number of schema-validation errors, as well as details on the errors (if any), are reported.\n",
    "<!--cell 42-->"
   ]
  },
  {
   "cell_type": "code",
   "execution_count": 22,
   "id": "fcbf5ffd-7722-4801-b6f7-5867248d471d",
   "metadata": {},
   "outputs": [
    {
     "name": "stderr",
     "output_type": "stream",
     "text": [
      "[2024-11-19T23:15:43]     INFO 0 Rocoto XML validation errors found\n"
     ]
    },
    {
     "data": {
      "text/plain": [
       "True"
      ]
     },
     "execution_count": 22,
     "metadata": {},
     "output_type": "execute_result"
    }
   ],
   "source": [
    "rocoto.validate(\n",
    "    xml_file=\"fixtures/rocoto/simple-workflow.xml\"\n",
    ")"
   ]
  },
  {
   "cell_type": "markdown",
   "id": "57e975e2-c46e-421b-8b5a-45c4f62afdd0",
   "metadata": {},
   "source": [
    "The following Rocoto XML is missing two required components: `<workflow>`'s `scheduler` attribute and a `<cycledef>` tag.\n",
    "<!--cell 44-->"
   ]
  },
  {
   "cell_type": "code",
   "execution_count": 23,
   "id": "9788207b-3c1f-4b60-bd4d-9c8a75666b24",
   "metadata": {},
   "outputs": [
    {
     "name": "stdout",
     "output_type": "stream",
     "text": [
      "<?xml version='1.0' encoding='utf-8'?>\n",
      "<workflow realtime=\"False\">\n",
      "  <log>logs/test.log</log>\n",
      "  <task name=\"greet\">\n",
      "    <cores>1</cores>\n",
      "    <walltime>00:00:10</walltime>\n",
      "    <command>echo Hello, World!</command>\n",
      "    <jobname>greet</jobname>\n",
      "  </task>\n",
      "</workflow>\n"
     ]
    }
   ],
   "source": [
    "%%bash\n",
    "cat fixtures/rocoto/err-workflow.xml"
   ]
  },
  {
   "cell_type": "markdown",
   "id": "f407c4a5-a5a6-4546-b23b-390c9bb52f9b",
   "metadata": {},
   "source": [
    "When Rocoto validation errors are found, `validate()` returns `False`. Details are reported regarding the types of errors and number of errors found. For more information on required Rocoto XML components, see the <a href=\"https://christopherwharrop.github.io/rocoto/\">Rocoto Documentation</a>.\n",
    "<!--cell 46-->"
   ]
  },
  {
   "cell_type": "code",
   "execution_count": 24,
   "id": "54fcfb54-361d-47ef-9379-4b235fa54316",
   "metadata": {},
   "outputs": [
    {
     "name": "stderr",
     "output_type": "stream",
     "text": [
      "[2024-11-19T23:15:43]    ERROR 4 Rocoto XML validation errors found\n",
      "[2024-11-19T23:15:43]    ERROR <string>:2:0:ERROR:RELAXNGV:RELAXNG_ERR_ATTRVALID: Element workflow failed to validate attributes\n",
      "[2024-11-19T23:15:43]    ERROR <string>:2:0:ERROR:RELAXNGV:RELAXNG_ERR_NOELEM: Expecting an element cycledef, got nothing\n",
      "[2024-11-19T23:15:43]    ERROR <string>:2:0:ERROR:RELAXNGV:RELAXNG_ERR_INTERSEQ: Invalid sequence in interleave\n",
      "[2024-11-19T23:15:43]    ERROR <string>:2:0:ERROR:RELAXNGV:RELAXNG_ERR_CONTENTVALID: Element workflow failed to validate content\n",
      "[2024-11-19T23:15:43]    ERROR Invalid Rocoto XML:\n",
      "[2024-11-19T23:15:43]    ERROR  1 <?xml version='1.0' encoding='utf-8'?>\n",
      "[2024-11-19T23:15:43]    ERROR  2 <workflow realtime=\"False\">\n",
      "[2024-11-19T23:15:43]    ERROR  3   <log>logs/test.log</log>\n",
      "[2024-11-19T23:15:43]    ERROR  4   <task name=\"greet\">\n",
      "[2024-11-19T23:15:43]    ERROR  5     <cores>1</cores>\n",
      "[2024-11-19T23:15:43]    ERROR  6     <walltime>00:00:10</walltime>\n",
      "[2024-11-19T23:15:43]    ERROR  7     <command>echo Hello, World!</command>\n",
      "[2024-11-19T23:15:43]    ERROR  8     <jobname>greet</jobname>\n",
      "[2024-11-19T23:15:43]    ERROR  9   </task>\n",
      "[2024-11-19T23:15:43]    ERROR 10 </workflow>\n"
     ]
    },
    {
     "data": {
      "text/plain": [
       "False"
      ]
     },
     "execution_count": 24,
     "metadata": {},
     "output_type": "execute_result"
    }
   ],
   "source": [
    "rocoto.validate(\n",
    "    xml_file=Path(\"fixtures/rocoto/err-workflow.xml\")\n",
    ")"
   ]
  }
 ],
 "metadata": {
  "kernelspec": {
   "display_name": "Python [conda env:DEV-uwtools] *",
   "language": "python",
   "name": "conda-env-DEV-uwtools-py"
  },
  "language_info": {
   "codemirror_mode": {
    "name": "ipython",
    "version": 3
   },
   "file_extension": ".py",
   "mimetype": "text/x-python",
   "name": "python",
   "nbconvert_exporter": "python",
   "pygments_lexer": "ipython3",
   "version": "3.12.3"
  }
 },
 "nbformat": 4,
 "nbformat_minor": 5
}
