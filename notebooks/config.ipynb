{
 "cells": [
  {
   "cell_type": "markdown",
   "id": "d023d283-7e1d-4e75-95b8-5033bea42a59",
   "metadata": {},
   "source": [
    "# Config Tool\n",
    "\n",
    "The `uwtools` API's `config` module provides functions to  \n",
    "\n",
    "For more information, please see the <a href=\"https://uwtools.readthedocs.io/en/main/sections/user_guide/api/config.html\">uwtools.api.fs</a> Read the Docs page.\n",
    "\n",
    "## Table of Contents\n",
    "\n",
    "* [Getting Configuration Objects](#Getting-Configuration-Objects)\n",
    "* [Realizing Configurations](#Realizing-Configurations)"
   ]
  },
  {
   "cell_type": "code",
   "execution_count": 10,
   "id": "6d02d033-0992-4990-861d-3f80d09d7083",
   "metadata": {},
   "outputs": [],
   "source": [
    "from pathlib import Path\n",
    "from uwtools.api import config\n",
    "from uwtools.api.logging import use_uwtools_logger\n",
    "\n",
    "use_uwtools_logger()"
   ]
  },
  {
   "cell_type": "markdown",
   "id": "212594bb-379f-4441-805e-af0dbabe1815",
   "metadata": {},
   "source": [
    "## Getting Configuration Objects\n",
    "\n",
    "The `config` tool supports the creation of configuration objects via Python ``dict`` or via five different file types: FieldTable, INI, Namelist, Shell, and YAML. "
   ]
  },
  {
   "cell_type": "code",
   "execution_count": 11,
   "id": "c6e049df-38f6-4879-8e0d-68356226d94b",
   "metadata": {},
   "outputs": [
    {
     "name": "stdout",
     "output_type": "stream",
     "text": [
      "greeting: Hello\n",
      "recipient: World\n"
     ]
    }
   ],
   "source": [
    "%%bash\n",
    "cat fixtures/config/getConfig.yaml"
   ]
  },
  {
   "cell_type": "code",
   "execution_count": 12,
   "id": "cc3020a6-4eb4-4830-9263-a9fc8fac7450",
   "metadata": {},
   "outputs": [
    {
     "name": "stdout",
     "output_type": "stream",
     "text": [
      "greeting: Hello\n",
      "recipient: World\n"
     ]
    }
   ],
   "source": [
    "config1 = config.get_yaml_config(\n",
    "    config=Path(\"fixtures/config/getConfig.yaml\")\n",
    ")\n",
    "print(config1)"
   ]
  },
  {
   "cell_type": "code",
   "execution_count": 13,
   "id": "f01ac223-4a02-40ba-822f-8e66ad39f313",
   "metadata": {},
   "outputs": [
    {
     "name": "stdout",
     "output_type": "stream",
     "text": [
      "greeting: Hi\n",
      "recipient: Earth\n"
     ]
    }
   ],
   "source": [
    "config2 = config.get_yaml_config(\n",
    "    config={\"greeting\":\"Hi\", \"recipient\":\"Earth\"}\n",
    ")\n",
    "print(config2)"
   ]
  },
  {
   "cell_type": "markdown",
   "id": "e4403333-c247-465f-9a75-f96d1be914f6",
   "metadata": {},
   "source": [
    "## Realizing Configurations"
   ]
  },
  {
   "cell_type": "code",
   "execution_count": 17,
   "id": "77873e14-db3c-417d-be7a-2ba12c9a38f6",
   "metadata": {},
   "outputs": [
    {
     "data": {
      "text/plain": [
       "{'greeting': 'Hello', 'recipient': 'World'}"
      ]
     },
     "execution_count": 17,
     "metadata": {},
     "output_type": "execute_result"
    }
   ],
   "source": [
    "config.realize(\n",
    "input_config=config1,\n",
    "output_file='tmp/realize-config.yaml'\n",
    ")"
   ]
  },
  {
   "cell_type": "code",
   "execution_count": null,
   "id": "c7292225-186d-4402-9198-b82a55b2f80b",
   "metadata": {},
   "outputs": [],
   "source": []
  }
 ],
 "metadata": {
  "kernelspec": {
   "display_name": "Python [conda env:DEV-uwtools] *",
   "language": "python",
   "name": "conda-env-DEV-uwtools-py"
  },
  "language_info": {
   "codemirror_mode": {
    "name": "ipython",
    "version": 3
   },
   "file_extension": ".py",
   "mimetype": "text/x-python",
   "name": "python",
   "nbconvert_exporter": "python",
   "pygments_lexer": "ipython3",
   "version": "3.12.3"
  }
 },
 "nbformat": 4,
 "nbformat_minor": 5
}
