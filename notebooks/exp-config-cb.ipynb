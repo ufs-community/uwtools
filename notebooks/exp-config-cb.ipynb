{
 "cells": [
  {
   "cell_type": "markdown",
   "id": "46a75a26-d2b7-4e44-8c35-01851975dd69",
   "metadata": {},
   "source": [
    "# Building and Validating an Experiment Configuration\n",
    "\n",
    "<div class=\"alert alert-warning\"><b>Note: </b>This notebook was tested using <code>uwtools</code> version 2.4.2.</div>\n",
    "\n",
    "This notebook demonstrates how to build up a configuration file for generating FV3 initial conditions (ICs) from a hierarchy of smaller, purpose-specific files; dereferencing Jinja2 expressions in the configuration; and validating the final configuration to check for potential errors. A larger, more complex experimental setup could be built up by applying similar techniques.\n",
    "<!--cell 0-->"
   ]
  },
  {
   "cell_type": "code",
   "execution_count": 1,
   "id": "3a872d35-99f1-434c-927e-5c8fee3f0f2d",
   "metadata": {},
   "outputs": [],
   "source": [
    "from datetime import datetime, timedelta\n",
    "from uwtools.api.config import get_yaml_config\n",
    "from uwtools.api import chgres_cube\n",
    "from uwtools.api.logging import use_uwtools_logger\n",
    "\n",
    "use_uwtools_logger()"
   ]
  },
  {
   "cell_type": "markdown",
   "id": "8834e2e9-8c1e-4791-b110-2f1916f7289e",
   "metadata": {},
   "source": [
    "We start with a base file that configures the `chgres_cube` component to generate FV3 ICs for use with the default physics suite, controlled by the `varmap_file` key:\n",
    "<!--cell 2-->"
   ]
  },
  {
   "cell_type": "code",
   "execution_count": 2,
   "id": "8b42bfca-18ae-48b1-a7ad-a1b76b9e24a8",
   "metadata": {},
   "outputs": [
    {
     "name": "stdout",
     "output_type": "stream",
     "text": [
      "task_make_ics:\n",
      "  chgres_cube:\n",
      "    execution:\n",
      "      executable: \"execdir/chgres_cube\"\n",
      "    namelist:\n",
      "      update_values:\n",
      "        config:\n",
      "          cycle_day: !int \"{{ cycle.strftime('%d') }}\"\n",
      "          cycle_hour: !int \"{{ cycle.strftime('%H') }}\"\n",
      "          cycle_mon: !int \"{{ cycle.strftime('%m') }}\"\n",
      "          convert_atm: true\n",
      "          convert_nst: true\n",
      "          convert_sfc: true\n",
      "          data_dir_input_grid: \"{{ task_make_ics.chgres_cube.rundir }}\"\n",
      "          external_model: \"GFS\"\n",
      "          input_type: \"gaussian_nemsio\"\n",
      "          mosaic_file_target_grid: \"path/to/example_mosaic.halo.nc\"\n",
      "          tg3_from_soil: false\n",
      "          tracers:\n",
      "            - sphum\n",
      "            - liq_wat\n",
      "          tracers_input:\n",
      "            - spfh\n",
      "            - clwmr\n",
      "          varmap_file: \"{{ user.PARMdir }}/ufs_utils/varmap_tables/GFSphys_var_map.txt\"\n",
      "          vcoord_file_target_grid: \"path/to/global_hyblev.165.txt\"\n",
      "    rundir: '{{ workflow.EXPTDIR }}/make_ics'\n"
     ]
    }
   ],
   "source": [
    "%%bash\n",
    "cat fixtures/exp-config/base-file.yaml"
   ]
  },
  {
   "cell_type": "markdown",
   "id": "dece324c-ee0e-4c0b-9913-79d63c36ec4e",
   "metadata": {},
   "source": [
    "To produce ICs compatible with the FV3_RAP physics suite instead, this partial configuration can be used to update the base:\n",
    "<!--cell 4-->"
   ]
  },
  {
   "cell_type": "code",
   "execution_count": 3,
   "id": "e7fbe2c2-90af-446c-b398-621d91c763c9",
   "metadata": {},
   "outputs": [
    {
     "name": "stdout",
     "output_type": "stream",
     "text": [
      "task_make_ics:\n",
      "  chgres_cube:\n",
      "    namelist:\n",
      "      update_values:\n",
      "        config:\n",
      "          varmap_file: \"{{ user.PARMdir }}/ufs_utils/varmap_tables/GSDphys_var_map.txt\"\n"
     ]
    }
   ],
   "source": [
    "%%bash\n",
    "cat fixtures/exp-config/fv3-rap-physics.yaml"
   ]
  },
  {
   "cell_type": "markdown",
   "id": "cfe8bf85-7f11-40d3-af95-f60ddf12318f",
   "metadata": {},
   "source": [
    "User- and experiment-specific values can be supplied via a third configuration file:\n",
    "<!--cell 6-->"
   ]
  },
  {
   "cell_type": "code",
   "execution_count": 4,
   "id": "d3bbf762-b4fc-49d8-90e4-e7851c9da49a",
   "metadata": {},
   "outputs": [
    {
     "name": "stdout",
     "output_type": "stream",
     "text": [
      "user:\n",
      "  ACCOUNT: zrtrr\n",
      "  MACHINE: hera\n",
      "  PARMdir: /path/to/ufs-srweather-app/parm\n",
      "workflow: \n",
      "  EXPTDIR: /path/to/my/output\n"
     ]
    }
   ],
   "source": [
    "%%bash\n",
    "cat fixtures/exp-config/user.yaml"
   ]
  },
  {
   "cell_type": "markdown",
   "id": "a3d1ca1f-1750-4a67-94d4-99d2c3c9db91",
   "metadata": {},
   "source": [
    "Structuring the configuration as a hierarchy of increasing specificity provides a better user experience through separation of concerns: Users can see why certain values are changing, and can mix together app-supplied fragments with known-good values into larger experiment configurations.\n",
    "\n",
    "Here, we start by instantiating a `YAMLConfig` object from the most general base config file, which contains unrendered Jinja2 expressions and is missing certain user- and experiment-specific values:\n",
    "<!--cell 8-->"
   ]
  },
  {
   "cell_type": "code",
   "execution_count": 5,
   "id": "4bda78dc-33ee-4a23-82a8-271b40abca7b",
   "metadata": {},
   "outputs": [
    {
     "name": "stdout",
     "output_type": "stream",
     "text": [
      "task_make_ics:\n",
      "  chgres_cube:\n",
      "    execution:\n",
      "      executable: execdir/chgres_cube\n",
      "    namelist:\n",
      "      update_values:\n",
      "        config:\n",
      "          cycle_day: !int '{{ cycle.strftime(''%d'') }}'\n",
      "          cycle_hour: !int '{{ cycle.strftime(''%H'') }}'\n",
      "          cycle_mon: !int '{{ cycle.strftime(''%m'') }}'\n",
      "          convert_atm: true\n",
      "          convert_nst: true\n",
      "          convert_sfc: true\n",
      "          data_dir_input_grid: '{{ task_make_ics.chgres_cube.rundir }}'\n",
      "          external_model: GFS\n",
      "          input_type: gaussian_nemsio\n",
      "          mosaic_file_target_grid: path/to/example_mosaic.halo.nc\n",
      "          tg3_from_soil: false\n",
      "          tracers:\n",
      "          - sphum\n",
      "          - liq_wat\n",
      "          tracers_input:\n",
      "          - spfh\n",
      "          - clwmr\n",
      "          varmap_file: '{{ user.PARMdir }}/ufs_utils/varmap_tables/GFSphys_var_map.txt'\n",
      "          vcoord_file_target_grid: path/to/global_hyblev.165.txt\n",
      "    rundir: '{{ workflow.EXPTDIR }}/make_ics'\n"
     ]
    }
   ],
   "source": [
    "experiment_config = get_yaml_config('fixtures/exp-config/base-file.yaml')\n",
    "print(experiment_config)"
   ]
  },
  {
   "cell_type": "markdown",
   "id": "bc6e47f6-ed03-41ef-bacf-b1790b5bf56f",
   "metadata": {},
   "source": [
    "Next, we define a list of additional config files, iterate over those, and update the base config with each, in turn. Note that, if the configs share any keys, the values from the update will override and replace existing ones. For example, the original `varmap_file:` path to file `GFSphys_var_map.txt` is updated with a path to file `GSDphys_var_map.txt`:\n",
    "<!--cell 10-->"
   ]
  },
  {
   "cell_type": "code",
   "execution_count": 6,
   "id": "e863d5ac-f727-4d91-a4bd-9bf813d35e6c",
   "metadata": {},
   "outputs": [
    {
     "name": "stdout",
     "output_type": "stream",
     "text": [
      "task_make_ics:\n",
      "  chgres_cube:\n",
      "    execution:\n",
      "      executable: execdir/chgres_cube\n",
      "    namelist:\n",
      "      update_values:\n",
      "        config:\n",
      "          cycle_day: !int '{{ cycle.strftime(''%d'') }}'\n",
      "          cycle_hour: !int '{{ cycle.strftime(''%H'') }}'\n",
      "          cycle_mon: !int '{{ cycle.strftime(''%m'') }}'\n",
      "          convert_atm: true\n",
      "          convert_nst: true\n",
      "          convert_sfc: true\n",
      "          data_dir_input_grid: '{{ task_make_ics.chgres_cube.rundir }}'\n",
      "          external_model: GFS\n",
      "          input_type: gaussian_nemsio\n",
      "          mosaic_file_target_grid: path/to/example_mosaic.halo.nc\n",
      "          tg3_from_soil: false\n",
      "          tracers:\n",
      "          - sphum\n",
      "          - liq_wat\n",
      "          tracers_input:\n",
      "          - spfh\n",
      "          - clwmr\n",
      "          varmap_file: '{{ user.PARMdir }}/ufs_utils/varmap_tables/GSDphys_var_map.txt'\n",
      "          vcoord_file_target_grid: path/to/global_hyblev.165.txt\n",
      "    rundir: '{{ workflow.EXPTDIR }}/make_ics'\n",
      "user:\n",
      "  ACCOUNT: zrtrr\n",
      "  MACHINE: hera\n",
      "  PARMdir: /path/to/ufs-srweather-app/parm\n",
      "workflow:\n",
      "  EXPTDIR: /path/to/my/output\n"
     ]
    }
   ],
   "source": [
    "config_files = [\n",
    "    'fixtures/exp-config/fv3-rap-physics.yaml',\n",
    "    'fixtures/exp-config/user.yaml'\n",
    "]\n",
    "for config_file in config_files:\n",
    "    config = get_yaml_config(config_file)\n",
    "    experiment_config.update_from(config)\n",
    "\n",
    "print(experiment_config)"
   ]
  },
  {
   "cell_type": "markdown",
   "id": "aa43fe3c-6d35-49c2-b2fc-20c178ed30c3",
   "metadata": {},
   "source": [
    "Once the hierarchy of configs is merged, we call the `dereference()` method to render Jinja2 expressions into final values. Keys like `varmap_file:` and `rundir:` have their values rendered using references to the `PARMdir` and `EXPTDIR` keys in the `user` and `workflow` sections, respectively. Expressions with cycle-specific references remain, and will be rendered at run time.\n",
    "<!--cell 12-->"
   ]
  },
  {
   "cell_type": "code",
   "execution_count": 7,
   "id": "0fc07baf-1094-4d8c-a51e-c4e541ae4df6",
   "metadata": {},
   "outputs": [
    {
     "name": "stdout",
     "output_type": "stream",
     "text": [
      "task_make_ics:\n",
      "  chgres_cube:\n",
      "    execution:\n",
      "      executable: execdir/chgres_cube\n",
      "    namelist:\n",
      "      update_values:\n",
      "        config:\n",
      "          cycle_day: !int '{{ cycle.strftime(''%d'') }}'\n",
      "          cycle_hour: !int '{{ cycle.strftime(''%H'') }}'\n",
      "          cycle_mon: !int '{{ cycle.strftime(''%m'') }}'\n",
      "          convert_atm: true\n",
      "          convert_nst: true\n",
      "          convert_sfc: true\n",
      "          data_dir_input_grid: /path/to/my/output/make_ics\n",
      "          external_model: GFS\n",
      "          input_type: gaussian_nemsio\n",
      "          mosaic_file_target_grid: path/to/example_mosaic.halo.nc\n",
      "          tg3_from_soil: false\n",
      "          tracers:\n",
      "          - sphum\n",
      "          - liq_wat\n",
      "          tracers_input:\n",
      "          - spfh\n",
      "          - clwmr\n",
      "          varmap_file: /path/to/ufs-srweather-app/parm/ufs_utils/varmap_tables/GSDphys_var_map.txt\n",
      "          vcoord_file_target_grid: path/to/global_hyblev.165.txt\n",
      "    rundir: /path/to/my/output/make_ics\n",
      "user:\n",
      "  ACCOUNT: zrtrr\n",
      "  MACHINE: hera\n",
      "  PARMdir: /path/to/ufs-srweather-app/parm\n",
      "workflow:\n",
      "  EXPTDIR: /path/to/my/output\n"
     ]
    }
   ],
   "source": [
    "experiment_config.dereference()\n",
    "print(experiment_config)"
   ]
  },
  {
   "cell_type": "markdown",
   "id": "5103465d-1a64-4b66-b9cb-09910633f8e1",
   "metadata": {},
   "source": [
    "To catch potential configuration errors as early as possible, the `uwtools` driver for `chgres_cube` is called to validate the config using a built-in schema. The driver requires a `cycle` parameter with a `datetime` value, and the current time is used here. As the output shows, no schema-validation errors are found\n",
    "<!--cell 14-->"
   ]
  },
  {
   "cell_type": "code",
   "execution_count": 8,
   "id": "f9f0c0df-821e-492a-9669-3ac5e43e3151",
   "metadata": {},
   "outputs": [
    {
     "name": "stderr",
     "output_type": "stream",
     "text": [
      "[2024-11-19T23:14:15]     INFO Validating config against internal schema: chgres-cube\n",
      "[2024-11-19T23:14:15]     INFO 0 UW schema-validation errors found in chgres_cube config\n",
      "[2024-11-19T23:14:15]     INFO Validating config against internal schema: platform\n",
      "[2024-11-19T23:14:15]     INFO 0 UW schema-validation errors found in platform config\n",
      "[2024-11-19T23:14:15]     INFO 20241120 05:14:15 chgres_cube valid schema: State: Ready\n"
     ]
    },
    {
     "data": {
      "text/plain": [
       "Asset(ref=None, ready=<function Assets.validate.<locals>.<lambda> at 0xffff685ad6c0>)"
      ]
     },
     "execution_count": 8,
     "metadata": {},
     "output_type": "execute_result"
    }
   ],
   "source": [
    "driver = chgres_cube.ChgresCube(\n",
    "    config=experiment_config,\n",
    "    key_path=['task_make_ics'],\n",
    "    cycle=datetime.now(),\n",
    "    leadtime=timedelta(hours=6),\n",
    ")\n",
    "driver.validate()"
   ]
  }
 ],
 "metadata": {
  "kernelspec": {
   "display_name": "Python 3 (ipykernel)",
   "language": "python",
   "name": "python3"
  },
  "language_info": {
   "codemirror_mode": {
    "name": "ipython",
    "version": 3
   },
   "file_extension": ".py",
   "mimetype": "text/x-python",
   "name": "python",
   "nbconvert_exporter": "python",
   "pygments_lexer": "ipython3",
   "version": "3.12.7"
  }
 },
 "nbformat": 4,
 "nbformat_minor": 5
}
