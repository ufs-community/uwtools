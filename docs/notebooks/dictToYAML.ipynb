{
 "cells": [
  {
   "cell_type": "code",
   "execution_count": 1,
   "id": "4ffa1fcd-9e3d-4177-a137-5d3b88be497e",
   "metadata": {},
   "outputs": [],
   "source": [
    "import uwtools.api.config as config"
   ]
  },
  {
   "cell_type": "code",
   "execution_count": 4,
   "id": "71957053-4264-42d5-a4e7-43b50a0ed4e4",
   "metadata": {},
   "outputs": [
    {
     "data": {
      "text/plain": [
       "values:\n",
       "  date: 20240105\n",
       "  greeting: Good Night\n",
       "  recipient: Moon\n",
       "  repeat: 2"
      ]
     },
     "execution_count": 4,
     "metadata": {},
     "output_type": "execute_result"
    }
   ],
   "source": [
    "# An example Python dictionary\n",
    "example = {\"values\":{\"date\":20240105, \"greeting\":\"Good Night\", \"recipient\":\"Moon\", \"repeat\":2}}\n",
    "\n",
    "# Build a YAML config file from the dictionary\n",
    "config.get_yaml_config(example)"
   ]
  },
  {
   "cell_type": "code",
   "execution_count": null,
   "id": "22e97042-de70-4a04-81fd-dabadab9ba3c",
   "metadata": {},
   "outputs": [],
   "source": []
  }
 ],
 "metadata": {
  "kernelspec": {
   "display_name": "Python 3 (ipykernel)",
   "language": "python",
   "name": "python3"
  },
  "language_info": {
   "codemirror_mode": {
    "name": "ipython",
    "version": 3
   },
   "file_extension": ".py",
   "mimetype": "text/x-python",
   "name": "python",
   "nbconvert_exporter": "python",
   "pygments_lexer": "ipython3",
   "version": "3.12.3"
  }
 },
 "nbformat": 4,
 "nbformat_minor": 5
}
